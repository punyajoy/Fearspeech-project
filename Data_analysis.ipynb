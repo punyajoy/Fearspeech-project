{
 "cells": [
  {
   "cell_type": "code",
   "execution_count": 1,
   "metadata": {},
   "outputs": [],
   "source": [
    "from tqdm import tqdm_notebook\n",
    "import pandas as pd\n",
    "import seaborn as sns\n",
    "import json\n",
    "import matplotlib.pyplot as plt\n",
    "import pickle5 as pickle\n",
    "from glob import glob\n",
    "from datetime import datetime\n",
    "import re\n",
    "import numpy as np\n",
    "from matplotlib.colors import ListedColormap\n",
    "from scipy.stats import mannwhitneyu\n"
   ]
  },
  {
   "cell_type": "code",
   "execution_count": 2,
   "metadata": {},
   "outputs": [],
   "source": [
    "threshold={'hatespeech':0.9,'fearspeech':0.7,'normal':0.7}"
   ]
  },
  {
   "cell_type": "code",
   "execution_count": 3,
   "metadata": {},
   "outputs": [],
   "source": [
    "dict_labels={'hatespeech':2,'fearspeech':1,'normal':0}\n",
    "reverse_dict_labels={dict_labels[key]:key for key in dict_labels.keys()}"
   ]
  },
  {
   "cell_type": "code",
   "execution_count": 4,
   "metadata": {},
   "outputs": [],
   "source": [
    "import re\n",
    "import urllib.parse as urlparse\n",
    "import emoji\n",
    "\n",
    "\n",
    "GENERIC_TLDS = [\n",
    "    'aero', 'asia', 'biz', 'com', 'coop', 'edu', 'gov', 'info', 'int', 'jobs', \n",
    "    'mil', 'mobi', 'museum', 'name', 'net', 'org', 'pro', 'tel', 'travel', 'cat'\n",
    "    ]\n",
    "\n",
    "def extract_emojis(line):\n",
    "    return [c for c in line if c in emoji.UNICODE_EMOJI['en']]\n",
    "\n",
    "def return_meta_info(element):\n",
    "    dict_meta_info={}\n",
    "    dict_meta_info['id']=element['id']\n",
    "    dict_meta_info['reposts']=element['repost_count']\n",
    "    dict_meta_info['replies']=element['reply_count']\n",
    "    dict_meta_info['like_count']=element['like_count']\n",
    "    return dict_meta_info\n",
    "\n",
    "\n",
    "def get_domain(url):\n",
    "    hostname = urlparse.urlparse(url.lower()).netloc\n",
    "    if hostname == '':\n",
    "        # Force the recognition as a full URL\n",
    "        hostname = urlparse.urlparse('http://' + url).netloc\n",
    "\n",
    "    # Remove the 'user:passw', 'www.' and ':port' parts\n",
    "    hostname = hostname.split('@')[-1].split(':')[0].lstrip('www.').split('.')\n",
    "\n",
    "    num_parts = len(hostname)\n",
    "    if (num_parts < 3) or (len(hostname[-1]) > 2):\n",
    "        return '.'.join(hostname[:-1])\n",
    "    if len(hostname[-2]) > 2 and hostname[-2] not in GENERIC_TLDS:\n",
    "        return '.'.join(hostname[:-1])\n",
    "    if num_parts >= 3:\n",
    "        return '.'.join(hostname[:-2])\n",
    "\n",
    "\n",
    "\n",
    "def return_text_info(element):\n",
    "    temp=element['post_body']\n",
    "    all_emojis=extract_emojis(temp)\n",
    "    #all_urls= re.findall('(?:(?:https?|ftp):\\/\\/)?[\\w/\\-?=%.]+\\.[\\w/\\-&?=%.]+', temp)\n",
    "    all_urls = re.findall('https?://(?:[-\\w.]|(?:%[\\da-fA-F]{2}))+', temp)\n",
    "    all_hashtags=re.findall(r\"#(\\w+)\", temp)\n",
    "    \n",
    "    dict_text_info={\n",
    "        'num_hashtags':len(all_hashtags),\n",
    "        'num_urls':len(all_urls),\n",
    "        'num_emojis':len(all_emojis)\n",
    "    }\n",
    "    \n",
    "    \n",
    "    emoji_dict={}\n",
    "    url_dict={}\n",
    "    hashtag_dict={}\n",
    "    \n",
    "    for emoji in all_emojis:\n",
    "        try:\n",
    "            emoji_dict[emoji]+=1\n",
    "        except KeyError:\n",
    "            emoji_dict[emoji]=1\n",
    "            \n",
    "    for hashtag in all_hashtags:\n",
    "        try:\n",
    "            hashtag_dict[hashtag]+=1\n",
    "        except KeyError:\n",
    "            hashtag_dict[hashtag]=1\n",
    "    for url in all_urls:\n",
    "        try:\n",
    "            url_dict[get_domain(url)]+=1\n",
    "        except KeyError:\n",
    "            url_dict[get_domain(url)]=1\n",
    "        \n",
    "\n",
    "    return dict_text_info,emoji_dict,url_dict,hashtag_dict"
   ]
  },
  {
   "cell_type": "code",
   "execution_count": 5,
   "metadata": {},
   "outputs": [
    {
     "name": "stderr",
     "output_type": "stream",
     "text": [
      "<ipython-input-5-df87712f04eb>:16: TqdmDeprecationWarning: This function will be removed in tqdm==5.0.0\n",
      "Please use `tqdm.notebook.tqdm` instead of `tqdm.tqdm_notebook`\n",
      "  for file in tqdm_notebook(files,total=len(files)):\n"
     ]
    },
    {
     "data": {
      "application/vnd.jupyter.widget-view+json": {
       "model_id": "4dbb97c7ffd24b38adcf2157d8d7c069",
       "version_major": 2,
       "version_minor": 0
      },
      "text/plain": [
       "  0%|          | 0/212 [00:00<?, ?it/s]"
      ]
     },
     "metadata": {},
     "output_type": "display_data"
    },
    {
     "ename": "KeyboardInterrupt",
     "evalue": "",
     "output_type": "error",
     "traceback": [
      "\u001b[0;31m---------------------------------------------------------------------------\u001b[0m",
      "\u001b[0;31mKeyboardInterrupt\u001b[0m                         Traceback (most recent call last)",
      "\u001b[0;32m<ipython-input-5-df87712f04eb>\u001b[0m in \u001b[0;36m<module>\u001b[0;34m\u001b[0m\n\u001b[1;32m     24\u001b[0m         \u001b[0;32mtry\u001b[0m\u001b[0;34m:\u001b[0m\u001b[0;34m\u001b[0m\u001b[0;34m\u001b[0m\u001b[0m\n\u001b[1;32m     25\u001b[0m             \u001b[0mdt\u001b[0m \u001b[0;34m=\u001b[0m \u001b[0mdatetime\u001b[0m\u001b[0;34m.\u001b[0m\u001b[0mfromisoformat\u001b[0m\u001b[0;34m(\u001b[0m\u001b[0melement\u001b[0m\u001b[0;34m[\u001b[0m\u001b[0;34m'post_create_time'\u001b[0m\u001b[0;34m]\u001b[0m\u001b[0;34m)\u001b[0m\u001b[0;34m\u001b[0m\u001b[0;34m\u001b[0m\u001b[0m\n\u001b[0;32m---> 26\u001b[0;31m             \u001b[0mkey_new\u001b[0m\u001b[0;34m=\u001b[0m\u001b[0mstr\u001b[0m\u001b[0;34m(\u001b[0m\u001b[0mdt\u001b[0m\u001b[0;34m.\u001b[0m\u001b[0mmonth\u001b[0m\u001b[0;34m)\u001b[0m\u001b[0;34m+\u001b[0m\u001b[0;34m'/'\u001b[0m\u001b[0;34m+\u001b[0m\u001b[0mstr\u001b[0m\u001b[0;34m(\u001b[0m\u001b[0mdt\u001b[0m\u001b[0;34m.\u001b[0m\u001b[0myear\u001b[0m\u001b[0;34m)\u001b[0m\u001b[0;34m\u001b[0m\u001b[0;34m\u001b[0m\u001b[0m\n\u001b[0m\u001b[1;32m     27\u001b[0m         \u001b[0;32mexcept\u001b[0m \u001b[0mKeyError\u001b[0m\u001b[0;34m:\u001b[0m\u001b[0;34m\u001b[0m\u001b[0;34m\u001b[0m\u001b[0m\n\u001b[1;32m     28\u001b[0m             \u001b[0;32mcontinue\u001b[0m\u001b[0;34m\u001b[0m\u001b[0;34m\u001b[0m\u001b[0m\n",
      "\u001b[0;31mKeyboardInterrupt\u001b[0m: "
     ]
    }
   ],
   "source": [
    "fear=0\n",
    "hate=0\n",
    "both=0\n",
    "total=0\n",
    "dict_per_date={}\n",
    "dict_post_meta_info={}\n",
    "dict_text_property={}\n",
    "dict_emoji={'fearspeech':{},'hatespeech':{},'both':{},'total':{}}\n",
    "dict_domain={'fearspeech':{},'hatespeech':{},'both':{},'total':{}}\n",
    "dict_hashtag={'fearspeech':{},'hatespeech':{},'both':{},'total':{}}\n",
    "\n",
    "\n",
    "\n",
    "\n",
    "files = sorted(glob('../../Gab_Data/new_features_old_gab/gab_fear_hate_features*.pickle'))\n",
    "for file in tqdm_notebook(files,total=len(files)):\n",
    "    with open(file, 'rb') as handle:\n",
    "        Gab_keyword_match = pickle.load(handle)\n",
    "        \n",
    "    if('predicted_probab' not in Gab_keyword_match[1].keys()):\n",
    "        continue\n",
    "    \n",
    "    for element in Gab_keyword_match:\n",
    "        try:\n",
    "            dt = datetime.fromisoformat(element['post_create_time'])\n",
    "            key_new=str(dt.month)+'/'+str(dt.year)\n",
    "        except KeyError:\n",
    "            continue\n",
    "            \n",
    "        dict_meta_info_temp=return_meta_info(element)\n",
    "        dict_text_property_temp,dict_emoji_temp,dict_domain_temp,dict_hashtag_temp=return_text_info(element)\n",
    "        \n",
    "        \n",
    "        \n",
    "        dict_meta_info_temp['label_probab']={}\n",
    "        \n",
    "        try:\n",
    "            temp=dict_per_date[key_new]\n",
    "        except:\n",
    "            dict_per_date[key_new]={'fearspeech':0,'hatespeech':0,'both':0,'none':0,'total':0}\n",
    "\n",
    "        labels=[]\n",
    "\n",
    "        for i in range(len(element['predicted_probab'])):\n",
    "            dict_meta_info_temp['label_probab'][reverse_dict_labels[i]]=element['predicted_probab'][i]\n",
    "        \n",
    "            if(element['predicted_probab'][i]>threshold[reverse_dict_labels[i]]):\n",
    "                labels.append(reverse_dict_labels[i])\n",
    "        \n",
    "        dict_return_info=return_meta_info(element)\n",
    "        \n",
    "        \n",
    "        if(('fearspeech' in labels) and ('hatespeech' in labels)):\n",
    "            dict_per_date[key_new]['both']+=1\n",
    "            dict_meta_info_temp['label']='both'\n",
    "            both+=1\n",
    "        elif('fearspeech' in labels):\n",
    "            dict_per_date[key_new]['fearspeech']+=1\n",
    "            dict_meta_info_temp['label']='fearspeech'\n",
    "            fear+=1\n",
    "        elif('hatespeech' in labels):\n",
    "            dict_per_date[key_new]['hatespeech']+=1\n",
    "            dict_meta_info_temp['label']='hatespeech'\n",
    "            hate+=1\n",
    "        else:\n",
    "            dict_per_date[key_new]['none']+=1\n",
    "            dict_meta_info_temp['label']='none'\n",
    "        dict_per_date[key_new]['total']+=1\n",
    "        \n",
    "        dict_text_property_temp['label']=dict_meta_info_temp['label']\n",
    "        \n",
    "        for key in dict_emoji_temp:\n",
    "            if(dict_meta_info_temp['label']!='none'):\n",
    "                try:\n",
    "                    dict_emoji[dict_meta_info_temp['label']][key]+=dict_emoji_temp[key]\n",
    "                except KeyError:\n",
    "                    dict_emoji[dict_meta_info_temp['label']][key]=dict_emoji_temp[key]\n",
    "\n",
    "            \n",
    "            try:\n",
    "                dict_emoji['total'][key]+=dict_emoji_temp[key]\n",
    "            except KeyError:\n",
    "                dict_emoji['total'][key]=dict_emoji_temp[key]\n",
    "        \n",
    "        \n",
    "        \n",
    "        for key in dict_domain_temp:\n",
    "            if(dict_meta_info_temp['label']!='none'):\n",
    "                try:\n",
    "                    dict_domain[dict_meta_info_temp['label']][key]+=dict_domain_temp[key]\n",
    "                except KeyError:\n",
    "                    dict_domain[dict_meta_info_temp['label']][key]=dict_domain_temp[key]\n",
    "\n",
    "            \n",
    "            try:\n",
    "                dict_domain['total'][key]+=dict_domain_temp[key]\n",
    "            except KeyError:\n",
    "                dict_domain['total'][key]=dict_domain_temp[key]\n",
    "        \n",
    "        \n",
    "        for key in dict_hashtag_temp:\n",
    "            if(dict_meta_info_temp['label']!='none'):\n",
    "                try:\n",
    "                    dict_hashtag[dict_meta_info_temp['label']][key]+=dict_hashtag_temp[key]\n",
    "                except KeyError:\n",
    "                    dict_hashtag[dict_meta_info_temp['label']][key]=dict_hashtag_temp[key]\n",
    "\n",
    "            \n",
    "            try:\n",
    "                dict_hashtag['total'][key]+=dict_hashtag_temp[key]\n",
    "            except KeyError:\n",
    "                dict_hashtag['total'][key]=dict_hashtag_temp[key]\n",
    "        \n",
    "        \n",
    "        \n",
    "        total+=1\n",
    "        key_id=total\n",
    "        dict_post_meta_info[key_id]=dict_meta_info_temp\n",
    "        dict_text_property[key_id]=dict_text_property_temp"
   ]
  },
  {
   "cell_type": "code",
   "execution_count": 7,
   "metadata": {},
   "outputs": [
    {
     "data": {
      "text/plain": [
       "7493"
      ]
     },
     "execution_count": 7,
     "metadata": {},
     "output_type": "execute_result"
    }
   ],
   "source": [
    "len(dict_domain['hatespeech'])"
   ]
  },
  {
   "cell_type": "code",
   "execution_count": 8,
   "metadata": {},
   "outputs": [
    {
     "data": {
      "text/plain": [
       "14"
      ]
     },
     "execution_count": 8,
     "metadata": {},
     "output_type": "execute_result"
    }
   ],
   "source": [
    "len(dict_domain['both'])"
   ]
  },
  {
   "cell_type": "code",
   "execution_count": 9,
   "metadata": {},
   "outputs": [
    {
     "data": {
      "text/plain": [
       "131289"
      ]
     },
     "execution_count": 9,
     "metadata": {},
     "output_type": "execute_result"
    }
   ],
   "source": [
    "len(dict_domain['total'])"
   ]
  },
  {
   "cell_type": "code",
   "execution_count": 10,
   "metadata": {},
   "outputs": [
    {
     "data": {
      "text/plain": [
       "{'rundblick-unna': 1}"
      ]
     },
     "execution_count": 10,
     "metadata": {},
     "output_type": "execute_result"
    }
   ],
   "source": [
    "dict_domain_temp"
   ]
  },
  {
   "cell_type": "code",
   "execution_count": 7,
   "metadata": {},
   "outputs": [
    {
     "data": {
      "text/plain": [
       "{'id': 16634209,\n",
       " 'reposts': 0,\n",
       " 'replies': 2,\n",
       " 'like_count': 3,\n",
       " 'label_probab': {'normal': 0.75161284,\n",
       "  'fearspeech': 0.048907783,\n",
       "  'hatespeech': 0.2500133},\n",
       " 'label': 'none'}"
      ]
     },
     "execution_count": 7,
     "metadata": {},
     "output_type": "execute_result"
    }
   ],
   "source": [
    "dict_post_meta_info[key_id]"
   ]
  },
  {
   "cell_type": "code",
   "execution_count": null,
   "metadata": {},
   "outputs": [],
   "source": [
    "dict_fear={}\n",
    "dict_hate={}\n",
    "dict_normal={}"
   ]
  },
  {
   "cell_type": "code",
   "execution_count": null,
   "metadata": {},
   "outputs": [],
   "source": [
    "import numpy as np\n",
    "import random\n",
    "from matplotlib import pyplot as plt\n",
    "\n",
    "data = []\n",
    "for key in tqdm_notebook(dict_post_meta_info, total=len(dict_post_meta_info)):\n",
    "    element=dict_post_meta_info[key]\n",
    "    data.append(element['label_probab']['hatespeech'])\n",
    "    \n",
    "    \n",
    "    if(element['label_probab']['fearspeech']>0.5):\n",
    "        final=int(10*element['label_probab']['fearspeech'])\n",
    "        try:\n",
    "            dict_fear[final].append(element['id'])\n",
    "        except KeyError:\n",
    "            dict_fear[final]=[element['id']]\n",
    "    if(element['label_probab']['hatespeech']>0.5):\n",
    "        final=int(10*element['label_probab']['hatespeech'])\n",
    "        try:\n",
    "            dict_hate[final].append(element['id'])\n",
    "        except KeyError:\n",
    "            dict_hate[final]=[element['id']]\n",
    "    if(element['label_probab']['normal']>0.5):\n",
    "        final=int(10*element['label_probab']['normal'])\n",
    "        try:\n",
    "            dict_normal[final].append(element['id'])\n",
    "        except KeyError:\n",
    "            dict_normal[final]=[element['id']]"
   ]
  },
  {
   "cell_type": "code",
   "execution_count": null,
   "metadata": {},
   "outputs": [],
   "source": []
  },
  {
   "cell_type": "code",
   "execution_count": null,
   "metadata": {},
   "outputs": [],
   "source": [
    "sample_dict_hate={}\n",
    "\n",
    "for key in dict_hate:\n",
    "    sample_dict_hate[key]=random.sample(dict_hate[key],20)\n",
    "    \n",
    "\n",
    "sample_dict_fear={}\n",
    "\n",
    "for key in dict_fear:\n",
    "    sample_dict_fear[key]=random.sample(dict_fear[key],20)\n",
    "    \n",
    "   \n",
    "    \n",
    "    \n"
   ]
  },
  {
   "cell_type": "code",
   "execution_count": null,
   "metadata": {},
   "outputs": [],
   "source": [
    "import pickle\n",
    "\n",
    "#my_dict = { 'Ali': 9, 'Sid': 1, 'Luna': 7, 'Sim': 12, 'Pooja': 4, 'Jen': 2}\n",
    "with open('../Results/fearspeech_thresholding.json', 'wb') as fp:\n",
    "    pickle.dump(sample_dict_fear, fp)\n",
    "    \n",
    "with open('../Results/hatespeech_thresholding.json', 'wb') as fp:\n",
    "    pickle.dump(sample_dict_hate, fp)\n",
    "\n"
   ]
  },
  {
   "cell_type": "code",
   "execution_count": null,
   "metadata": {},
   "outputs": [],
   "source": []
  },
  {
   "cell_type": "code",
   "execution_count": null,
   "metadata": {},
   "outputs": [],
   "source": [
    "# fixed bin size\n",
    "\n",
    "plt.hist(data,color='orange')\n",
    "plt.title('Random Gaussian data (fixed bin size)')\n",
    "plt.xlabel('variable X (bin size = 5)')\n",
    "plt.ylabel('count')\n",
    "\n",
    "plt.show()"
   ]
  },
  {
   "cell_type": "code",
   "execution_count": null,
   "metadata": {},
   "outputs": [],
   "source": [
    "element"
   ]
  },
  {
   "cell_type": "code",
   "execution_count": 11,
   "metadata": {},
   "outputs": [
    {
     "name": "stdout",
     "output_type": "stream",
     "text": [
      "426455 709358 200 21200212\n"
     ]
    }
   ],
   "source": [
    "print(fear+both,\n",
    "hate+both,\n",
    "both,\n",
    "total)"
   ]
  },
  {
   "cell_type": "code",
   "execution_count": 11,
   "metadata": {},
   "outputs": [],
   "source": [
    "\n",
    "\n",
    "with open('../Results/dict_per_date.json', 'w') as fp:\n",
    "    json.dump(dict_per_date, fp)\n"
   ]
  },
  {
   "cell_type": "code",
   "execution_count": 12,
   "metadata": {},
   "outputs": [
    {
     "data": {
      "text/plain": [
       "0.05356611528224341"
      ]
     },
     "execution_count": 12,
     "metadata": {},
     "output_type": "execute_result"
    }
   ],
   "source": [
    "(fear+hate+both)/total"
   ]
  },
  {
   "cell_type": "code",
   "execution_count": 13,
   "metadata": {},
   "outputs": [],
   "source": [
    "dict_per_date_normalised={}\n",
    "for key in dict_per_date:\n",
    "    dict_per_date_normalised[key]={'fearspeech':0,'hatespeech':0,'both':0,'none':0,'total':0}\n",
    "    for key1 in dict_per_date_normalised[key].keys():\n",
    "        dict_per_date_normalised[key][key1]=dict_per_date[key][key1]/(dict_per_date[key]['total'])\n",
    "        \n",
    "#         if(dict_per_date_normalised[key][key1]>0.2):\n",
    "#             dict_per_date_normalised[key][key1]=0.2\n",
    "        \n",
    "        "
   ]
  },
  {
   "cell_type": "code",
   "execution_count": 14,
   "metadata": {},
   "outputs": [],
   "source": [
    "df=pd.DataFrame(dict_per_date_normalised).transpose()\n",
    "df.index=pd.to_datetime(df.index)"
   ]
  },
  {
   "cell_type": "code",
   "execution_count": 15,
   "metadata": {},
   "outputs": [
    {
     "data": {
      "image/png": "[encoded data removed]",
      "text/plain": [
       "<Figure size 1440x216 with 1 Axes>"
      ]
     },
     "metadata": {},
     "output_type": "display_data"
    }
   ],
   "source": [
    "import matplotlib\n",
    "matplotlib.rcParams['figure.figsize'] = (20, 3)\n",
    "\n",
    "sns.set(context='paper',style='whitegrid',font_scale=2.0, rc={\"lines.linewidth\": 2.0,\"lines.markersize\": 10})\n",
    "sns.lineplot(data = df[[\"fearspeech\"]],palette=['red'],markers=['o'])\n",
    "plt.xlabel(\"Time\")\n",
    "plt.ylabel(\"% of fear speech\")\n",
    "path='../Results/fearspeech_temporal.pdf'\n",
    "plt.savefig(path,bbox_inches='tight',dpi=400)\n",
    "    "
   ]
  },
  {
   "cell_type": "code",
   "execution_count": 68,
   "metadata": {
    "scrolled": true
   },
   "outputs": [
    {
     "data": {
      "image/png": "[encoded data removed]",
      "text/plain": [
       "<Figure size 1440x216 with 1 Axes>"
      ]
     },
     "metadata": {},
     "output_type": "display_data"
    }
   ],
   "source": [
    "plt.figure()\n",
    "sns.lineplot(data = df[[\"hatespeech\"]],palette=['orange'],markers=['X'])\n",
    "plt.xlabel(\"Time\")\n",
    "plt.ylabel(\"% of hate speech\")\n",
    "path='../Results/hatespeech_temporal.pdf'\n",
    "plt.savefig(path,bbox_inches='tight',dpi=400)\n",
    "\n",
    "# plt.figure()\n",
    "# sns.lineplot(data = df[[\"both\"]],palette=['brown'])"
   ]
  },
  {
   "cell_type": "code",
   "execution_count": 29,
   "metadata": {},
   "outputs": [],
   "source": [
    "def plot_count(dict_new,title_text,select_column):\n",
    "    x_values=['fearspeech','hatespeech','total']\n",
    "    y_values=[]\n",
    "    for x_val in x_values:\n",
    "        if(x_val=='total'):\n",
    "            count=0\n",
    "            for key in tqdm_notebook(dict_new,total=len(dict_new)):\n",
    "                if(dict_new[key][select_column]!=0):\n",
    "                    count+=1\n",
    "            y_values.append(100*count/len(dict_new))\n",
    "        else:\n",
    "            count=0\n",
    "            count_total=0\n",
    "            for key in tqdm_notebook(dict_new,total=len(dict_new)):\n",
    "                if((dict_new[key]['label']==x_val)):\n",
    "                    if(dict_new[key][select_column]!=0):\n",
    "                        count+=1\n",
    "                    count_total+=1\n",
    "                   \n",
    "            y_values.append(100*count/count_total)\n",
    "    c= ['red', 'orange', 'green']\n",
    "    fig = plt.figure(figsize = (4,4))\n",
    "     \n",
    "    # creating the bar plot\n",
    "    plt.bar(x_values,y_values, color =c,\n",
    "        width = 0.4)\n",
    "\n",
    "   \n",
    "\n",
    "    #plt.legend(x_values)\n",
    "    plt.xlabel(\"Speech type\")\n",
    "    plt.ylabel(\"% of post that are \"+ select_column)\n",
    "    plt.title(title_text)\n",
    "    path='../Results/'+'_'.join(title_text.split())+'.pdf'\n",
    "    plt.savefig(path,bbox_inches='tight',dpi=400)\n",
    "#     plt.show()\n",
    "\n",
    "    \n",
    "def plot_mean(dict_new,title_text,select_column):\n",
    "    x_values=['fearspeech','hatespeech','total']\n",
    "    y_values=[]\n",
    "    y_err=[]\n",
    "    \n",
    "    y_values_list=[]\n",
    "    \n",
    "    for x_val in x_values:\n",
    "        if(x_val=='total'):\n",
    "            count=[]\n",
    "            for key in tqdm_notebook(dict_new,total=len(dict_new)):\n",
    "                if(dict_new[key][select_column]!=0):\n",
    "                    count.append(dict_new[key][select_column])\n",
    "            y_values.append(np.mean(count))\n",
    "            y_err.append(np.std(count))\n",
    "            y_values_list.append(count)\n",
    "        else:\n",
    "            count=[]\n",
    "            for key in tqdm_notebook(dict_new,total=len(dict_new)):\n",
    "                if((dict_new[key]['label']==x_val)):\n",
    "                    if(dict_new[key][select_column]!=0):\n",
    "                        count.append(dict_new[key][select_column])\n",
    "                   \n",
    "            y_values.append(np.mean(count))\n",
    "            y_err.append(np.std(count))\n",
    "            y_values_list.append(count)\n",
    "    c= ['red', 'orange', 'green']\n",
    "    fig = plt.figure(figsize = (4,4))\n",
    "    \n",
    "    \n",
    "    \n",
    "    stat, p = mannwhitneyu(y_values_list[0],y_values_list[1],alternative='greater')\n",
    "    print(\"p-value between fear speech mean and hate speech mean\",p)\n",
    "    \n",
    "    stat, p = mannwhitneyu(y_values_list[1],y_values_list[2],alternative='greater')\n",
    "    print(\"p-value between hate speech mean and normal mean\",p)\n",
    "    \n",
    "    \n",
    "    stat, p = mannwhitneyu(y_values_list[0],y_values_list[2],alternative='greater')\n",
    "    print(\"p-value between fear speech mean and normal mean\",p)\n",
    "    \n",
    "    # creating the bar plot\n",
    "    x_values_plot=['F','H','T']\n",
    "    \n",
    "    plt.bar(x_values_plot,y_values,color =c,capsize=1,align='center',width = 0.5)\n",
    "    #plt.errorbar(x_values,y_values,y_err)\n",
    "   \n",
    "\n",
    "    #plt.legend(x_values)\n",
    "    #plt.xlabel(\"Speech type\")\n",
    "    plt.ylabel(\"#\" + select_column + \"/post\")\n",
    "    #plt.title(title_text)\n",
    "    \n",
    "    \n",
    "    path='../Results/'+'_'.join(title_text.split())+'.pdf'\n",
    "    plt.savefig(path,bbox_inches='tight',dpi=400)\n",
    "    #plt.show()\n"
   ]
  },
  {
   "cell_type": "markdown",
   "metadata": {},
   "source": [
    "### Reposts"
   ]
  },
  {
   "cell_type": "code",
   "execution_count": 18,
   "metadata": {},
   "outputs": [
    {
     "name": "stderr",
     "output_type": "stream",
     "text": [
      "<ipython-input-17-048a8908f62d>:14: TqdmDeprecationWarning: This function will be removed in tqdm==5.0.0\n",
      "Please use `tqdm.notebook.tqdm` instead of `tqdm.tqdm_notebook`\n",
      "  for key in tqdm_notebook(dict_new,total=len(dict_new)):\n"
     ]
    },
    {
     "data": {
      "application/vnd.jupyter.widget-view+json": {
       "model_id": "e3aebbe6445148658fbf39dc39056d70",
       "version_major": 2,
       "version_minor": 0
      },
      "text/plain": [
       "  0%|          | 0/21200212 [00:00<?, ?it/s]"
      ]
     },
     "metadata": {},
     "output_type": "display_data"
    },
    {
     "data": {
      "application/vnd.jupyter.widget-view+json": {
       "model_id": "158aa2282e4b4f398f9ec9422c750f2d",
       "version_major": 2,
       "version_minor": 0
      },
      "text/plain": [
       "  0%|          | 0/21200212 [00:00<?, ?it/s]"
      ]
     },
     "metadata": {},
     "output_type": "display_data"
    },
    {
     "name": "stderr",
     "output_type": "stream",
     "text": [
      "<ipython-input-17-048a8908f62d>:7: TqdmDeprecationWarning: This function will be removed in tqdm==5.0.0\n",
      "Please use `tqdm.notebook.tqdm` instead of `tqdm.tqdm_notebook`\n",
      "  for key in tqdm_notebook(dict_new,total=len(dict_new)):\n"
     ]
    },
    {
     "data": {
      "application/vnd.jupyter.widget-view+json": {
       "model_id": "b594b230b95744e184e38ff1ebd6e60d",
       "version_major": 2,
       "version_minor": 0
      },
      "text/plain": [
       "  0%|          | 0/21200212 [00:00<?, ?it/s]"
      ]
     },
     "metadata": {},
     "output_type": "display_data"
    },
    {
     "data": {
      "image/png": "[encoded data removed]",
      "text/plain": [
       "<Figure size 432x360 with 1 Axes>"
      ]
     },
     "metadata": {},
     "output_type": "display_data"
    }
   ],
   "source": [
    "sns.set(context='paper',style='whitegrid',font_scale=1.5)\n",
    "\n",
    "plot_count(dict_post_meta_info,'repost count analysis','reposts')\n"
   ]
  },
  {
   "cell_type": "code",
   "execution_count": 30,
   "metadata": {},
   "outputs": [
    {
     "name": "stderr",
     "output_type": "stream",
     "text": [
      "<ipython-input-29-fbc3101f165f>:57: TqdmDeprecationWarning: This function will be removed in tqdm==5.0.0\n",
      "Please use `tqdm.notebook.tqdm` instead of `tqdm.tqdm_notebook`\n",
      "  for key in tqdm_notebook(dict_new,total=len(dict_new)):\n"
     ]
    },
    {
     "data": {
      "application/vnd.jupyter.widget-view+json": {
       "model_id": "ea94bf51ecfc406d863f6bca18602076",
       "version_major": 2,
       "version_minor": 0
      },
      "text/plain": [
       "  0%|          | 0/21200212 [00:00<?, ?it/s]"
      ]
     },
     "metadata": {},
     "output_type": "display_data"
    },
    {
     "data": {
      "application/vnd.jupyter.widget-view+json": {
       "model_id": "1f2c69cc389244cda10a5ed406e911bc",
       "version_major": 2,
       "version_minor": 0
      },
      "text/plain": [
       "  0%|          | 0/21200212 [00:00<?, ?it/s]"
      ]
     },
     "metadata": {},
     "output_type": "display_data"
    },
    {
     "name": "stderr",
     "output_type": "stream",
     "text": [
      "<ipython-input-29-fbc3101f165f>:49: TqdmDeprecationWarning: This function will be removed in tqdm==5.0.0\n",
      "Please use `tqdm.notebook.tqdm` instead of `tqdm.tqdm_notebook`\n",
      "  for key in tqdm_notebook(dict_new,total=len(dict_new)):\n"
     ]
    },
    {
     "data": {
      "application/vnd.jupyter.widget-view+json": {
       "model_id": "e16c5e721c024f1b8a61f98ca1817584",
       "version_major": 2,
       "version_minor": 0
      },
      "text/plain": [
       "  0%|          | 0/21200212 [00:00<?, ?it/s]"
      ]
     },
     "metadata": {},
     "output_type": "display_data"
    },
    {
     "name": "stdout",
     "output_type": "stream",
     "text": [
      "p-value between fear speech mean and hate speech mean 0.0\n",
      "p-value between hate speech mean and normal mean 1.0\n",
      "p-value between fear speech mean and normal mean 0.0\n"
     ]
    },
    {
     "data": {
      "image/png": "[encoded data removed]",
      "text/plain": [
       "<Figure size 288x288 with 1 Axes>"
      ]
     },
     "metadata": {},
     "output_type": "display_data"
    }
   ],
   "source": [
    "sns.set(context='paper',style='whitegrid',font_scale=2.5)\n",
    "\n",
    "plot_mean(dict_post_meta_info,'repost mean analysis','reposts')"
   ]
  },
  {
   "cell_type": "markdown",
   "metadata": {},
   "source": [
    "### Replies"
   ]
  },
  {
   "cell_type": "code",
   "execution_count": 73,
   "metadata": {},
   "outputs": [
    {
     "name": "stderr",
     "output_type": "stream",
     "text": [
      "<ipython-input-70-2191c9c053b4>:14: TqdmDeprecationWarning: This function will be removed in tqdm==5.0.0\n",
      "Please use `tqdm.notebook.tqdm` instead of `tqdm.tqdm_notebook`\n",
      "  for key in tqdm_notebook(dict_new,total=len(dict_new)):\n"
     ]
    },
    {
     "data": {
      "application/vnd.jupyter.widget-view+json": {
       "model_id": "c4e91ad8f4c04caa99725a4ae71de71c",
       "version_major": 2,
       "version_minor": 0
      },
      "text/plain": [
       "  0%|          | 0/21200212 [00:00<?, ?it/s]"
      ]
     },
     "metadata": {},
     "output_type": "display_data"
    },
    {
     "data": {
      "application/vnd.jupyter.widget-view+json": {
       "model_id": "8f7b70a471224a7a96e671f15f8f7a15",
       "version_major": 2,
       "version_minor": 0
      },
      "text/plain": [
       "  0%|          | 0/21200212 [00:00<?, ?it/s]"
      ]
     },
     "metadata": {},
     "output_type": "display_data"
    },
    {
     "name": "stderr",
     "output_type": "stream",
     "text": [
      "<ipython-input-70-2191c9c053b4>:7: TqdmDeprecationWarning: This function will be removed in tqdm==5.0.0\n",
      "Please use `tqdm.notebook.tqdm` instead of `tqdm.tqdm_notebook`\n",
      "  for key in tqdm_notebook(dict_new,total=len(dict_new)):\n"
     ]
    },
    {
     "data": {
      "application/vnd.jupyter.widget-view+json": {
       "model_id": "d80731f86ac9424086cdf2604af7f7b5",
       "version_major": 2,
       "version_minor": 0
      },
      "text/plain": [
       "  0%|          | 0/21200212 [00:00<?, ?it/s]"
      ]
     },
     "metadata": {},
     "output_type": "display_data"
    },
    {
     "data": {
      "image/png": "[encoded data removed]",
      "text/plain": [
       "<Figure size 432x360 with 1 Axes>"
      ]
     },
     "metadata": {},
     "output_type": "display_data"
    }
   ],
   "source": [
    "plot_count(dict_post_meta_info,'replies count analysis','replies')\n"
   ]
  },
  {
   "cell_type": "code",
   "execution_count": 31,
   "metadata": {},
   "outputs": [
    {
     "name": "stderr",
     "output_type": "stream",
     "text": [
      "<ipython-input-29-fbc3101f165f>:57: TqdmDeprecationWarning: This function will be removed in tqdm==5.0.0\n",
      "Please use `tqdm.notebook.tqdm` instead of `tqdm.tqdm_notebook`\n",
      "  for key in tqdm_notebook(dict_new,total=len(dict_new)):\n"
     ]
    },
    {
     "data": {
      "application/vnd.jupyter.widget-view+json": {
       "model_id": "1c8c7a16e7e54b91adc2302696000fad",
       "version_major": 2,
       "version_minor": 0
      },
      "text/plain": [
       "  0%|          | 0/21200212 [00:00<?, ?it/s]"
      ]
     },
     "metadata": {},
     "output_type": "display_data"
    },
    {
     "data": {
      "application/vnd.jupyter.widget-view+json": {
       "model_id": "8a62bce58d664ecaa1864bf2444e0cee",
       "version_major": 2,
       "version_minor": 0
      },
      "text/plain": [
       "  0%|          | 0/21200212 [00:00<?, ?it/s]"
      ]
     },
     "metadata": {},
     "output_type": "display_data"
    },
    {
     "name": "stderr",
     "output_type": "stream",
     "text": [
      "<ipython-input-29-fbc3101f165f>:49: TqdmDeprecationWarning: This function will be removed in tqdm==5.0.0\n",
      "Please use `tqdm.notebook.tqdm` instead of `tqdm.tqdm_notebook`\n",
      "  for key in tqdm_notebook(dict_new,total=len(dict_new)):\n"
     ]
    },
    {
     "data": {
      "application/vnd.jupyter.widget-view+json": {
       "model_id": "777e170df8bd4682a6744819d687a878",
       "version_major": 2,
       "version_minor": 0
      },
      "text/plain": [
       "  0%|          | 0/21200212 [00:00<?, ?it/s]"
      ]
     },
     "metadata": {},
     "output_type": "display_data"
    },
    {
     "name": "stdout",
     "output_type": "stream",
     "text": [
      "p-value between fear speech mean and hate speech mean 2.856388765838556e-268\n",
      "p-value between hate speech mean and normal mean 0.001537385590995161\n",
      "p-value between fear speech mean and normal mean 0.0\n"
     ]
    },
    {
     "data": {
      "image/png": "[encoded data removed]",
      "text/plain": [
       "<Figure size 288x288 with 1 Axes>"
      ]
     },
     "metadata": {},
     "output_type": "display_data"
    }
   ],
   "source": [
    "plot_mean(dict_post_meta_info,'replies mean analysis','replies')\n"
   ]
  },
  {
   "cell_type": "markdown",
   "metadata": {},
   "source": [
    "### Favourites"
   ]
  },
  {
   "cell_type": "code",
   "execution_count": 32,
   "metadata": {},
   "outputs": [
    {
     "name": "stderr",
     "output_type": "stream",
     "text": [
      "<ipython-input-29-fbc3101f165f>:14: TqdmDeprecationWarning: This function will be removed in tqdm==5.0.0\n",
      "Please use `tqdm.notebook.tqdm` instead of `tqdm.tqdm_notebook`\n",
      "  for key in tqdm_notebook(dict_new,total=len(dict_new)):\n"
     ]
    },
    {
     "data": {
      "application/vnd.jupyter.widget-view+json": {
       "model_id": "f3fe3256b4b64181953944344c7e8621",
       "version_major": 2,
       "version_minor": 0
      },
      "text/plain": [
       "  0%|          | 0/21200212 [00:00<?, ?it/s]"
      ]
     },
     "metadata": {},
     "output_type": "display_data"
    },
    {
     "data": {
      "application/vnd.jupyter.widget-view+json": {
       "model_id": "1d68f894ddc54dad94ed90034715d809",
       "version_major": 2,
       "version_minor": 0
      },
      "text/plain": [
       "  0%|          | 0/21200212 [00:00<?, ?it/s]"
      ]
     },
     "metadata": {},
     "output_type": "display_data"
    },
    {
     "name": "stderr",
     "output_type": "stream",
     "text": [
      "<ipython-input-29-fbc3101f165f>:7: TqdmDeprecationWarning: This function will be removed in tqdm==5.0.0\n",
      "Please use `tqdm.notebook.tqdm` instead of `tqdm.tqdm_notebook`\n",
      "  for key in tqdm_notebook(dict_new,total=len(dict_new)):\n"
     ]
    },
    {
     "data": {
      "application/vnd.jupyter.widget-view+json": {
       "model_id": "20dd0c03b9f04b34a77be7d711a38e4f",
       "version_major": 2,
       "version_minor": 0
      },
      "text/plain": [
       "  0%|          | 0/21200212 [00:00<?, ?it/s]"
      ]
     },
     "metadata": {},
     "output_type": "display_data"
    },
    {
     "data": {
      "image/png": "[encoded data removed]",
      "text/plain": [
       "<Figure size 288x288 with 1 Axes>"
      ]
     },
     "metadata": {},
     "output_type": "display_data"
    }
   ],
   "source": [
    "plot_count(dict_post_meta_info,'likes count analysis','like_count')\n"
   ]
  },
  {
   "cell_type": "code",
   "execution_count": 33,
   "metadata": {},
   "outputs": [
    {
     "name": "stderr",
     "output_type": "stream",
     "text": [
      "<ipython-input-29-fbc3101f165f>:57: TqdmDeprecationWarning: This function will be removed in tqdm==5.0.0\n",
      "Please use `tqdm.notebook.tqdm` instead of `tqdm.tqdm_notebook`\n",
      "  for key in tqdm_notebook(dict_new,total=len(dict_new)):\n"
     ]
    },
    {
     "data": {
      "application/vnd.jupyter.widget-view+json": {
       "model_id": "ed3b9cd2092345918ccd3e683735a39d",
       "version_major": 2,
       "version_minor": 0
      },
      "text/plain": [
       "  0%|          | 0/21200212 [00:00<?, ?it/s]"
      ]
     },
     "metadata": {},
     "output_type": "display_data"
    },
    {
     "data": {
      "application/vnd.jupyter.widget-view+json": {
       "model_id": "bef6dc84f7484b0d9b882b4535a48306",
       "version_major": 2,
       "version_minor": 0
      },
      "text/plain": [
       "  0%|          | 0/21200212 [00:00<?, ?it/s]"
      ]
     },
     "metadata": {},
     "output_type": "display_data"
    },
    {
     "name": "stderr",
     "output_type": "stream",
     "text": [
      "<ipython-input-29-fbc3101f165f>:49: TqdmDeprecationWarning: This function will be removed in tqdm==5.0.0\n",
      "Please use `tqdm.notebook.tqdm` instead of `tqdm.tqdm_notebook`\n",
      "  for key in tqdm_notebook(dict_new,total=len(dict_new)):\n"
     ]
    },
    {
     "data": {
      "application/vnd.jupyter.widget-view+json": {
       "model_id": "0698828336a84e50ac42b8daa59d36af",
       "version_major": 2,
       "version_minor": 0
      },
      "text/plain": [
       "  0%|          | 0/21200212 [00:00<?, ?it/s]"
      ]
     },
     "metadata": {},
     "output_type": "display_data"
    },
    {
     "name": "stdout",
     "output_type": "stream",
     "text": [
      "p-value between fear speech mean and hate speech mean 0.0\n",
      "p-value between hate speech mean and normal mean 2.3488971307475242e-163\n",
      "p-value between fear speech mean and normal mean 0.0\n"
     ]
    },
    {
     "data": {
      "image/png": "[encoded data removed]",
      "text/plain": [
       "<Figure size 288x288 with 1 Axes>"
      ]
     },
     "metadata": {},
     "output_type": "display_data"
    }
   ],
   "source": [
    "plot_mean(dict_post_meta_info,'like mean analysis','like_count')\n"
   ]
  },
  {
   "cell_type": "markdown",
   "metadata": {},
   "source": [
    "## Text analytics"
   ]
  },
  {
   "cell_type": "markdown",
   "metadata": {},
   "source": [
    "### Emojis"
   ]
  },
  {
   "cell_type": "code",
   "execution_count": 77,
   "metadata": {},
   "outputs": [
    {
     "name": "stderr",
     "output_type": "stream",
     "text": [
      "<ipython-input-70-2191c9c053b4>:14: TqdmDeprecationWarning: This function will be removed in tqdm==5.0.0\n",
      "Please use `tqdm.notebook.tqdm` instead of `tqdm.tqdm_notebook`\n",
      "  for key in tqdm_notebook(dict_new,total=len(dict_new)):\n"
     ]
    },
    {
     "data": {
      "application/vnd.jupyter.widget-view+json": {
       "model_id": "8a2d65358eeb4808ba1410e708a6cc67",
       "version_major": 2,
       "version_minor": 0
      },
      "text/plain": [
       "  0%|          | 0/21200212 [00:00<?, ?it/s]"
      ]
     },
     "metadata": {},
     "output_type": "display_data"
    },
    {
     "data": {
      "application/vnd.jupyter.widget-view+json": {
       "model_id": "96412f7dea794d70b57c424d2072f934",
       "version_major": 2,
       "version_minor": 0
      },
      "text/plain": [
       "  0%|          | 0/21200212 [00:00<?, ?it/s]"
      ]
     },
     "metadata": {},
     "output_type": "display_data"
    },
    {
     "name": "stderr",
     "output_type": "stream",
     "text": [
      "<ipython-input-70-2191c9c053b4>:7: TqdmDeprecationWarning: This function will be removed in tqdm==5.0.0\n",
      "Please use `tqdm.notebook.tqdm` instead of `tqdm.tqdm_notebook`\n",
      "  for key in tqdm_notebook(dict_new,total=len(dict_new)):\n"
     ]
    },
    {
     "data": {
      "application/vnd.jupyter.widget-view+json": {
       "model_id": "4d201710c288443fa07e2f3759aaf0bc",
       "version_major": 2,
       "version_minor": 0
      },
      "text/plain": [
       "  0%|          | 0/21200212 [00:00<?, ?it/s]"
      ]
     },
     "metadata": {},
     "output_type": "display_data"
    },
    {
     "data": {
      "image/png": "[encoded data removed]",
      "text/plain": [
       "<Figure size 432x360 with 1 Axes>"
      ]
     },
     "metadata": {},
     "output_type": "display_data"
    }
   ],
   "source": [
    "plot_count(dict_text_property,'Emoji count analysis','num_emojis')\n"
   ]
  },
  {
   "cell_type": "code",
   "execution_count": 35,
   "metadata": {},
   "outputs": [
    {
     "name": "stderr",
     "output_type": "stream",
     "text": [
      "<ipython-input-29-fbc3101f165f>:57: TqdmDeprecationWarning: This function will be removed in tqdm==5.0.0\n",
      "Please use `tqdm.notebook.tqdm` instead of `tqdm.tqdm_notebook`\n",
      "  for key in tqdm_notebook(dict_new,total=len(dict_new)):\n"
     ]
    },
    {
     "data": {
      "application/vnd.jupyter.widget-view+json": {
       "model_id": "bbcae55fe7ed4823be904f9540ece855",
       "version_major": 2,
       "version_minor": 0
      },
      "text/plain": [
       "  0%|          | 0/21200212 [00:00<?, ?it/s]"
      ]
     },
     "metadata": {},
     "output_type": "display_data"
    },
    {
     "data": {
      "application/vnd.jupyter.widget-view+json": {
       "model_id": "1e68ff33b5a14e72a001e57edc7cd226",
       "version_major": 2,
       "version_minor": 0
      },
      "text/plain": [
       "  0%|          | 0/21200212 [00:00<?, ?it/s]"
      ]
     },
     "metadata": {},
     "output_type": "display_data"
    },
    {
     "name": "stderr",
     "output_type": "stream",
     "text": [
      "<ipython-input-29-fbc3101f165f>:49: TqdmDeprecationWarning: This function will be removed in tqdm==5.0.0\n",
      "Please use `tqdm.notebook.tqdm` instead of `tqdm.tqdm_notebook`\n",
      "  for key in tqdm_notebook(dict_new,total=len(dict_new)):\n"
     ]
    },
    {
     "data": {
      "application/vnd.jupyter.widget-view+json": {
       "model_id": "e6a35cf487294ef19791c1431d4cfc51",
       "version_major": 2,
       "version_minor": 0
      },
      "text/plain": [
       "  0%|          | 0/21200212 [00:00<?, ?it/s]"
      ]
     },
     "metadata": {},
     "output_type": "display_data"
    },
    {
     "name": "stdout",
     "output_type": "stream",
     "text": [
      "p-value between fear speech mean and hate speech mean 1.0\n",
      "p-value between hate speech mean and normal mean 2.6644057696597405e-171\n",
      "p-value between fear speech mean and normal mean 1.4417579841715884e-05\n"
     ]
    },
    {
     "data": {
      "image/png": "[encoded data removed]",
      "text/plain": [
       "<Figure size 288x288 with 1 Axes>"
      ]
     },
     "metadata": {},
     "output_type": "display_data"
    }
   ],
   "source": [
    "plot_mean(dict_text_property,'Emoji mean analysis','num_emojis')\n"
   ]
  },
  {
   "cell_type": "markdown",
   "metadata": {},
   "source": [
    "### Hashtags"
   ]
  },
  {
   "cell_type": "code",
   "execution_count": 79,
   "metadata": {},
   "outputs": [
    {
     "name": "stderr",
     "output_type": "stream",
     "text": [
      "<ipython-input-70-2191c9c053b4>:14: TqdmDeprecationWarning: This function will be removed in tqdm==5.0.0\n",
      "Please use `tqdm.notebook.tqdm` instead of `tqdm.tqdm_notebook`\n",
      "  for key in tqdm_notebook(dict_new,total=len(dict_new)):\n"
     ]
    },
    {
     "data": {
      "application/vnd.jupyter.widget-view+json": {
       "model_id": "0df98606a92540d3b80bc6407da105bb",
       "version_major": 2,
       "version_minor": 0
      },
      "text/plain": [
       "  0%|          | 0/21200212 [00:00<?, ?it/s]"
      ]
     },
     "metadata": {},
     "output_type": "display_data"
    },
    {
     "data": {
      "application/vnd.jupyter.widget-view+json": {
       "model_id": "89a37949c31740e0b7aeddcf9c3d09e3",
       "version_major": 2,
       "version_minor": 0
      },
      "text/plain": [
       "  0%|          | 0/21200212 [00:00<?, ?it/s]"
      ]
     },
     "metadata": {},
     "output_type": "display_data"
    },
    {
     "name": "stderr",
     "output_type": "stream",
     "text": [
      "<ipython-input-70-2191c9c053b4>:7: TqdmDeprecationWarning: This function will be removed in tqdm==5.0.0\n",
      "Please use `tqdm.notebook.tqdm` instead of `tqdm.tqdm_notebook`\n",
      "  for key in tqdm_notebook(dict_new,total=len(dict_new)):\n"
     ]
    },
    {
     "data": {
      "application/vnd.jupyter.widget-view+json": {
       "model_id": "2ab39a0a549b4733b406f740545ca97a",
       "version_major": 2,
       "version_minor": 0
      },
      "text/plain": [
       "  0%|          | 0/21200212 [00:00<?, ?it/s]"
      ]
     },
     "metadata": {},
     "output_type": "display_data"
    },
    {
     "data": {
      "image/png": "[encoded data removed]",
      "text/plain": [
       "<Figure size 432x360 with 1 Axes>"
      ]
     },
     "metadata": {},
     "output_type": "display_data"
    }
   ],
   "source": [
    "plot_count(dict_text_property,'Hashtag count analysis','num_hashtags')\n"
   ]
  },
  {
   "cell_type": "code",
   "execution_count": 36,
   "metadata": {},
   "outputs": [
    {
     "name": "stderr",
     "output_type": "stream",
     "text": [
      "<ipython-input-29-fbc3101f165f>:57: TqdmDeprecationWarning: This function will be removed in tqdm==5.0.0\n",
      "Please use `tqdm.notebook.tqdm` instead of `tqdm.tqdm_notebook`\n",
      "  for key in tqdm_notebook(dict_new,total=len(dict_new)):\n"
     ]
    },
    {
     "data": {
      "application/vnd.jupyter.widget-view+json": {
       "model_id": "c44bb8a5b8324087a7d9e48c70d5db7c",
       "version_major": 2,
       "version_minor": 0
      },
      "text/plain": [
       "  0%|          | 0/21200212 [00:00<?, ?it/s]"
      ]
     },
     "metadata": {},
     "output_type": "display_data"
    },
    {
     "data": {
      "application/vnd.jupyter.widget-view+json": {
       "model_id": "31ca81ebf37f492b90c961ece27405f2",
       "version_major": 2,
       "version_minor": 0
      },
      "text/plain": [
       "  0%|          | 0/21200212 [00:00<?, ?it/s]"
      ]
     },
     "metadata": {},
     "output_type": "display_data"
    },
    {
     "name": "stderr",
     "output_type": "stream",
     "text": [
      "<ipython-input-29-fbc3101f165f>:49: TqdmDeprecationWarning: This function will be removed in tqdm==5.0.0\n",
      "Please use `tqdm.notebook.tqdm` instead of `tqdm.tqdm_notebook`\n",
      "  for key in tqdm_notebook(dict_new,total=len(dict_new)):\n"
     ]
    },
    {
     "data": {
      "application/vnd.jupyter.widget-view+json": {
       "model_id": "ef3a9b0e96e84c3e8dd1b6bb3da4b226",
       "version_major": 2,
       "version_minor": 0
      },
      "text/plain": [
       "  0%|          | 0/21200212 [00:00<?, ?it/s]"
      ]
     },
     "metadata": {},
     "output_type": "display_data"
    },
    {
     "name": "stdout",
     "output_type": "stream",
     "text": [
      "p-value between fear speech mean and hate speech mean 0.0\n",
      "p-value between hate speech mean and normal mean 1.0\n",
      "p-value between fear speech mean and normal mean 0.0\n"
     ]
    },
    {
     "data": {
      "image/png": "[encoded data removed]",
      "text/plain": [
       "<Figure size 288x288 with 1 Axes>"
      ]
     },
     "metadata": {},
     "output_type": "display_data"
    }
   ],
   "source": [
    "plot_mean(dict_text_property,'Hashtag mean analysis','num_hashtags')\n"
   ]
  },
  {
   "cell_type": "markdown",
   "metadata": {},
   "source": [
    "### Urls"
   ]
  },
  {
   "cell_type": "code",
   "execution_count": 81,
   "metadata": {},
   "outputs": [
    {
     "name": "stderr",
     "output_type": "stream",
     "text": [
      "<ipython-input-70-2191c9c053b4>:14: TqdmDeprecationWarning: This function will be removed in tqdm==5.0.0\n",
      "Please use `tqdm.notebook.tqdm` instead of `tqdm.tqdm_notebook`\n",
      "  for key in tqdm_notebook(dict_new,total=len(dict_new)):\n"
     ]
    },
    {
     "data": {
      "application/vnd.jupyter.widget-view+json": {
       "model_id": "4f9fe71e990e44a997db0c4c7472cf6c",
       "version_major": 2,
       "version_minor": 0
      },
      "text/plain": [
       "  0%|          | 0/21200212 [00:00<?, ?it/s]"
      ]
     },
     "metadata": {},
     "output_type": "display_data"
    },
    {
     "data": {
      "application/vnd.jupyter.widget-view+json": {
       "model_id": "46188a81e5294023adaae045bdc6054a",
       "version_major": 2,
       "version_minor": 0
      },
      "text/plain": [
       "  0%|          | 0/21200212 [00:00<?, ?it/s]"
      ]
     },
     "metadata": {},
     "output_type": "display_data"
    },
    {
     "name": "stderr",
     "output_type": "stream",
     "text": [
      "<ipython-input-70-2191c9c053b4>:7: TqdmDeprecationWarning: This function will be removed in tqdm==5.0.0\n",
      "Please use `tqdm.notebook.tqdm` instead of `tqdm.tqdm_notebook`\n",
      "  for key in tqdm_notebook(dict_new,total=len(dict_new)):\n"
     ]
    },
    {
     "data": {
      "application/vnd.jupyter.widget-view+json": {
       "model_id": "fe14bfb47d504849aeb6d93b8bf5e15a",
       "version_major": 2,
       "version_minor": 0
      },
      "text/plain": [
       "  0%|          | 0/21200212 [00:00<?, ?it/s]"
      ]
     },
     "metadata": {},
     "output_type": "display_data"
    },
    {
     "data": {
      "image/png": "[encoded data removed]",
      "text/plain": [
       "<Figure size 432x360 with 1 Axes>"
      ]
     },
     "metadata": {},
     "output_type": "display_data"
    }
   ],
   "source": [
    "\n",
    "plot_count(dict_text_property,'Url count analysis','num_urls')\n"
   ]
  },
  {
   "cell_type": "code",
   "execution_count": 37,
   "metadata": {},
   "outputs": [
    {
     "name": "stderr",
     "output_type": "stream",
     "text": [
      "<ipython-input-29-fbc3101f165f>:57: TqdmDeprecationWarning: This function will be removed in tqdm==5.0.0\n",
      "Please use `tqdm.notebook.tqdm` instead of `tqdm.tqdm_notebook`\n",
      "  for key in tqdm_notebook(dict_new,total=len(dict_new)):\n"
     ]
    },
    {
     "data": {
      "application/vnd.jupyter.widget-view+json": {
       "model_id": "a70798ae712b4dab993b9105776f5dbb",
       "version_major": 2,
       "version_minor": 0
      },
      "text/plain": [
       "  0%|          | 0/21200212 [00:00<?, ?it/s]"
      ]
     },
     "metadata": {},
     "output_type": "display_data"
    },
    {
     "data": {
      "application/vnd.jupyter.widget-view+json": {
       "model_id": "845bb11ad50141359bd476d40cc90ed4",
       "version_major": 2,
       "version_minor": 0
      },
      "text/plain": [
       "  0%|          | 0/21200212 [00:00<?, ?it/s]"
      ]
     },
     "metadata": {},
     "output_type": "display_data"
    },
    {
     "name": "stderr",
     "output_type": "stream",
     "text": [
      "<ipython-input-29-fbc3101f165f>:49: TqdmDeprecationWarning: This function will be removed in tqdm==5.0.0\n",
      "Please use `tqdm.notebook.tqdm` instead of `tqdm.tqdm_notebook`\n",
      "  for key in tqdm_notebook(dict_new,total=len(dict_new)):\n"
     ]
    },
    {
     "data": {
      "application/vnd.jupyter.widget-view+json": {
       "model_id": "531f2db203494fe3ab4d37b9f845417c",
       "version_major": 2,
       "version_minor": 0
      },
      "text/plain": [
       "  0%|          | 0/21200212 [00:00<?, ?it/s]"
      ]
     },
     "metadata": {},
     "output_type": "display_data"
    },
    {
     "name": "stdout",
     "output_type": "stream",
     "text": [
      "p-value between fear speech mean and hate speech mean 0.0\n",
      "p-value between hate speech mean and normal mean 1.0\n",
      "p-value between fear speech mean and normal mean 5.361354022994717e-247\n"
     ]
    },
    {
     "data": {
      "image/png": "[encoded data removed]",
      "text/plain": [
       "<Figure size 288x288 with 1 Axes>"
      ]
     },
     "metadata": {},
     "output_type": "display_data"
    }
   ],
   "source": [
    "plot_mean(dict_text_property,'Url mean analysis','num_urls')\n"
   ]
  },
  {
   "cell_type": "code",
   "execution_count": 83,
   "metadata": {},
   "outputs": [],
   "source": [
    "import gzip\n",
    "with gzip.open('../../../../Gab_Data_old/Reposts.pkl.gz','rb') as fp:\n",
    "    dict_repost = pickle.load(fp)"
   ]
  },
  {
   "cell_type": "code",
   "execution_count": 25,
   "metadata": {},
   "outputs": [
    {
     "data": {
      "text/plain": [
       "24609334"
      ]
     },
     "execution_count": 25,
     "metadata": {},
     "output_type": "execute_result"
    }
   ],
   "source": [
    "list(dict_repost.keys())[0]"
   ]
  },
  {
   "cell_type": "code",
   "execution_count": 32,
   "metadata": {},
   "outputs": [],
   "source": [
    "for key in dict_repost.keys():\n",
    "    temp=dict_repost[key]\n",
    "    \n",
    "    for ele in temp:\n",
    "        if('2017-01' in ele['reposting_time']):\n",
    "            print(ele['reposting_time'])\n"
   ]
  },
  {
   "cell_type": "code",
   "execution_count": null,
   "metadata": {},
   "outputs": [],
   "source": []
  },
  {
   "cell_type": "code",
   "execution_count": null,
   "metadata": {},
   "outputs": [],
   "source": []
  },
  {
   "cell_type": "code",
   "execution_count": null,
   "metadata": {},
   "outputs": [],
   "source": []
  },
  {
   "cell_type": "code",
   "execution_count": null,
   "metadata": {},
   "outputs": [],
   "source": [
    "def return_text_info(element):\n",
    "    temp=element['post_body']\n",
    "    all_emojis=extract_emojis(temp)\n",
    "    #all_urls= re.findall('(?:(?:https?|ftp):\\/\\/)?[\\w/\\-?=%.]+\\.[\\w/\\-&?=%.]+', temp)\n",
    "    all_urls = re.findall('https?://(?:[-\\w.]|(?:%[\\da-fA-F]{2}))+', temp)\n",
    "    all_hashtags=re.findall(r\"#(\\w+)\", temp)\n",
    "    \n",
    "    dict_text_info=\n",
    "    {\n",
    "        'num_hashtags':len(all_hashtags),\n",
    "        'num_urls':len(all_urls),\n",
    "        'num_emojis':len(all_emojis)\n",
    "    }\n",
    "    \n",
    "    \n",
    "    emoji_dict={}\n",
    "    url_dict={}\n",
    "    hashtag_dict={}\n",
    "    \n",
    "    for emoji in all_emojis:\n",
    "        try:\n",
    "            emoji_dict[emoji]+=1\n",
    "        except KeyError:\n",
    "            emoji_dict[emoji]=1\n",
    "            \n",
    "    for hashtag in all_hashtags:\n",
    "        try:\n",
    "            hashtag_dict[hashtag]+=1\n",
    "        except KeyError:\n",
    "            hashtag_dict[hashtag]=1\n",
    "    for url in all_urls:\n",
    "        try:\n",
    "            url_dict[get_domain(url)]+=1\n",
    "        except KeyError:\n",
    "            url_dict[get_domain(url)]=1\n",
    "        \n",
    "\n",
    "    return dict_text_info,emoji_dict,url_dict,hashtag_dict"
   ]
  }
 ],
 "metadata": {
  "kernelspec": {
   "display_name": "Python [conda env:.conda-punyajoy_gpu] *",
   "language": "python",
   "name": "conda-env-.conda-punyajoy_gpu-py"
  },
  "language_info": {
   "codemirror_mode": {
    "name": "ipython",
    "version": 3
   },
   "file_extension": ".py",
   "mimetype": "text/x-python",
   "name": "python",
   "nbconvert_exporter": "python",
   "pygments_lexer": "ipython3",
   "version": "3.8.5"
  },
  "latex_envs": {
   "LaTeX_envs_menu_present": true,
   "autoclose": true,
   "autocomplete": true,
   "bibliofile": "biblio.bib",
   "cite_by": "apalike",
   "current_citInitial": 1,
   "eqLabelWithNumbers": true,
   "eqNumInitial": 1,
   "hotkeys": {
    "equation": "Ctrl-E",
    "itemize": "Ctrl-I"
   },
   "labels_anchors": false,
   "latex_user_defs": false,
   "report_style_numbering": false,
   "user_envs_cfg": false
  }
 },
 "nbformat": 4,
 "nbformat_minor": 4
}
