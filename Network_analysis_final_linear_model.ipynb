{
 "cells": [
  {
   "cell_type": "code",
   "execution_count": 1,
   "metadata": {},
   "outputs": [
    {
     "data": {
      "text/html": [
       "\n",
       "\t\t\t<script type=\"text/javascript\">\n",
       "\t\t\t<!--\n",
       "\t\t\t\t\n",
       "\t\t\t{\n",
       "\t\t\t\tvar element = document.getElementById('NetworKit_script');\n",
       "\t\t\t\tif (element) {\n",
       "\t\t\t\t\telement.parentNode.removeChild(element);\n",
       "\t\t\t\t}\n",
       "\t\t\t\telement = document.createElement('script');\n",
       "\t\t\t\telement.type = 'text/javascript';\n",
       "\t\t\t\telement.innerHTML = 'function NetworKit_pageEmbed(id) { var i, j; var elements; elements = document.getElementById(id).getElementsByClassName(\"Plot\"); for (i=0; i<elements.length; i++) { elements[i].id = id + \"_Plot_\" + i; var data = elements[i].getAttribute(\"data-image\").split(\"|\"); elements[i].removeAttribute(\"data-image\"); var content = \"<div class=\\\\\"Image\\\\\" id=\\\\\"\" + elements[i].id + \"_Image\\\\\" />\"; elements[i].innerHTML = content; elements[i].setAttribute(\"data-image-index\", 0); elements[i].setAttribute(\"data-image-length\", data.length); for (j=0; j<data.length; j++) { elements[i].setAttribute(\"data-image-\" + j, data[j]); } NetworKit_plotUpdate(elements[i]); elements[i].onclick = function (e) { NetworKit_overlayShow((e.target) ? e.target : e.srcElement); } } elements = document.getElementById(id).getElementsByClassName(\"HeatCell\"); for (i=0; i<elements.length; i++) { var data = parseFloat(elements[i].getAttribute(\"data-heat\")); var color = \"#00FF00\"; if (data <= 1 && data > 0) { color = \"hsla(0, 100%, 75%, \" + (data) + \")\"; } else if (data <= 0 && data >= -1) { color = \"hsla(240, 100%, 75%, \" + (-data) + \")\"; } elements[i].style.backgroundColor = color; } elements = document.getElementById(id).getElementsByClassName(\"Details\"); for (i=0; i<elements.length; i++) { elements[i].setAttribute(\"data-title\", \"-\"); NetworKit_toggleDetails(elements[i]); elements[i].onclick = function (e) { NetworKit_toggleDetails((e.target) ? e.target : e.srcElement); } } elements = document.getElementById(id).getElementsByClassName(\"MathValue\"); for (i=elements.length-1; i>=0; i--) { value = elements[i].innerHTML.trim(); if (value === \"nan\") { elements[i].parentNode.innerHTML = \"\" } } elements = document.getElementById(id).getElementsByClassName(\"SubCategory\"); for (i=elements.length-1; i>=0; i--) { value = elements[i].innerHTML.trim(); if (value === \"\") { elements[i].parentNode.removeChild(elements[i]) } } elements = document.getElementById(id).getElementsByClassName(\"Category\"); for (i=elements.length-1; i>=0; i--) { value = elements[i].innerHTML.trim(); if (value === \"\") { elements[i].parentNode.removeChild(elements[i]) } } var isFirefox = false; try { isFirefox = typeof InstallTrigger !== \"undefined\"; } catch (e) {} if (!isFirefox) { alert(\"Currently the function\\'s output is only fully supported by Firefox.\"); } } function NetworKit_plotUpdate(source) { var index = source.getAttribute(\"data-image-index\"); var data = source.getAttribute(\"data-image-\" + index); var image = document.getElementById(source.id + \"_Image\"); image.style.backgroundImage = \"url(\" + data + \")\"; } function NetworKit_showElement(id, show) { var element = document.getElementById(id); element.style.display = (show) ? \"block\" : \"none\"; } function NetworKit_overlayShow(source) { NetworKit_overlayUpdate(source); NetworKit_showElement(\"NetworKit_Overlay\", true); } function NetworKit_overlayUpdate(source) { document.getElementById(\"NetworKit_Overlay_Title\").innerHTML = source.title; var index = source.getAttribute(\"data-image-index\"); var data = source.getAttribute(\"data-image-\" + index); var image = document.getElementById(\"NetworKit_Overlay_Image\"); image.setAttribute(\"data-id\", source.id); image.style.backgroundImage = \"url(\" + data + \")\"; var link = document.getElementById(\"NetworKit_Overlay_Toolbar_Bottom_Save\"); link.href = data; link.download = source.title + \".svg\"; } function NetworKit_overlayImageShift(delta) { var image = document.getElementById(\"NetworKit_Overlay_Image\"); var source = document.getElementById(image.getAttribute(\"data-id\")); var index = parseInt(source.getAttribute(\"data-image-index\")); var length = parseInt(source.getAttribute(\"data-image-length\")); var index = (index+delta) % length; if (index < 0) { index = length + index; } source.setAttribute(\"data-image-index\", index); NetworKit_overlayUpdate(source); } function NetworKit_toggleDetails(source) { var childs = source.children; var show = false; if (source.getAttribute(\"data-title\") == \"-\") { source.setAttribute(\"data-title\", \"+\"); show = false; } else { source.setAttribute(\"data-title\", \"-\"); show = true; } for (i=0; i<childs.length; i++) { if (show) { childs[i].style.display = \"block\"; } else { childs[i].style.display = \"none\"; } } }';\n",
       "\t\t\t\telement.setAttribute('id', 'NetworKit_script');\n",
       "\t\t\t\tdocument.head.appendChild(element);\n",
       "\t\t\t}\n",
       "\t\t\n",
       "\t\t\t\t\n",
       "\t\t\t{\n",
       "\t\t\t\tvar element = document.getElementById('NetworKit_style');\n",
       "\t\t\t\tif (element) {\n",
       "\t\t\t\t\telement.parentNode.removeChild(element);\n",
       "\t\t\t\t}\n",
       "\t\t\t\telement = document.createElement('style');\n",
       "\t\t\t\telement.type = 'text/css';\n",
       "\t\t\t\telement.innerHTML = '.NetworKit_Page { font-family: Arial, Helvetica, sans-serif; font-size: 14px; } .NetworKit_Page .Value:before { font-family: Arial, Helvetica, sans-serif; font-size: 1.05em; content: attr(data-title) \":\"; margin-left: -2.5em; padding-right: 0.5em; } .NetworKit_Page .Details .Value:before { display: block; } .NetworKit_Page .Value { font-family: monospace; white-space: pre; padding-left: 2.5em; white-space: -moz-pre-wrap !important; white-space: -pre-wrap; white-space: -o-pre-wrap; white-space: pre-wrap; word-wrap: break-word; tab-size: 4; -moz-tab-size: 4; } .NetworKit_Page .Category { clear: both; padding-left: 1em; margin-bottom: 1.5em; } .NetworKit_Page .Category:before { content: attr(data-title); font-size: 1.75em; display: block; margin-left: -0.8em; margin-bottom: 0.5em; } .NetworKit_Page .SubCategory { margin-bottom: 1.5em; padding-left: 1em; } .NetworKit_Page .SubCategory:before { font-size: 1.6em; display: block; margin-left: -0.8em; margin-bottom: 0.5em; } .NetworKit_Page .SubCategory[data-title]:before { content: attr(data-title); } .NetworKit_Page .Block { display: block; } .NetworKit_Page .Block:after { content: \".\"; visibility: hidden; display: block; height: 0; clear: both; } .NetworKit_Page .Block .Thumbnail_Overview, .NetworKit_Page .Block .Thumbnail_ScatterPlot { width: 260px; float: left; } .NetworKit_Page .Block .Thumbnail_Overview img, .NetworKit_Page .Block .Thumbnail_ScatterPlot img { width: 260px; } .NetworKit_Page .Block .Thumbnail_Overview:before, .NetworKit_Page .Block .Thumbnail_ScatterPlot:before { display: block; text-align: center; font-weight: bold; } .NetworKit_Page .Block .Thumbnail_Overview:before { content: attr(data-title); } .NetworKit_Page .HeatCell { font-family: \"Courier New\", Courier, monospace; cursor: pointer; } .NetworKit_Page .HeatCell, .NetworKit_Page .HeatCellName { display: inline; padding: 0.1em; margin-right: 2px; background-color: #FFFFFF } .NetworKit_Page .HeatCellName { margin-left: 0.25em; } .NetworKit_Page .HeatCell:before { content: attr(data-heat); display: inline-block; color: #000000; width: 4em; text-align: center; } .NetworKit_Page .Measure { clear: both; } .NetworKit_Page .Measure .Details { cursor: pointer; } .NetworKit_Page .Measure .Details:before { content: \"[\" attr(data-title) \"]\"; display: block; } .NetworKit_Page .Measure .Details .Value { border-left: 1px dotted black; margin-left: 0.4em; padding-left: 3.5em; pointer-events: none; } .NetworKit_Page .Measure .Details .Spacer:before { content: \".\"; opacity: 0.0; pointer-events: none; } .NetworKit_Page .Measure .Plot { width: 440px; height: 440px; cursor: pointer; float: left; margin-left: -0.9em; margin-right: 20px; } .NetworKit_Page .Measure .Plot .Image { background-repeat: no-repeat; background-position: center center; background-size: contain; height: 100%; pointer-events: none; } .NetworKit_Page .Measure .Stat { width: 500px; float: left; } .NetworKit_Page .Measure .Stat .Group { padding-left: 1.25em; margin-bottom: 0.75em; } .NetworKit_Page .Measure .Stat .Group .Title { font-size: 1.1em; display: block; margin-bottom: 0.3em; margin-left: -0.75em; border-right-style: dotted; border-right-width: 1px; border-bottom-style: dotted; border-bottom-width: 1px; background-color: #D0D0D0; padding-left: 0.2em; } .NetworKit_Page .Measure .Stat .Group .List { -webkit-column-count: 3; -moz-column-count: 3; column-count: 3; } .NetworKit_Page .Measure .Stat .Group .List .Entry { position: relative; line-height: 1.75em; } .NetworKit_Page .Measure .Stat .Group .List .Entry[data-tooltip]:before { position: absolute; left: 0; top: -40px; background-color: #808080; color: #ffffff; height: 30px; line-height: 30px; border-radius: 5px; padding: 0 15px; content: attr(data-tooltip); white-space: nowrap; display: none; } .NetworKit_Page .Measure .Stat .Group .List .Entry[data-tooltip]:after { position: absolute; left: 15px; top: -10px; border-top: 7px solid #808080; border-left: 7px solid transparent; border-right: 7px solid transparent; content: \"\"; display: none; } .NetworKit_Page .Measure .Stat .Group .List .Entry[data-tooltip]:hover:after, .NetworKit_Page .Measure .Stat .Group .List .Entry[data-tooltip]:hover:before { display: block; } .NetworKit_Page .Measure .Stat .Group .List .Entry .MathValue { font-family: \"Courier New\", Courier, monospace; } .NetworKit_Page .Measure:after { content: \".\"; visibility: hidden; display: block; height: 0; clear: both; } .NetworKit_Page .PartitionPie { clear: both; } .NetworKit_Page .PartitionPie img { width: 600px; } #NetworKit_Overlay { left: 0px; top: 0px; display: none; position: absolute; width: 100%; height: 100%; background-color: rgba(0,0,0,0.6); z-index: 1000; } #NetworKit_Overlay_Title { position: absolute; color: white; transform: rotate(-90deg); width: 32em; height: 32em; padding-right: 0.5em; padding-top: 0.5em; text-align: right; font-size: 40px; } #NetworKit_Overlay .button { background: white; cursor: pointer; } #NetworKit_Overlay .button:before { size: 13px; display: inline-block; text-align: center; margin-top: 0.5em; margin-bottom: 0.5em; width: 1.5em; height: 1.5em; } #NetworKit_Overlay .icon-close:before { content: \"X\"; } #NetworKit_Overlay .icon-previous:before { content: \"P\"; } #NetworKit_Overlay .icon-next:before { content: \"N\"; } #NetworKit_Overlay .icon-save:before { content: \"S\"; } #NetworKit_Overlay_Toolbar_Top, #NetworKit_Overlay_Toolbar_Bottom { position: absolute; width: 40px; right: 13px; text-align: right; z-index: 1100; } #NetworKit_Overlay_Toolbar_Top { top: 0.5em; } #NetworKit_Overlay_Toolbar_Bottom { Bottom: 0.5em; } #NetworKit_Overlay_ImageContainer { position: absolute; top: 5%; left: 5%; height: 90%; width: 90%; background-repeat: no-repeat; background-position: center center; background-size: contain; } #NetworKit_Overlay_Image { height: 100%; width: 100%; background-repeat: no-repeat; background-position: center center; background-size: contain; }';\n",
       "\t\t\t\telement.setAttribute('id', 'NetworKit_style');\n",
       "\t\t\t\tdocument.head.appendChild(element);\n",
       "\t\t\t}\n",
       "\t\t\n",
       "\t\t\t\t\n",
       "\t\t\t{\n",
       "\t\t\t\tvar element = document.getElementById('NetworKit_Overlay');\n",
       "\t\t\t\tif (element) {\n",
       "\t\t\t\t\telement.parentNode.removeChild(element);\n",
       "\t\t\t\t}\n",
       "\t\t\t\telement = document.createElement('div');\n",
       "\t\t\t\telement.innerHTML = '<div id=\"NetworKit_Overlay_Toolbar_Top\"><div class=\"button icon-close\" id=\"NetworKit_Overlay_Close\" /></div><div id=\"NetworKit_Overlay_Title\" /> <div id=\"NetworKit_Overlay_ImageContainer\"> <div id=\"NetworKit_Overlay_Image\" /> </div> <div id=\"NetworKit_Overlay_Toolbar_Bottom\"> <div class=\"button icon-previous\" onclick=\"NetworKit_overlayImageShift(-1)\" /> <div class=\"button icon-next\" onclick=\"NetworKit_overlayImageShift(1)\" /> <a id=\"NetworKit_Overlay_Toolbar_Bottom_Save\"><div class=\"button icon-save\" /></a> </div>';\n",
       "\t\t\t\telement.setAttribute('id', 'NetworKit_Overlay');\n",
       "\t\t\t\tdocument.body.appendChild(element);\n",
       "\t\t\t\tdocument.getElementById('NetworKit_Overlay_Close').onclick = function (e) {\n",
       "\t\t\t\t\tdocument.getElementById('NetworKit_Overlay').style.display = 'none';\n",
       "\t\t\t\t}\n",
       "\t\t\t}\n",
       "\t\t\n",
       "\t\t\t-->\n",
       "\t\t\t</script>\n",
       "\t\t"
      ]
     },
     "metadata": {},
     "output_type": "display_data"
    }
   ],
   "source": [
    "\n",
    "from networkit import *\n",
    "import glob\n",
    "from tqdm import tqdm_notebook\n",
    "import networkit as nx\n",
    "import json\n",
    "import pandas as pd\n",
    "import matplotlib.pyplot as plt\n",
    "import seaborn as sns\n",
    "import matplotlib\n",
    "import datetime\n",
    "import pickle\n",
    "from glob import glob\n",
    "from datetime import datetime\n"
   ]
  },
  {
   "cell_type": "code",
   "execution_count": 2,
   "metadata": {},
   "outputs": [],
   "source": [
    "nx.setNumberOfThreads(20)\n",
    "nx.setLogLevel(\"TRACE\")"
   ]
  },
  {
   "cell_type": "code",
   "execution_count": 3,
   "metadata": {},
   "outputs": [],
   "source": [
    "with open('../user_details.json') as fp:\n",
    "    dict_users_original = json.load(fp)\n",
    "with open('../Networks/interaction_network_per_month.json', 'rb') as fp:\n",
    "    data = pickle.load(fp)\n",
    "with open('../Networks/kcore_temportal.json', 'rb') as fp:\n",
    "    monthwise_kcore_dict = pickle.load(fp)  \n",
    "with open('../Networks/map_dict_kcore.json', 'rb') as fp:\n",
    "    map_dict_kcore = pickle.load(fp)  \n",
    "    \n",
    "df_user_label=pd.read_csv('../Results/user_labelling.csv')\n",
    "all_normal_dict={key:1 for key in list(df_user_label[df_user_label['label']=='normal']['user_key'])}\n",
    "df_matched=pd.read_csv('../Results/matched.csv')\n",
    "\n"
   ]
  },
  {
   "cell_type": "code",
   "execution_count": 4,
   "metadata": {},
   "outputs": [],
   "source": [
    "with open('../Networks/interaction_network_per_month.json', 'rb') as fp:\n",
    "    interaction_data = pickle.load(fp)\n"
   ]
  },
  {
   "cell_type": "code",
   "execution_count": 5,
   "metadata": {},
   "outputs": [],
   "source": [
    "with open('../Networks/betweeness_centrality.json', 'rb') as fp:\n",
    "    betweenness_data = pickle.load(fp)\n",
    "    \n",
    "with open('../Networks/eigen_vector_centrality.json', 'rb') as fp:\n",
    "    eigen_data = pickle.load(fp)\n"
   ]
  },
  {
   "cell_type": "code",
   "execution_count": 6,
   "metadata": {},
   "outputs": [],
   "source": [
    "df_betweenness=pd.DataFrame(betweenness_data.values())"
   ]
  },
  {
   "cell_type": "code",
   "execution_count": 7,
   "metadata": {},
   "outputs": [],
   "source": [
    "df_users_timeline=pd.read_csv('../Results/kcore_analysis.csv')\n"
   ]
  },
  {
   "cell_type": "code",
   "execution_count": 8,
   "metadata": {},
   "outputs": [],
   "source": [
    "file = '../../../../GAB_data/FollowersFollowing/Follow_Following_June2018.json'"
   ]
  },
  {
   "cell_type": "code",
   "execution_count": 9,
   "metadata": {},
   "outputs": [],
   "source": [
    "threshold={'hatespeech':0.9,'fearspeech':0.7,'normal':0.7}\n",
    "dict_labels={'hatespeech':2,'fearspeech':1,'normal':0}\n",
    "reverse_dict_labels={dict_labels[key]:key for key in dict_labels.keys()}"
   ]
  },
  {
   "cell_type": "code",
   "execution_count": 10,
   "metadata": {},
   "outputs": [
    {
     "name": "stderr",
     "output_type": "stream",
     "text": [
      "<ipython-input-10-087242fa3de8>:6: TqdmDeprecationWarning: This function will be removed in tqdm==5.0.0\n",
      "Please use `tqdm.notebook.tqdm` instead of `tqdm.tqdm_notebook`\n",
      "  for file in tqdm_notebook(files,total=len(files)):\n"
     ]
    },
    {
     "data": {
      "application/vnd.jupyter.widget-view+json": {
       "model_id": "413224aba14e4e059d856e6e0eb6df65",
       "version_major": 2,
       "version_minor": 0
      },
      "text/plain": [
       "  0%|          | 0/212 [00:00<?, ?it/s]"
      ]
     },
     "metadata": {},
     "output_type": "display_data"
    }
   ],
   "source": [
    "dict_users={}\n",
    "dict_users_ambi={}\n",
    "files = sorted(glob('../../Gab_Data/new_features_old_gab/gab_fear_hate_features*.pickle'))\n",
    "\n",
    "\n",
    "for file in tqdm_notebook(files,total=len(files)):\n",
    "    \n",
    "    with open(file, 'rb') as handle:\n",
    "        Gab_keyword_match = pickle.load(handle)\n",
    "    \n",
    "    if('predicted_probab' not in Gab_keyword_match[1].keys()):\n",
    "        continue\n",
    "    for element in Gab_keyword_match:\n",
    "        \n",
    "        \n",
    "        try:\n",
    "            dt = datetime.fromisoformat(element['post_create_time'])\n",
    "            key_new=str(dt.month)+'/'+str(dt.year)\n",
    "        except KeyError:\n",
    "            continue\n",
    "\n",
    "    \n",
    "        \n",
    "        labels=[]\n",
    "        for i in range(len(element['predicted_probab'])):\n",
    "            if(element['predicted_probab'][i]>threshold[reverse_dict_labels[i]]):\n",
    "                labels.append(reverse_dict_labels[i])\n",
    "        \n",
    "        labels_ambi=[]\n",
    "        for i in range(len(element['predicted_probab'])):\n",
    "            if(element['predicted_probab'][i]>0.5):\n",
    "                labels_ambi.append(reverse_dict_labels[i])\n",
    "        \n",
    "        \n",
    "        try:\n",
    "            for label in labels:\n",
    "                dict_users[element['username']][label]+=1\n",
    "            dict_users[element['username']]['total']+=1\n",
    "        except KeyError:\n",
    "            try:\n",
    "                dict_users[element['username']]={'fearspeech':0,'hatespeech':0,'normal':0,'total':0}\n",
    "                for label in labels:\n",
    "                    dict_users[element['username']][label]+=1\n",
    "                dict_users[element['username']]['total']+=1\n",
    "\n",
    "            except KeyError:\n",
    "                pass\n",
    "#         try:\n",
    "#             for label in labels:\n",
    "#                 dict_users_ambi[element['username']][label]+=1\n",
    "#             dict_users_ambi[element['username']]['total']+=1\n",
    "#         except KeyError:\n",
    "#             dict_users_ambi[element['username']]={'fearspeech':0,'hatespeech':0,'normal':0,'total':0}\n",
    "#             for label in labels:\n",
    "#                 dict_users_ambi[element['username']][label]+=1\n",
    "#             dict_users_ambi[element['username']]['total']+=1\n",
    "\n",
    "            "
   ]
  },
  {
   "cell_type": "code",
   "execution_count": 11,
   "metadata": {},
   "outputs": [
    {
     "data": {
      "text/plain": [
       "172917"
      ]
     },
     "execution_count": 11,
     "metadata": {},
     "output_type": "execute_result"
    }
   ],
   "source": [
    "len(dict_users)"
   ]
  },
  {
   "cell_type": "code",
   "execution_count": 12,
   "metadata": {},
   "outputs": [],
   "source": [
    "dict_users_filter={}\n",
    "max_fear=0\n",
    "max_hate=0\n",
    "for key in dict_users.keys():\n",
    "    user=dict_users[key]\n",
    "    total=user['fearspeech']+user['hatespeech']\n",
    "    \n",
    "    if(user['fearspeech']>max_fear):\n",
    "        max_fear=user['fearspeech']\n",
    "    \n",
    "    if(user['hatespeech']>max_hate):\n",
    "        max_hate=user['hatespeech']\n",
    "    \n",
    "    if(total>=10):\n",
    "        dict_users_filter[key]=user\n",
    "        dict_users_filter[key]['name']=key\n"
   ]
  },
  {
   "cell_type": "code",
   "execution_count": 13,
   "metadata": {},
   "outputs": [],
   "source": [
    "df_final_users=pd.DataFrame(dict_users_filter).transpose()"
   ]
  },
  {
   "cell_type": "code",
   "execution_count": 14,
   "metadata": {},
   "outputs": [
    {
     "data": {
      "text/html": [
       "<div>\n",
       "<style scoped>\n",
       "    .dataframe tbody tr th:only-of-type {\n",
       "        vertical-align: middle;\n",
       "    }\n",
       "\n",
       "    .dataframe tbody tr th {\n",
       "        vertical-align: top;\n",
       "    }\n",
       "\n",
       "    .dataframe thead th {\n",
       "        text-align: right;\n",
       "    }\n",
       "</style>\n",
       "<table border=\"1\" class=\"dataframe\">\n",
       "  <thead>\n",
       "    <tr style=\"text-align: right;\">\n",
       "      <th></th>\n",
       "      <th>fearspeech</th>\n",
       "      <th>hatespeech</th>\n",
       "      <th>normal</th>\n",
       "      <th>total</th>\n",
       "      <th>name</th>\n",
       "    </tr>\n",
       "  </thead>\n",
       "  <tbody>\n",
       "    <tr>\n",
       "      <th>radiofan2</th>\n",
       "      <td>47</td>\n",
       "      <td>26</td>\n",
       "      <td>1716</td>\n",
       "      <td>2287</td>\n",
       "      <td>radiofan2</td>\n",
       "    </tr>\n",
       "    <tr>\n",
       "      <th>kaser100</th>\n",
       "      <td>306</td>\n",
       "      <td>42</td>\n",
       "      <td>4862</td>\n",
       "      <td>7319</td>\n",
       "      <td>kaser100</td>\n",
       "    </tr>\n",
       "    <tr>\n",
       "      <th>DeplorableRick</th>\n",
       "      <td>18</td>\n",
       "      <td>19</td>\n",
       "      <td>760</td>\n",
       "      <td>1241</td>\n",
       "      <td>DeplorableRick</td>\n",
       "    </tr>\n",
       "    <tr>\n",
       "      <th>kingdomMan</th>\n",
       "      <td>89</td>\n",
       "      <td>4</td>\n",
       "      <td>1172</td>\n",
       "      <td>1969</td>\n",
       "      <td>kingdomMan</td>\n",
       "    </tr>\n",
       "    <tr>\n",
       "      <th>Whicket</th>\n",
       "      <td>490</td>\n",
       "      <td>108</td>\n",
       "      <td>16161</td>\n",
       "      <td>21862</td>\n",
       "      <td>Whicket</td>\n",
       "    </tr>\n",
       "    <tr>\n",
       "      <th>...</th>\n",
       "      <td>...</td>\n",
       "      <td>...</td>\n",
       "      <td>...</td>\n",
       "      <td>...</td>\n",
       "      <td>...</td>\n",
       "    </tr>\n",
       "    <tr>\n",
       "      <th>WeAreAllTommyRobinson</th>\n",
       "      <td>8</td>\n",
       "      <td>2</td>\n",
       "      <td>9</td>\n",
       "      <td>45</td>\n",
       "      <td>WeAreAllTommyRobinson</td>\n",
       "    </tr>\n",
       "    <tr>\n",
       "      <th>Luther2</th>\n",
       "      <td>7</td>\n",
       "      <td>23</td>\n",
       "      <td>8</td>\n",
       "      <td>62</td>\n",
       "      <td>Luther2</td>\n",
       "    </tr>\n",
       "    <tr>\n",
       "      <th>anhero23</th>\n",
       "      <td>3</td>\n",
       "      <td>10</td>\n",
       "      <td>74</td>\n",
       "      <td>157</td>\n",
       "      <td>anhero23</td>\n",
       "    </tr>\n",
       "    <tr>\n",
       "      <th>PewDieNazi</th>\n",
       "      <td>0</td>\n",
       "      <td>15</td>\n",
       "      <td>12</td>\n",
       "      <td>31</td>\n",
       "      <td>PewDieNazi</td>\n",
       "    </tr>\n",
       "    <tr>\n",
       "      <th>MOTOFIEND</th>\n",
       "      <td>2</td>\n",
       "      <td>9</td>\n",
       "      <td>15</td>\n",
       "      <td>64</td>\n",
       "      <td>MOTOFIEND</td>\n",
       "    </tr>\n",
       "  </tbody>\n",
       "</table>\n",
       "<p>9245 rows × 5 columns</p>\n",
       "</div>"
      ],
      "text/plain": [
       "                      fearspeech hatespeech normal  total  \\\n",
       "radiofan2                     47         26   1716   2287   \n",
       "kaser100                     306         42   4862   7319   \n",
       "DeplorableRick                18         19    760   1241   \n",
       "kingdomMan                    89          4   1172   1969   \n",
       "Whicket                      490        108  16161  21862   \n",
       "...                          ...        ...    ...    ...   \n",
       "WeAreAllTommyRobinson          8          2      9     45   \n",
       "Luther2                        7         23      8     62   \n",
       "anhero23                       3         10     74    157   \n",
       "PewDieNazi                     0         15     12     31   \n",
       "MOTOFIEND                      2          9     15     64   \n",
       "\n",
       "                                        name  \n",
       "radiofan2                          radiofan2  \n",
       "kaser100                            kaser100  \n",
       "DeplorableRick                DeplorableRick  \n",
       "kingdomMan                        kingdomMan  \n",
       "Whicket                              Whicket  \n",
       "...                                      ...  \n",
       "WeAreAllTommyRobinson  WeAreAllTommyRobinson  \n",
       "Luther2                              Luther2  \n",
       "anhero23                            anhero23  \n",
       "PewDieNazi                        PewDieNazi  \n",
       "MOTOFIEND                          MOTOFIEND  \n",
       "\n",
       "[9245 rows x 5 columns]"
      ]
     },
     "execution_count": 14,
     "metadata": {},
     "output_type": "execute_result"
    }
   ],
   "source": [
    "df_final_users"
   ]
  },
  {
   "cell_type": "code",
   "execution_count": null,
   "metadata": {},
   "outputs": [],
   "source": [
    "df_final_users.to_csv('../Results/user_distribution.csv',index=False)"
   ]
  },
  {
   "cell_type": "markdown",
   "metadata": {},
   "source": [
    "### Final analysis"
   ]
  },
  {
   "cell_type": "code",
   "execution_count": 15,
   "metadata": {},
   "outputs": [],
   "source": [
    "list_bd=[]\n",
    "list_ev=[]\n",
    "list_followers=[]\n",
    "list_following=[]\n",
    "\n",
    "\n",
    "for index,row in df_final_users.iterrows():\n",
    "    list_bd.append(betweenness_data[index])\n",
    "    list_ev.append(eigen_data[index])\n",
    "    list_following.append(dict_users_original[index]['followers_count'])\n",
    "    list_followers.append(dict_users_original[index]['followings_count'])\n"
   ]
  },
  {
   "cell_type": "code",
   "execution_count": null,
   "metadata": {},
   "outputs": [],
   "source": [
    "# df_final_users['fearspeech']=df_final_users['fearspeech']/df_final_users['total']\n",
    "# df_final_users['hatespeech']=df_final_users['hatespeech']/df_final_users['total']\n"
   ]
  },
  {
   "cell_type": "code",
   "execution_count": 16,
   "metadata": {},
   "outputs": [
    {
     "data": {
      "text/html": [
       "<div>\n",
       "<style scoped>\n",
       "    .dataframe tbody tr th:only-of-type {\n",
       "        vertical-align: middle;\n",
       "    }\n",
       "\n",
       "    .dataframe tbody tr th {\n",
       "        vertical-align: top;\n",
       "    }\n",
       "\n",
       "    .dataframe thead th {\n",
       "        text-align: right;\n",
       "    }\n",
       "</style>\n",
       "<table border=\"1\" class=\"dataframe\">\n",
       "  <thead>\n",
       "    <tr style=\"text-align: right;\">\n",
       "      <th></th>\n",
       "      <th>fearspeech</th>\n",
       "      <th>hatespeech</th>\n",
       "      <th>normal</th>\n",
       "      <th>total</th>\n",
       "      <th>name</th>\n",
       "    </tr>\n",
       "  </thead>\n",
       "  <tbody>\n",
       "    <tr>\n",
       "      <th>radiofan2</th>\n",
       "      <td>47</td>\n",
       "      <td>26</td>\n",
       "      <td>1716</td>\n",
       "      <td>2287</td>\n",
       "      <td>radiofan2</td>\n",
       "    </tr>\n",
       "    <tr>\n",
       "      <th>kaser100</th>\n",
       "      <td>306</td>\n",
       "      <td>42</td>\n",
       "      <td>4862</td>\n",
       "      <td>7319</td>\n",
       "      <td>kaser100</td>\n",
       "    </tr>\n",
       "    <tr>\n",
       "      <th>DeplorableRick</th>\n",
       "      <td>18</td>\n",
       "      <td>19</td>\n",
       "      <td>760</td>\n",
       "      <td>1241</td>\n",
       "      <td>DeplorableRick</td>\n",
       "    </tr>\n",
       "    <tr>\n",
       "      <th>kingdomMan</th>\n",
       "      <td>89</td>\n",
       "      <td>4</td>\n",
       "      <td>1172</td>\n",
       "      <td>1969</td>\n",
       "      <td>kingdomMan</td>\n",
       "    </tr>\n",
       "    <tr>\n",
       "      <th>Whicket</th>\n",
       "      <td>490</td>\n",
       "      <td>108</td>\n",
       "      <td>16161</td>\n",
       "      <td>21862</td>\n",
       "      <td>Whicket</td>\n",
       "    </tr>\n",
       "    <tr>\n",
       "      <th>...</th>\n",
       "      <td>...</td>\n",
       "      <td>...</td>\n",
       "      <td>...</td>\n",
       "      <td>...</td>\n",
       "      <td>...</td>\n",
       "    </tr>\n",
       "    <tr>\n",
       "      <th>WeAreAllTommyRobinson</th>\n",
       "      <td>8</td>\n",
       "      <td>2</td>\n",
       "      <td>9</td>\n",
       "      <td>45</td>\n",
       "      <td>WeAreAllTommyRobinson</td>\n",
       "    </tr>\n",
       "    <tr>\n",
       "      <th>Luther2</th>\n",
       "      <td>7</td>\n",
       "      <td>23</td>\n",
       "      <td>8</td>\n",
       "      <td>62</td>\n",
       "      <td>Luther2</td>\n",
       "    </tr>\n",
       "    <tr>\n",
       "      <th>anhero23</th>\n",
       "      <td>3</td>\n",
       "      <td>10</td>\n",
       "      <td>74</td>\n",
       "      <td>157</td>\n",
       "      <td>anhero23</td>\n",
       "    </tr>\n",
       "    <tr>\n",
       "      <th>PewDieNazi</th>\n",
       "      <td>0</td>\n",
       "      <td>15</td>\n",
       "      <td>12</td>\n",
       "      <td>31</td>\n",
       "      <td>PewDieNazi</td>\n",
       "    </tr>\n",
       "    <tr>\n",
       "      <th>MOTOFIEND</th>\n",
       "      <td>2</td>\n",
       "      <td>9</td>\n",
       "      <td>15</td>\n",
       "      <td>64</td>\n",
       "      <td>MOTOFIEND</td>\n",
       "    </tr>\n",
       "  </tbody>\n",
       "</table>\n",
       "<p>9245 rows × 5 columns</p>\n",
       "</div>"
      ],
      "text/plain": [
       "                      fearspeech hatespeech normal  total  \\\n",
       "radiofan2                     47         26   1716   2287   \n",
       "kaser100                     306         42   4862   7319   \n",
       "DeplorableRick                18         19    760   1241   \n",
       "kingdomMan                    89          4   1172   1969   \n",
       "Whicket                      490        108  16161  21862   \n",
       "...                          ...        ...    ...    ...   \n",
       "WeAreAllTommyRobinson          8          2      9     45   \n",
       "Luther2                        7         23      8     62   \n",
       "anhero23                       3         10     74    157   \n",
       "PewDieNazi                     0         15     12     31   \n",
       "MOTOFIEND                      2          9     15     64   \n",
       "\n",
       "                                        name  \n",
       "radiofan2                          radiofan2  \n",
       "kaser100                            kaser100  \n",
       "DeplorableRick                DeplorableRick  \n",
       "kingdomMan                        kingdomMan  \n",
       "Whicket                              Whicket  \n",
       "...                                      ...  \n",
       "WeAreAllTommyRobinson  WeAreAllTommyRobinson  \n",
       "Luther2                              Luther2  \n",
       "anhero23                            anhero23  \n",
       "PewDieNazi                        PewDieNazi  \n",
       "MOTOFIEND                          MOTOFIEND  \n",
       "\n",
       "[9245 rows x 5 columns]"
      ]
     },
     "execution_count": 16,
     "metadata": {},
     "output_type": "execute_result"
    }
   ],
   "source": [
    "df_final_users"
   ]
  },
  {
   "cell_type": "code",
   "execution_count": 17,
   "metadata": {},
   "outputs": [],
   "source": [
    "df_final_users['eigen_vector']=list_ev\n",
    "df_final_users['betweeness']=list_bd\n",
    "df_final_users['followers']=list_followers\n",
    "df_final_users['following']=list_following"
   ]
  },
  {
   "cell_type": "code",
   "execution_count": 18,
   "metadata": {},
   "outputs": [
    {
     "name": "stderr",
     "output_type": "stream",
     "text": [
      "<ipython-input-18-f1876a20756d>:3: TqdmDeprecationWarning: This function will be removed in tqdm==5.0.0\n",
      "Please use `tqdm.notebook.tqdm` instead of `tqdm.tqdm_notebook`\n",
      "  for index,row in tqdm_notebook(df_final_users.iterrows(),total=len(df_final_users)):\n"
     ]
    },
    {
     "data": {
      "application/vnd.jupyter.widget-view+json": {
       "model_id": "7a1bb0d0062c4205a35b1edcf2139d3a",
       "version_major": 2,
       "version_minor": 0
      },
      "text/plain": [
       "  0%|          | 0/9245 [00:00<?, ?it/s]"
      ]
     },
     "metadata": {},
     "output_type": "display_data"
    }
   ],
   "source": [
    "time_to_reach_list=[]\n",
    "velocity=[]\n",
    "for index,row in tqdm_notebook(df_final_users.iterrows(),total=len(df_final_users)):\n",
    "    try:\n",
    "        time=df_users_timeline[df_users_timeline['user_key']==index]['time_to_reach'].iloc[0]\n",
    "        vel=df_users_timeline[df_users_timeline['user_key']==index]['velocity'].iloc[0]\n",
    "    except IndexError:\n",
    "        time=-1\n",
    "        vel=-1\n",
    "    time_to_reach_list.append(time)\n",
    "    velocity.append(vel)\n",
    "    "
   ]
  },
  {
   "cell_type": "code",
   "execution_count": null,
   "metadata": {},
   "outputs": [],
   "source": []
  },
  {
   "cell_type": "code",
   "execution_count": 19,
   "metadata": {},
   "outputs": [
    {
     "ename": "NameError",
     "evalue": "name 'df_90' is not defined",
     "output_type": "error",
     "traceback": [
      "\u001b[0;31m---------------------------------------------------------------------------\u001b[0m",
      "\u001b[0;31mNameError\u001b[0m                                 Traceback (most recent call last)",
      "\u001b[0;32m<ipython-input-19-17946c0c8141>\u001b[0m in \u001b[0;36m<module>\u001b[0;34m\u001b[0m\n\u001b[1;32m      1\u001b[0m \u001b[0mfollowing_follower_ratio\u001b[0m\u001b[0;34m=\u001b[0m\u001b[0;34m[\u001b[0m\u001b[0;34m]\u001b[0m\u001b[0;34m\u001b[0m\u001b[0;34m\u001b[0m\u001b[0m\n\u001b[0;32m----> 2\u001b[0;31m \u001b[0;32mfor\u001b[0m \u001b[0mindex\u001b[0m\u001b[0;34m,\u001b[0m\u001b[0mrow\u001b[0m \u001b[0;32min\u001b[0m \u001b[0mdf_90\u001b[0m\u001b[0;34m.\u001b[0m\u001b[0miterrows\u001b[0m\u001b[0;34m(\u001b[0m\u001b[0;34m)\u001b[0m\u001b[0;34m:\u001b[0m\u001b[0;34m\u001b[0m\u001b[0;34m\u001b[0m\u001b[0m\n\u001b[0m\u001b[1;32m      3\u001b[0m     \u001b[0;32mif\u001b[0m\u001b[0;34m(\u001b[0m\u001b[0mrow\u001b[0m\u001b[0;34m[\u001b[0m\u001b[0;34m'followers'\u001b[0m\u001b[0;34m]\u001b[0m\u001b[0;34m>\u001b[0m\u001b[0;36m10\u001b[0m\u001b[0;34m)\u001b[0m\u001b[0;34m:\u001b[0m\u001b[0;34m\u001b[0m\u001b[0;34m\u001b[0m\u001b[0m\n\u001b[1;32m      4\u001b[0m         \u001b[0mfollowing_follower_ratio\u001b[0m\u001b[0;34m.\u001b[0m\u001b[0mappend\u001b[0m\u001b[0;34m(\u001b[0m\u001b[0;34m[\u001b[0m\u001b[0mrow\u001b[0m\u001b[0;34m[\u001b[0m\u001b[0;34m'name'\u001b[0m\u001b[0;34m]\u001b[0m\u001b[0;34m,\u001b[0m\u001b[0mrow\u001b[0m\u001b[0;34m[\u001b[0m\u001b[0;34m'following'\u001b[0m\u001b[0;34m]\u001b[0m\u001b[0;34m/\u001b[0m\u001b[0mrow\u001b[0m\u001b[0;34m[\u001b[0m\u001b[0;34m'followers'\u001b[0m\u001b[0;34m]\u001b[0m\u001b[0;34m]\u001b[0m\u001b[0;34m)\u001b[0m\u001b[0;34m\u001b[0m\u001b[0;34m\u001b[0m\u001b[0m\n",
      "\u001b[0;31mNameError\u001b[0m: name 'df_90' is not defined"
     ]
    }
   ],
   "source": [
    "following_follower_ratio=[]\n",
    "for index,row in df_90.iterrows():\n",
    "    if(row['followers']>10):\n",
    "        following_follower_ratio.append([row['name'],row['following']/row['followers']])"
   ]
  },
  {
   "cell_type": "code",
   "execution_count": null,
   "metadata": {},
   "outputs": [],
   "source": [
    "count=1\n",
    "users_to_remove=[]\n",
    "for ratio in following_follower_ratio:\n",
    "    if(ratio[1]>10):\n",
    "        users_to_remove.append(ratio[0])\n",
    "        count+=1\n",
    "\n",
    "count"
   ]
  },
  {
   "cell_type": "code",
   "execution_count": null,
   "metadata": {},
   "outputs": [],
   "source": [
    "df_90.drop(users_to_remove, inplace = True )\n"
   ]
  },
  {
   "cell_type": "code",
   "execution_count": 84,
   "metadata": {},
   "outputs": [],
   "source": [
    "df_final_users['time_to_reach']=time_to_reach_list\n",
    "df_final_users['velocity']=velocity"
   ]
  },
  {
   "cell_type": "code",
   "execution_count": 85,
   "metadata": {},
   "outputs": [
    {
     "data": {
      "text/html": [
       "<div>\n",
       "<style scoped>\n",
       "    .dataframe tbody tr th:only-of-type {\n",
       "        vertical-align: middle;\n",
       "    }\n",
       "\n",
       "    .dataframe tbody tr th {\n",
       "        vertical-align: top;\n",
       "    }\n",
       "\n",
       "    .dataframe thead th {\n",
       "        text-align: right;\n",
       "    }\n",
       "</style>\n",
       "<table border=\"1\" class=\"dataframe\">\n",
       "  <thead>\n",
       "    <tr style=\"text-align: right;\">\n",
       "      <th></th>\n",
       "      <th>fearspeech</th>\n",
       "      <th>hatespeech</th>\n",
       "      <th>normal</th>\n",
       "      <th>total</th>\n",
       "      <th>name</th>\n",
       "      <th>eigen_vector</th>\n",
       "      <th>betweeness</th>\n",
       "      <th>followers</th>\n",
       "      <th>following</th>\n",
       "      <th>normal_followers</th>\n",
       "      <th>normal_reposters</th>\n",
       "      <th>total_normal_reposts</th>\n",
       "      <th>normal_mentions</th>\n",
       "      <th>total_normal_mentions</th>\n",
       "      <th>normal_repliers</th>\n",
       "      <th>total_normal_replies</th>\n",
       "      <th>time_to_reach</th>\n",
       "      <th>velocity</th>\n",
       "    </tr>\n",
       "  </thead>\n",
       "  <tbody>\n",
       "    <tr>\n",
       "      <th>radiofan2</th>\n",
       "      <td>47</td>\n",
       "      <td>26</td>\n",
       "      <td>1716</td>\n",
       "      <td>2287</td>\n",
       "      <td>radiofan2</td>\n",
       "      <td>0.006149</td>\n",
       "      <td>0.000000</td>\n",
       "      <td>967</td>\n",
       "      <td>1103</td>\n",
       "      <td>0.205802</td>\n",
       "      <td>5</td>\n",
       "      <td>6</td>\n",
       "      <td>5</td>\n",
       "      <td>6</td>\n",
       "      <td>5</td>\n",
       "      <td>6</td>\n",
       "      <td>0</td>\n",
       "      <td>0.0</td>\n",
       "    </tr>\n",
       "    <tr>\n",
       "      <th>kaser100</th>\n",
       "      <td>306</td>\n",
       "      <td>42</td>\n",
       "      <td>4862</td>\n",
       "      <td>7319</td>\n",
       "      <td>kaser100</td>\n",
       "      <td>0.015517</td>\n",
       "      <td>0.000055</td>\n",
       "      <td>2082</td>\n",
       "      <td>1904</td>\n",
       "      <td>0.247899</td>\n",
       "      <td>36</td>\n",
       "      <td>51</td>\n",
       "      <td>36</td>\n",
       "      <td>51</td>\n",
       "      <td>36</td>\n",
       "      <td>51</td>\n",
       "      <td>1</td>\n",
       "      <td>1.0</td>\n",
       "    </tr>\n",
       "    <tr>\n",
       "      <th>DeplorableRick</th>\n",
       "      <td>18</td>\n",
       "      <td>19</td>\n",
       "      <td>760</td>\n",
       "      <td>1241</td>\n",
       "      <td>DeplorableRick</td>\n",
       "      <td>0.005291</td>\n",
       "      <td>0.000000</td>\n",
       "      <td>800</td>\n",
       "      <td>978</td>\n",
       "      <td>0.175869</td>\n",
       "      <td>4</td>\n",
       "      <td>8</td>\n",
       "      <td>4</td>\n",
       "      <td>8</td>\n",
       "      <td>4</td>\n",
       "      <td>8</td>\n",
       "      <td>0</td>\n",
       "      <td>0.0</td>\n",
       "    </tr>\n",
       "    <tr>\n",
       "      <th>kingdomMan</th>\n",
       "      <td>89</td>\n",
       "      <td>4</td>\n",
       "      <td>1172</td>\n",
       "      <td>1969</td>\n",
       "      <td>kingdomMan</td>\n",
       "      <td>0.002564</td>\n",
       "      <td>0.000000</td>\n",
       "      <td>536</td>\n",
       "      <td>1043</td>\n",
       "      <td>0.241611</td>\n",
       "      <td>28</td>\n",
       "      <td>35</td>\n",
       "      <td>28</td>\n",
       "      <td>35</td>\n",
       "      <td>28</td>\n",
       "      <td>35</td>\n",
       "      <td>1</td>\n",
       "      <td>1.0</td>\n",
       "    </tr>\n",
       "    <tr>\n",
       "      <th>Whicket</th>\n",
       "      <td>490</td>\n",
       "      <td>108</td>\n",
       "      <td>16161</td>\n",
       "      <td>21862</td>\n",
       "      <td>Whicket</td>\n",
       "      <td>0.015630</td>\n",
       "      <td>0.000041</td>\n",
       "      <td>2059</td>\n",
       "      <td>1767</td>\n",
       "      <td>0.255801</td>\n",
       "      <td>10</td>\n",
       "      <td>12</td>\n",
       "      <td>10</td>\n",
       "      <td>12</td>\n",
       "      <td>10</td>\n",
       "      <td>12</td>\n",
       "      <td>0</td>\n",
       "      <td>0.0</td>\n",
       "    </tr>\n",
       "  </tbody>\n",
       "</table>\n",
       "</div>"
      ],
      "text/plain": [
       "               fearspeech hatespeech normal  total            name  \\\n",
       "radiofan2              47         26   1716   2287       radiofan2   \n",
       "kaser100              306         42   4862   7319        kaser100   \n",
       "DeplorableRick         18         19    760   1241  DeplorableRick   \n",
       "kingdomMan             89          4   1172   1969      kingdomMan   \n",
       "Whicket               490        108  16161  21862         Whicket   \n",
       "\n",
       "                eigen_vector  betweeness  followers  following  \\\n",
       "radiofan2           0.006149    0.000000        967       1103   \n",
       "kaser100            0.015517    0.000055       2082       1904   \n",
       "DeplorableRick      0.005291    0.000000        800        978   \n",
       "kingdomMan          0.002564    0.000000        536       1043   \n",
       "Whicket             0.015630    0.000041       2059       1767   \n",
       "\n",
       "                normal_followers  normal_reposters  total_normal_reposts  \\\n",
       "radiofan2               0.205802                 5                     6   \n",
       "kaser100                0.247899                36                    51   \n",
       "DeplorableRick          0.175869                 4                     8   \n",
       "kingdomMan              0.241611                28                    35   \n",
       "Whicket                 0.255801                10                    12   \n",
       "\n",
       "                normal_mentions  total_normal_mentions  normal_repliers  \\\n",
       "radiofan2                     5                      6                5   \n",
       "kaser100                     36                     51               36   \n",
       "DeplorableRick                4                      8                4   \n",
       "kingdomMan                   28                     35               28   \n",
       "Whicket                      10                     12               10   \n",
       "\n",
       "                total_normal_replies  time_to_reach  velocity  \n",
       "radiofan2                          6              0       0.0  \n",
       "kaser100                          51              1       1.0  \n",
       "DeplorableRick                     8              0       0.0  \n",
       "kingdomMan                        35              1       1.0  \n",
       "Whicket                           12              0       0.0  "
      ]
     },
     "execution_count": 85,
     "metadata": {},
     "output_type": "execute_result"
    }
   ],
   "source": [
    "df_final_users.head()"
   ]
  },
  {
   "cell_type": "markdown",
   "metadata": {},
   "source": [
    "### Follower distribution"
   ]
  },
  {
   "cell_type": "code",
   "execution_count": 20,
   "metadata": {},
   "outputs": [],
   "source": [
    "import networkx as nx\n",
    " \n",
    "\n",
    "def get_graph_features(file):\n",
    "    map_dict={}\n",
    "    follower_dict={}\n",
    "    count=0\n",
    "    with open(file) as fp:\n",
    "        dict_follower_followship=json.load(fp)\n",
    "\n",
    "    for user_key in tqdm_notebook(dict_follower_followship.keys()):\n",
    "        try:\n",
    "            temp=map_dict[user_key]\n",
    "        except KeyError:\n",
    "            map_dict[user_key]=count\n",
    "            count+=1\n",
    "\n",
    "\n",
    "\n",
    "        for user_follower in dict_follower_followship[user_key]['follower']:\n",
    "            try:\n",
    "                temp=map_dict[user_follower]\n",
    "            except KeyError:\n",
    "                map_dict[user_follower]=count\n",
    "                count+=1\n",
    "\n",
    "            try:\n",
    "                follower_dict[map_dict[user_key]][map_dict[user_follower]]=1\n",
    "            except KeyError:\n",
    "                follower_dict[map_dict[user_key]]={}\n",
    "                follower_dict[map_dict[user_key]][map_dict[user_follower]]=1\n",
    "\n",
    "    reverse_map_dict={value:key for key,value in map_dict.items()}\n",
    "\n",
    "    G = nx.DiGraph()\n",
    "    for user_key in follower_dict.keys():\n",
    "        for follower_key in follower_dict[user_key].keys():\n",
    "            G.add_edge(user_key, follower_key)\n",
    "            \n",
    "    return G, map_dict, reverse_map_dict\n",
    "\n"
   ]
  },
  {
   "cell_type": "code",
   "execution_count": 22,
   "metadata": {},
   "outputs": [
    {
     "name": "stderr",
     "output_type": "stream",
     "text": [
      "<ipython-input-20-27f14975ef1c>:11: TqdmDeprecationWarning: This function will be removed in tqdm==5.0.0\n",
      "Please use `tqdm.notebook.tqdm` instead of `tqdm.tqdm_notebook`\n",
      "  for user_key in tqdm_notebook(dict_follower_followship.keys()):\n"
     ]
    },
    {
     "data": {
      "application/vnd.jupyter.widget-view+json": {
       "model_id": "a1679d8d12114a66aa18f08d9f1041d6",
       "version_major": 2,
       "version_minor": 0
      },
      "text/plain": [
       "  0%|          | 0/172929 [00:00<?, ?it/s]"
      ]
     },
     "metadata": {},
     "output_type": "display_data"
    }
   ],
   "source": [
    "file='../../../../GAB_data/FollowersFollowing/Follow_Following_June2018.json'\n",
    "G, map_dict, reverse_map_dict=get_graph_features(file)"
   ]
  },
  {
   "cell_type": "code",
   "execution_count": 32,
   "metadata": {},
   "outputs": [
    {
     "data": {
      "text/html": [
       "<div>\n",
       "<style scoped>\n",
       "    .dataframe tbody tr th:only-of-type {\n",
       "        vertical-align: middle;\n",
       "    }\n",
       "\n",
       "    .dataframe tbody tr th {\n",
       "        vertical-align: top;\n",
       "    }\n",
       "\n",
       "    .dataframe thead th {\n",
       "        text-align: right;\n",
       "    }\n",
       "</style>\n",
       "<table border=\"1\" class=\"dataframe\">\n",
       "  <thead>\n",
       "    <tr style=\"text-align: right;\">\n",
       "      <th></th>\n",
       "      <th>fearspeech</th>\n",
       "      <th>hatespeech</th>\n",
       "      <th>normal</th>\n",
       "      <th>total</th>\n",
       "      <th>name</th>\n",
       "      <th>eigen_vector</th>\n",
       "      <th>betweeness</th>\n",
       "      <th>followers</th>\n",
       "      <th>following</th>\n",
       "      <th>normal_followers</th>\n",
       "    </tr>\n",
       "  </thead>\n",
       "  <tbody>\n",
       "    <tr>\n",
       "      <th>radiofan2</th>\n",
       "      <td>47</td>\n",
       "      <td>26</td>\n",
       "      <td>1716</td>\n",
       "      <td>2287</td>\n",
       "      <td>radiofan2</td>\n",
       "      <td>6.149054e-03</td>\n",
       "      <td>0.000000</td>\n",
       "      <td>967</td>\n",
       "      <td>1103</td>\n",
       "      <td>-1</td>\n",
       "    </tr>\n",
       "    <tr>\n",
       "      <th>kaser100</th>\n",
       "      <td>306</td>\n",
       "      <td>42</td>\n",
       "      <td>4862</td>\n",
       "      <td>7319</td>\n",
       "      <td>kaser100</td>\n",
       "      <td>1.551704e-02</td>\n",
       "      <td>0.000055</td>\n",
       "      <td>2082</td>\n",
       "      <td>1904</td>\n",
       "      <td>-1</td>\n",
       "    </tr>\n",
       "    <tr>\n",
       "      <th>DeplorableRick</th>\n",
       "      <td>18</td>\n",
       "      <td>19</td>\n",
       "      <td>760</td>\n",
       "      <td>1241</td>\n",
       "      <td>DeplorableRick</td>\n",
       "      <td>5.291231e-03</td>\n",
       "      <td>0.000000</td>\n",
       "      <td>800</td>\n",
       "      <td>978</td>\n",
       "      <td>-1</td>\n",
       "    </tr>\n",
       "    <tr>\n",
       "      <th>kingdomMan</th>\n",
       "      <td>89</td>\n",
       "      <td>4</td>\n",
       "      <td>1172</td>\n",
       "      <td>1969</td>\n",
       "      <td>kingdomMan</td>\n",
       "      <td>2.564034e-03</td>\n",
       "      <td>0.000000</td>\n",
       "      <td>536</td>\n",
       "      <td>1043</td>\n",
       "      <td>-1</td>\n",
       "    </tr>\n",
       "    <tr>\n",
       "      <th>Whicket</th>\n",
       "      <td>490</td>\n",
       "      <td>108</td>\n",
       "      <td>16161</td>\n",
       "      <td>21862</td>\n",
       "      <td>Whicket</td>\n",
       "      <td>1.562968e-02</td>\n",
       "      <td>0.000041</td>\n",
       "      <td>2059</td>\n",
       "      <td>1767</td>\n",
       "      <td>-1</td>\n",
       "    </tr>\n",
       "    <tr>\n",
       "      <th>...</th>\n",
       "      <td>...</td>\n",
       "      <td>...</td>\n",
       "      <td>...</td>\n",
       "      <td>...</td>\n",
       "      <td>...</td>\n",
       "      <td>...</td>\n",
       "      <td>...</td>\n",
       "      <td>...</td>\n",
       "      <td>...</td>\n",
       "      <td>...</td>\n",
       "    </tr>\n",
       "    <tr>\n",
       "      <th>WeAreAllTommyRobinson</th>\n",
       "      <td>8</td>\n",
       "      <td>2</td>\n",
       "      <td>9</td>\n",
       "      <td>45</td>\n",
       "      <td>WeAreAllTommyRobinson</td>\n",
       "      <td>0.000000e+00</td>\n",
       "      <td>0.000000</td>\n",
       "      <td>0</td>\n",
       "      <td>21</td>\n",
       "      <td>-1</td>\n",
       "    </tr>\n",
       "    <tr>\n",
       "      <th>Luther2</th>\n",
       "      <td>7</td>\n",
       "      <td>23</td>\n",
       "      <td>8</td>\n",
       "      <td>62</td>\n",
       "      <td>Luther2</td>\n",
       "      <td>0.000000e+00</td>\n",
       "      <td>0.000000</td>\n",
       "      <td>0</td>\n",
       "      <td>5</td>\n",
       "      <td>-1</td>\n",
       "    </tr>\n",
       "    <tr>\n",
       "      <th>anhero23</th>\n",
       "      <td>3</td>\n",
       "      <td>10</td>\n",
       "      <td>74</td>\n",
       "      <td>157</td>\n",
       "      <td>anhero23</td>\n",
       "      <td>1.630122e-03</td>\n",
       "      <td>0.000000</td>\n",
       "      <td>185</td>\n",
       "      <td>256</td>\n",
       "      <td>-1</td>\n",
       "    </tr>\n",
       "    <tr>\n",
       "      <th>PewDieNazi</th>\n",
       "      <td>0</td>\n",
       "      <td>15</td>\n",
       "      <td>12</td>\n",
       "      <td>31</td>\n",
       "      <td>PewDieNazi</td>\n",
       "      <td>3.201372e-05</td>\n",
       "      <td>0.000014</td>\n",
       "      <td>6</td>\n",
       "      <td>5</td>\n",
       "      <td>-1</td>\n",
       "    </tr>\n",
       "    <tr>\n",
       "      <th>MOTOFIEND</th>\n",
       "      <td>2</td>\n",
       "      <td>9</td>\n",
       "      <td>15</td>\n",
       "      <td>64</td>\n",
       "      <td>MOTOFIEND</td>\n",
       "      <td>1.264060e-09</td>\n",
       "      <td>0.000000</td>\n",
       "      <td>1</td>\n",
       "      <td>6</td>\n",
       "      <td>-1</td>\n",
       "    </tr>\n",
       "  </tbody>\n",
       "</table>\n",
       "<p>9245 rows × 10 columns</p>\n",
       "</div>"
      ],
      "text/plain": [
       "                      fearspeech hatespeech normal  total  \\\n",
       "radiofan2                     47         26   1716   2287   \n",
       "kaser100                     306         42   4862   7319   \n",
       "DeplorableRick                18         19    760   1241   \n",
       "kingdomMan                    89          4   1172   1969   \n",
       "Whicket                      490        108  16161  21862   \n",
       "...                          ...        ...    ...    ...   \n",
       "WeAreAllTommyRobinson          8          2      9     45   \n",
       "Luther2                        7         23      8     62   \n",
       "anhero23                       3         10     74    157   \n",
       "PewDieNazi                     0         15     12     31   \n",
       "MOTOFIEND                      2          9     15     64   \n",
       "\n",
       "                                        name  eigen_vector  betweeness  \\\n",
       "radiofan2                          radiofan2  6.149054e-03    0.000000   \n",
       "kaser100                            kaser100  1.551704e-02    0.000055   \n",
       "DeplorableRick                DeplorableRick  5.291231e-03    0.000000   \n",
       "kingdomMan                        kingdomMan  2.564034e-03    0.000000   \n",
       "Whicket                              Whicket  1.562968e-02    0.000041   \n",
       "...                                      ...           ...         ...   \n",
       "WeAreAllTommyRobinson  WeAreAllTommyRobinson  0.000000e+00    0.000000   \n",
       "Luther2                              Luther2  0.000000e+00    0.000000   \n",
       "anhero23                            anhero23  1.630122e-03    0.000000   \n",
       "PewDieNazi                        PewDieNazi  3.201372e-05    0.000014   \n",
       "MOTOFIEND                          MOTOFIEND  1.264060e-09    0.000000   \n",
       "\n",
       "                       followers  following  normal_followers  \n",
       "radiofan2                    967       1103                -1  \n",
       "kaser100                    2082       1904                -1  \n",
       "DeplorableRick               800        978                -1  \n",
       "kingdomMan                   536       1043                -1  \n",
       "Whicket                     2059       1767                -1  \n",
       "...                          ...        ...               ...  \n",
       "WeAreAllTommyRobinson          0         21                -1  \n",
       "Luther2                        0          5                -1  \n",
       "anhero23                     185        256                -1  \n",
       "PewDieNazi                     6          5                -1  \n",
       "MOTOFIEND                      1          6                -1  \n",
       "\n",
       "[9245 rows x 10 columns]"
      ]
     },
     "execution_count": 32,
     "metadata": {},
     "output_type": "execute_result"
    }
   ],
   "source": [
    "df_final_users"
   ]
  },
  {
   "cell_type": "code",
   "execution_count": 36,
   "metadata": {},
   "outputs": [
    {
     "name": "stderr",
     "output_type": "stream",
     "text": [
      "<ipython-input-36-2d3e37bbc55c>:2: TqdmDeprecationWarning: This function will be removed in tqdm==5.0.0\n",
      "Please use `tqdm.notebook.tqdm` instead of `tqdm.tqdm_notebook`\n",
      "  for index,row in tqdm_notebook(df_final_users.iterrows(),total=len(df_final_users)):\n"
     ]
    },
    {
     "data": {
      "application/vnd.jupyter.widget-view+json": {
       "model_id": "ec8cfa249dfb451998b175310339c8c7",
       "version_major": 2,
       "version_minor": 0
      },
      "text/plain": [
       "  0%|          | 0/9245 [00:00<?, ?it/s]"
      ]
     },
     "metadata": {},
     "output_type": "display_data"
    }
   ],
   "source": [
    "normal_followers=[]\n",
    "for index,row in tqdm_notebook(df_final_users.iterrows(),total=len(df_final_users)):\n",
    "    try:\n",
    "        succesors=list(G.successors(map_dict[index]))\n",
    "        normal=0\n",
    "        total=0\n",
    "        for suc in succesors:\n",
    "            user_suc_name=reverse_map_dict[suc]\n",
    "            try:\n",
    "                temp=all_normal_dict[user_suc_name]\n",
    "                normal+=1\n",
    "            except KeyError:\n",
    "                pass\n",
    "            total+=1\n",
    "        if(total>0):\n",
    "            normal_followers.append(normal/total)\n",
    "        else:\n",
    "            normal_followers.append(0)\n",
    "    except (nx.NetworkXError, KeyError) as e:\n",
    "        normal_followers.append(-1)\n",
    "        pass\n",
    "        "
   ]
  },
  {
   "cell_type": "code",
   "execution_count": 37,
   "metadata": {},
   "outputs": [],
   "source": [
    "df_final_users['normal_followers']=normal_followers"
   ]
  },
  {
   "cell_type": "code",
   "execution_count": 38,
   "metadata": {},
   "outputs": [
    {
     "data": {
      "text/html": [
       "<div>\n",
       "<style scoped>\n",
       "    .dataframe tbody tr th:only-of-type {\n",
       "        vertical-align: middle;\n",
       "    }\n",
       "\n",
       "    .dataframe tbody tr th {\n",
       "        vertical-align: top;\n",
       "    }\n",
       "\n",
       "    .dataframe thead th {\n",
       "        text-align: right;\n",
       "    }\n",
       "</style>\n",
       "<table border=\"1\" class=\"dataframe\">\n",
       "  <thead>\n",
       "    <tr style=\"text-align: right;\">\n",
       "      <th></th>\n",
       "      <th>fearspeech</th>\n",
       "      <th>hatespeech</th>\n",
       "      <th>normal</th>\n",
       "      <th>total</th>\n",
       "      <th>name</th>\n",
       "      <th>eigen_vector</th>\n",
       "      <th>betweeness</th>\n",
       "      <th>followers</th>\n",
       "      <th>following</th>\n",
       "      <th>normal_followers</th>\n",
       "    </tr>\n",
       "  </thead>\n",
       "  <tbody>\n",
       "    <tr>\n",
       "      <th>radiofan2</th>\n",
       "      <td>47</td>\n",
       "      <td>26</td>\n",
       "      <td>1716</td>\n",
       "      <td>2287</td>\n",
       "      <td>radiofan2</td>\n",
       "      <td>6.149054e-03</td>\n",
       "      <td>0.000000</td>\n",
       "      <td>967</td>\n",
       "      <td>1103</td>\n",
       "      <td>0.205802</td>\n",
       "    </tr>\n",
       "    <tr>\n",
       "      <th>kaser100</th>\n",
       "      <td>306</td>\n",
       "      <td>42</td>\n",
       "      <td>4862</td>\n",
       "      <td>7319</td>\n",
       "      <td>kaser100</td>\n",
       "      <td>1.551704e-02</td>\n",
       "      <td>0.000055</td>\n",
       "      <td>2082</td>\n",
       "      <td>1904</td>\n",
       "      <td>0.247899</td>\n",
       "    </tr>\n",
       "    <tr>\n",
       "      <th>DeplorableRick</th>\n",
       "      <td>18</td>\n",
       "      <td>19</td>\n",
       "      <td>760</td>\n",
       "      <td>1241</td>\n",
       "      <td>DeplorableRick</td>\n",
       "      <td>5.291231e-03</td>\n",
       "      <td>0.000000</td>\n",
       "      <td>800</td>\n",
       "      <td>978</td>\n",
       "      <td>0.175869</td>\n",
       "    </tr>\n",
       "    <tr>\n",
       "      <th>kingdomMan</th>\n",
       "      <td>89</td>\n",
       "      <td>4</td>\n",
       "      <td>1172</td>\n",
       "      <td>1969</td>\n",
       "      <td>kingdomMan</td>\n",
       "      <td>2.564034e-03</td>\n",
       "      <td>0.000000</td>\n",
       "      <td>536</td>\n",
       "      <td>1043</td>\n",
       "      <td>0.241611</td>\n",
       "    </tr>\n",
       "    <tr>\n",
       "      <th>Whicket</th>\n",
       "      <td>490</td>\n",
       "      <td>108</td>\n",
       "      <td>16161</td>\n",
       "      <td>21862</td>\n",
       "      <td>Whicket</td>\n",
       "      <td>1.562968e-02</td>\n",
       "      <td>0.000041</td>\n",
       "      <td>2059</td>\n",
       "      <td>1767</td>\n",
       "      <td>0.255801</td>\n",
       "    </tr>\n",
       "    <tr>\n",
       "      <th>...</th>\n",
       "      <td>...</td>\n",
       "      <td>...</td>\n",
       "      <td>...</td>\n",
       "      <td>...</td>\n",
       "      <td>...</td>\n",
       "      <td>...</td>\n",
       "      <td>...</td>\n",
       "      <td>...</td>\n",
       "      <td>...</td>\n",
       "      <td>...</td>\n",
       "    </tr>\n",
       "    <tr>\n",
       "      <th>WeAreAllTommyRobinson</th>\n",
       "      <td>8</td>\n",
       "      <td>2</td>\n",
       "      <td>9</td>\n",
       "      <td>45</td>\n",
       "      <td>WeAreAllTommyRobinson</td>\n",
       "      <td>0.000000e+00</td>\n",
       "      <td>0.000000</td>\n",
       "      <td>0</td>\n",
       "      <td>21</td>\n",
       "      <td>0.333333</td>\n",
       "    </tr>\n",
       "    <tr>\n",
       "      <th>Luther2</th>\n",
       "      <td>7</td>\n",
       "      <td>23</td>\n",
       "      <td>8</td>\n",
       "      <td>62</td>\n",
       "      <td>Luther2</td>\n",
       "      <td>0.000000e+00</td>\n",
       "      <td>0.000000</td>\n",
       "      <td>0</td>\n",
       "      <td>5</td>\n",
       "      <td>0.200000</td>\n",
       "    </tr>\n",
       "    <tr>\n",
       "      <th>anhero23</th>\n",
       "      <td>3</td>\n",
       "      <td>10</td>\n",
       "      <td>74</td>\n",
       "      <td>157</td>\n",
       "      <td>anhero23</td>\n",
       "      <td>1.630122e-03</td>\n",
       "      <td>0.000000</td>\n",
       "      <td>185</td>\n",
       "      <td>256</td>\n",
       "      <td>0.109375</td>\n",
       "    </tr>\n",
       "    <tr>\n",
       "      <th>PewDieNazi</th>\n",
       "      <td>0</td>\n",
       "      <td>15</td>\n",
       "      <td>12</td>\n",
       "      <td>31</td>\n",
       "      <td>PewDieNazi</td>\n",
       "      <td>3.201372e-05</td>\n",
       "      <td>0.000014</td>\n",
       "      <td>6</td>\n",
       "      <td>5</td>\n",
       "      <td>0.000000</td>\n",
       "    </tr>\n",
       "    <tr>\n",
       "      <th>MOTOFIEND</th>\n",
       "      <td>2</td>\n",
       "      <td>9</td>\n",
       "      <td>15</td>\n",
       "      <td>64</td>\n",
       "      <td>MOTOFIEND</td>\n",
       "      <td>1.264060e-09</td>\n",
       "      <td>0.000000</td>\n",
       "      <td>1</td>\n",
       "      <td>6</td>\n",
       "      <td>0.000000</td>\n",
       "    </tr>\n",
       "  </tbody>\n",
       "</table>\n",
       "<p>9245 rows × 10 columns</p>\n",
       "</div>"
      ],
      "text/plain": [
       "                      fearspeech hatespeech normal  total  \\\n",
       "radiofan2                     47         26   1716   2287   \n",
       "kaser100                     306         42   4862   7319   \n",
       "DeplorableRick                18         19    760   1241   \n",
       "kingdomMan                    89          4   1172   1969   \n",
       "Whicket                      490        108  16161  21862   \n",
       "...                          ...        ...    ...    ...   \n",
       "WeAreAllTommyRobinson          8          2      9     45   \n",
       "Luther2                        7         23      8     62   \n",
       "anhero23                       3         10     74    157   \n",
       "PewDieNazi                     0         15     12     31   \n",
       "MOTOFIEND                      2          9     15     64   \n",
       "\n",
       "                                        name  eigen_vector  betweeness  \\\n",
       "radiofan2                          radiofan2  6.149054e-03    0.000000   \n",
       "kaser100                            kaser100  1.551704e-02    0.000055   \n",
       "DeplorableRick                DeplorableRick  5.291231e-03    0.000000   \n",
       "kingdomMan                        kingdomMan  2.564034e-03    0.000000   \n",
       "Whicket                              Whicket  1.562968e-02    0.000041   \n",
       "...                                      ...           ...         ...   \n",
       "WeAreAllTommyRobinson  WeAreAllTommyRobinson  0.000000e+00    0.000000   \n",
       "Luther2                              Luther2  0.000000e+00    0.000000   \n",
       "anhero23                            anhero23  1.630122e-03    0.000000   \n",
       "PewDieNazi                        PewDieNazi  3.201372e-05    0.000014   \n",
       "MOTOFIEND                          MOTOFIEND  1.264060e-09    0.000000   \n",
       "\n",
       "                       followers  following  normal_followers  \n",
       "radiofan2                    967       1103          0.205802  \n",
       "kaser100                    2082       1904          0.247899  \n",
       "DeplorableRick               800        978          0.175869  \n",
       "kingdomMan                   536       1043          0.241611  \n",
       "Whicket                     2059       1767          0.255801  \n",
       "...                          ...        ...               ...  \n",
       "WeAreAllTommyRobinson          0         21          0.333333  \n",
       "Luther2                        0          5          0.200000  \n",
       "anhero23                     185        256          0.109375  \n",
       "PewDieNazi                     6          5          0.000000  \n",
       "MOTOFIEND                      1          6          0.000000  \n",
       "\n",
       "[9245 rows x 10 columns]"
      ]
     },
     "execution_count": 38,
     "metadata": {},
     "output_type": "execute_result"
    }
   ],
   "source": [
    "df_final_users"
   ]
  },
  {
   "cell_type": "markdown",
   "metadata": {},
   "source": [
    "### Interactions "
   ]
  },
  {
   "cell_type": "code",
   "execution_count": 157,
   "metadata": {},
   "outputs": [
    {
     "name": "stderr",
     "output_type": "stream",
     "text": [
      "<ipython-input-157-f8a452d33faa>:3: TqdmDeprecationWarning: This function will be removed in tqdm==5.0.0\n",
      "Please use `tqdm.notebook.tqdm` instead of `tqdm.tqdm_notebook`\n",
      "  for month_year in tqdm_notebook(interaction_data.keys()):\n"
     ]
    },
    {
     "data": {
      "application/vnd.jupyter.widget-view+json": {
       "model_id": "80f5845b8b57411e942921da4de63be4",
       "version_major": 2,
       "version_minor": 0
      },
      "text/plain": [
       "  0%|          | 0/22 [00:00<?, ?it/s]"
      ]
     },
     "metadata": {},
     "output_type": "display_data"
    }
   ],
   "source": [
    "interaction_dict={}\n",
    "interaction_key='replies'\n",
    "for month_year in tqdm_notebook(interaction_data.keys()):\n",
    "    user_data=interaction_data[month_year]\n",
    "    for key in user_data.keys():\n",
    "        try:\n",
    "            interaction_dict[key[0]][key[1]]+=user_data[key][interaction_key]\n",
    "        except KeyError:\n",
    "            try:\n",
    "                interaction_dict[key[0]][key[1]]=user_data[key][interaction_key]\n",
    "            except KeyError:\n",
    "                interaction_dict[key[0]]={}\n",
    "                interaction_dict[key[0]][key[1]]=user_data[key][interaction_key]"
   ]
  },
  {
   "cell_type": "code",
   "execution_count": 122,
   "metadata": {},
   "outputs": [
    {
     "data": {
      "text/plain": [
       "{'reposts': 1, 'replies': 0, 'mentions': 0}"
      ]
     },
     "execution_count": 122,
     "metadata": {},
     "output_type": "execute_result"
    }
   ],
   "source": [
    "user_data[key]"
   ]
  },
  {
   "cell_type": "code",
   "execution_count": 40,
   "metadata": {},
   "outputs": [
    {
     "name": "stderr",
     "output_type": "stream",
     "text": [
      "<ipython-input-40-c792ceafd523>:2: TqdmDeprecationWarning: This function will be removed in tqdm==5.0.0\n",
      "Please use `tqdm.notebook.tqdm` instead of `tqdm.tqdm_notebook`\n",
      "  for month_year in tqdm_notebook(interaction_data.keys()):\n"
     ]
    },
    {
     "data": {
      "application/vnd.jupyter.widget-view+json": {
       "model_id": "930329fc40b5435faaff6ae9322e80d9",
       "version_major": 2,
       "version_minor": 0
      },
      "text/plain": [
       "  0%|          | 0/22 [00:00<?, ?it/s]"
      ]
     },
     "metadata": {},
     "output_type": "display_data"
    }
   ],
   "source": [
    "edges_count=0\n",
    "for month_year in tqdm_notebook(interaction_data.keys()):\n",
    "    user_data=interaction_data[month_year]\n",
    "    for key in user_data.keys():\n",
    "        if(user_data[key]['replies']>0):\n",
    "            edges_count+=1\n",
    "        if(user_data[key]['reposts']>0):\n",
    "            edges_count+=1\n",
    "        if(user_data[key]['mentions']>0):\n",
    "            edges_count+=1\n",
    "        \n",
    "        \n",
    "        "
   ]
  },
  {
   "cell_type": "code",
   "execution_count": 41,
   "metadata": {},
   "outputs": [
    {
     "data": {
      "text/plain": [
       "8061653"
      ]
     },
     "execution_count": 41,
     "metadata": {},
     "output_type": "execute_result"
    }
   ],
   "source": [
    "edges_count"
   ]
  },
  {
   "cell_type": "code",
   "execution_count": 158,
   "metadata": {},
   "outputs": [
    {
     "name": "stderr",
     "output_type": "stream",
     "text": [
      "<ipython-input-158-02080fe0040a>:3: TqdmDeprecationWarning: This function will be removed in tqdm==5.0.0\n",
      "Please use `tqdm.notebook.tqdm` instead of `tqdm.tqdm_notebook`\n",
      "  for user_key in tqdm_notebook(interaction_dict.keys()):\n"
     ]
    },
    {
     "data": {
      "application/vnd.jupyter.widget-view+json": {
       "model_id": "2e416e6f5f6f46f29b79ade928c6f99f",
       "version_major": 2,
       "version_minor": 0
      },
      "text/plain": [
       "  0%|          | 0/109202 [00:00<?, ?it/s]"
      ]
     },
     "metadata": {},
     "output_type": "display_data"
    }
   ],
   "source": [
    "import networkx\n",
    "G = networkx.DiGraph()\n",
    "for user_key in tqdm_notebook(interaction_dict.keys()):\n",
    "    for inter_user_key in interaction_dict[user_key].keys():\n",
    "        if(user_key==inter_user_key):\n",
    "            continue\n",
    "        if(interaction_dict[user_key][inter_user_key]>0):\n",
    "            #For reply. TUPLE (A,B) Means A is replying TO B's post\n",
    "            G.add_edge(inter_user_key,user_key,weight=interaction_dict[user_key][inter_user_key])\n",
    "            #For reposts, TUPLE (A,B) Means B is reposting A's post\n",
    "            #G.add_edge(user_key,inter_user_key,weight=interaction_dict[user_key][inter_user_key])\n",
    "            #For mentions, TUPLE (A,B)  Means A is mentioning B in the post\n",
    "            #G.add_edge(user_key,inter_user_key,weight=interaction_dict[user_key][inter_user_key])\n",
    "            \n",
    "            \n",
    "            "
   ]
  },
  {
   "cell_type": "code",
   "execution_count": 159,
   "metadata": {},
   "outputs": [
    {
     "data": {
      "text/plain": [
       "2786607"
      ]
     },
     "execution_count": 159,
     "metadata": {},
     "output_type": "execute_result"
    }
   ],
   "source": [
    "len(G.edges())"
   ]
  },
  {
   "cell_type": "code",
   "execution_count": 160,
   "metadata": {},
   "outputs": [
    {
     "name": "stderr",
     "output_type": "stream",
     "text": [
      "<ipython-input-160-3c9b504a8e2d>:3: TqdmDeprecationWarning: This function will be removed in tqdm==5.0.0\n",
      "Please use `tqdm.notebook.tqdm` instead of `tqdm.tqdm_notebook`\n",
      "  for index,row in tqdm_notebook(df_final_users.iterrows(),total=len(df_final_users)):\n"
     ]
    },
    {
     "data": {
      "application/vnd.jupyter.widget-view+json": {
       "model_id": "1b724e169d7740449cd66337f278773d",
       "version_major": 2,
       "version_minor": 0
      },
      "text/plain": [
       "  0%|          | 0/9245 [00:00<?, ?it/s]"
      ]
     },
     "metadata": {},
     "output_type": "display_data"
    }
   ],
   "source": [
    "normal_reposters=[]\n",
    "total_normal_reposts=[]\n",
    "for index,row in tqdm_notebook(df_final_users.iterrows(),total=len(df_final_users)):\n",
    "    try:\n",
    "        succesors=list(G.successors(index))\n",
    "        normal=0\n",
    "        total_normal=0\n",
    "        for user_suc_name in succesors:\n",
    "            weight=G[index][user_suc_name][\"weight\"]\n",
    "            try:\n",
    "                temp=all_normal_dict[user_suc_name]\n",
    "                normal+=weight\n",
    "                total_normal+=1\n",
    "            except KeyError:\n",
    "                pass\n",
    "            \n",
    "        normal_reposters.append(total_normal)\n",
    "        total_normal_reposts.append(normal)\n",
    "            \n",
    "    \n",
    "    except (nx.NetworkXError, KeyError) as e:\n",
    "        total_normal_reposts.append(-1)\n",
    "        normal_reposters.append(-1)\n",
    "        pass\n",
    "    \n"
   ]
  },
  {
   "cell_type": "code",
   "execution_count": 142,
   "metadata": {},
   "outputs": [],
   "source": [
    "df_final_users['normal_reposters']=normal_reposters\n",
    "df_final_users['total_normal_reposts']=total_normal_reposts"
   ]
  },
  {
   "cell_type": "code",
   "execution_count": 156,
   "metadata": {},
   "outputs": [],
   "source": [
    "df_final_users['normal_mentions']=normal_reposters\n",
    "df_final_users['total_normal_mentions']=total_normal_reposts\n"
   ]
  },
  {
   "cell_type": "code",
   "execution_count": 161,
   "metadata": {},
   "outputs": [],
   "source": [
    "df_final_users['normal_repliers']=normal_reposters\n",
    "df_final_users['total_normal_replies']=total_normal_reposts\n"
   ]
  },
  {
   "cell_type": "code",
   "execution_count": 48,
   "metadata": {},
   "outputs": [
    {
     "data": {
      "text/plain": [
       "Index(['fearspeech', 'hatespeech', 'normal', 'total', 'name', 'eigen_vector',\n",
       "       'betweeness', 'followers', 'following', 'normal_followers',\n",
       "       'normal_reposters', 'total_normal_reposts', 'normal_mentions',\n",
       "       'total_normal_mentions', 'normal_repliers', 'total_normal_replies'],\n",
       "      dtype='object')"
      ]
     },
     "execution_count": 48,
     "metadata": {},
     "output_type": "execute_result"
    }
   ],
   "source": [
    "df_final_users.columns"
   ]
  },
  {
   "cell_type": "code",
   "execution_count": 170,
   "metadata": {},
   "outputs": [
    {
     "data": {
      "text/html": [
       "<div>\n",
       "<style scoped>\n",
       "    .dataframe tbody tr th:only-of-type {\n",
       "        vertical-align: middle;\n",
       "    }\n",
       "\n",
       "    .dataframe tbody tr th {\n",
       "        vertical-align: top;\n",
       "    }\n",
       "\n",
       "    .dataframe thead th {\n",
       "        text-align: right;\n",
       "    }\n",
       "</style>\n",
       "<table border=\"1\" class=\"dataframe\">\n",
       "  <thead>\n",
       "    <tr style=\"text-align: right;\">\n",
       "      <th></th>\n",
       "      <th>fearspeech</th>\n",
       "      <th>hatespeech</th>\n",
       "      <th>normal</th>\n",
       "      <th>total</th>\n",
       "      <th>name</th>\n",
       "      <th>eigen_vector</th>\n",
       "      <th>betweeness</th>\n",
       "      <th>followers</th>\n",
       "      <th>following</th>\n",
       "      <th>normal_followers</th>\n",
       "      <th>normal_reposters</th>\n",
       "      <th>total_normal_reposts</th>\n",
       "      <th>normal_mentions</th>\n",
       "      <th>total_normal_mentions</th>\n",
       "      <th>normal_repliers</th>\n",
       "      <th>total_normal_replies</th>\n",
       "      <th>time_to_reach</th>\n",
       "      <th>velocity</th>\n",
       "    </tr>\n",
       "  </thead>\n",
       "  <tbody>\n",
       "    <tr>\n",
       "      <th>radiofan2</th>\n",
       "      <td>47</td>\n",
       "      <td>26</td>\n",
       "      <td>1716</td>\n",
       "      <td>2287</td>\n",
       "      <td>radiofan2</td>\n",
       "      <td>6.149054e-03</td>\n",
       "      <td>0.000000</td>\n",
       "      <td>967</td>\n",
       "      <td>1103</td>\n",
       "      <td>0.205802</td>\n",
       "      <td>-1</td>\n",
       "      <td>-1</td>\n",
       "      <td>15</td>\n",
       "      <td>23</td>\n",
       "      <td>5</td>\n",
       "      <td>6</td>\n",
       "      <td>0</td>\n",
       "      <td>0.000000</td>\n",
       "    </tr>\n",
       "    <tr>\n",
       "      <th>kaser100</th>\n",
       "      <td>306</td>\n",
       "      <td>42</td>\n",
       "      <td>4862</td>\n",
       "      <td>7319</td>\n",
       "      <td>kaser100</td>\n",
       "      <td>1.551704e-02</td>\n",
       "      <td>0.000055</td>\n",
       "      <td>2082</td>\n",
       "      <td>1904</td>\n",
       "      <td>0.247899</td>\n",
       "      <td>0</td>\n",
       "      <td>0</td>\n",
       "      <td>35</td>\n",
       "      <td>52</td>\n",
       "      <td>36</td>\n",
       "      <td>51</td>\n",
       "      <td>1</td>\n",
       "      <td>1.000000</td>\n",
       "    </tr>\n",
       "    <tr>\n",
       "      <th>DeplorableRick</th>\n",
       "      <td>18</td>\n",
       "      <td>19</td>\n",
       "      <td>760</td>\n",
       "      <td>1241</td>\n",
       "      <td>DeplorableRick</td>\n",
       "      <td>5.291231e-03</td>\n",
       "      <td>0.000000</td>\n",
       "      <td>800</td>\n",
       "      <td>978</td>\n",
       "      <td>0.175869</td>\n",
       "      <td>-1</td>\n",
       "      <td>-1</td>\n",
       "      <td>11</td>\n",
       "      <td>16</td>\n",
       "      <td>4</td>\n",
       "      <td>8</td>\n",
       "      <td>0</td>\n",
       "      <td>0.000000</td>\n",
       "    </tr>\n",
       "    <tr>\n",
       "      <th>kingdomMan</th>\n",
       "      <td>89</td>\n",
       "      <td>4</td>\n",
       "      <td>1172</td>\n",
       "      <td>1969</td>\n",
       "      <td>kingdomMan</td>\n",
       "      <td>2.564034e-03</td>\n",
       "      <td>0.000000</td>\n",
       "      <td>536</td>\n",
       "      <td>1043</td>\n",
       "      <td>0.241611</td>\n",
       "      <td>2</td>\n",
       "      <td>2</td>\n",
       "      <td>22</td>\n",
       "      <td>36</td>\n",
       "      <td>28</td>\n",
       "      <td>35</td>\n",
       "      <td>1</td>\n",
       "      <td>1.000000</td>\n",
       "    </tr>\n",
       "    <tr>\n",
       "      <th>Whicket</th>\n",
       "      <td>490</td>\n",
       "      <td>108</td>\n",
       "      <td>16161</td>\n",
       "      <td>21862</td>\n",
       "      <td>Whicket</td>\n",
       "      <td>1.562968e-02</td>\n",
       "      <td>0.000041</td>\n",
       "      <td>2059</td>\n",
       "      <td>1767</td>\n",
       "      <td>0.255801</td>\n",
       "      <td>55</td>\n",
       "      <td>71</td>\n",
       "      <td>23</td>\n",
       "      <td>39</td>\n",
       "      <td>10</td>\n",
       "      <td>12</td>\n",
       "      <td>0</td>\n",
       "      <td>0.000000</td>\n",
       "    </tr>\n",
       "    <tr>\n",
       "      <th>...</th>\n",
       "      <td>...</td>\n",
       "      <td>...</td>\n",
       "      <td>...</td>\n",
       "      <td>...</td>\n",
       "      <td>...</td>\n",
       "      <td>...</td>\n",
       "      <td>...</td>\n",
       "      <td>...</td>\n",
       "      <td>...</td>\n",
       "      <td>...</td>\n",
       "      <td>...</td>\n",
       "      <td>...</td>\n",
       "      <td>...</td>\n",
       "      <td>...</td>\n",
       "      <td>...</td>\n",
       "      <td>...</td>\n",
       "      <td>...</td>\n",
       "      <td>...</td>\n",
       "    </tr>\n",
       "    <tr>\n",
       "      <th>WeAreAllTommyRobinson</th>\n",
       "      <td>8</td>\n",
       "      <td>2</td>\n",
       "      <td>9</td>\n",
       "      <td>45</td>\n",
       "      <td>WeAreAllTommyRobinson</td>\n",
       "      <td>0.000000e+00</td>\n",
       "      <td>0.000000</td>\n",
       "      <td>0</td>\n",
       "      <td>21</td>\n",
       "      <td>0.333333</td>\n",
       "      <td>0</td>\n",
       "      <td>0</td>\n",
       "      <td>0</td>\n",
       "      <td>0</td>\n",
       "      <td>0</td>\n",
       "      <td>0</td>\n",
       "      <td>-1</td>\n",
       "      <td>2.500000</td>\n",
       "    </tr>\n",
       "    <tr>\n",
       "      <th>Luther2</th>\n",
       "      <td>7</td>\n",
       "      <td>23</td>\n",
       "      <td>8</td>\n",
       "      <td>62</td>\n",
       "      <td>Luther2</td>\n",
       "      <td>0.000000e+00</td>\n",
       "      <td>0.000000</td>\n",
       "      <td>0</td>\n",
       "      <td>5</td>\n",
       "      <td>0.200000</td>\n",
       "      <td>0</td>\n",
       "      <td>0</td>\n",
       "      <td>0</td>\n",
       "      <td>0</td>\n",
       "      <td>0</td>\n",
       "      <td>0</td>\n",
       "      <td>-1</td>\n",
       "      <td>3.500000</td>\n",
       "    </tr>\n",
       "    <tr>\n",
       "      <th>anhero23</th>\n",
       "      <td>3</td>\n",
       "      <td>10</td>\n",
       "      <td>74</td>\n",
       "      <td>157</td>\n",
       "      <td>anhero23</td>\n",
       "      <td>1.630122e-03</td>\n",
       "      <td>0.000000</td>\n",
       "      <td>185</td>\n",
       "      <td>256</td>\n",
       "      <td>0.109375</td>\n",
       "      <td>0</td>\n",
       "      <td>0</td>\n",
       "      <td>0</td>\n",
       "      <td>0</td>\n",
       "      <td>1</td>\n",
       "      <td>1</td>\n",
       "      <td>0</td>\n",
       "      <td>0.000000</td>\n",
       "    </tr>\n",
       "    <tr>\n",
       "      <th>PewDieNazi</th>\n",
       "      <td>0</td>\n",
       "      <td>15</td>\n",
       "      <td>12</td>\n",
       "      <td>31</td>\n",
       "      <td>PewDieNazi</td>\n",
       "      <td>3.201372e-05</td>\n",
       "      <td>0.000014</td>\n",
       "      <td>6</td>\n",
       "      <td>5</td>\n",
       "      <td>0.000000</td>\n",
       "      <td>0</td>\n",
       "      <td>0</td>\n",
       "      <td>0</td>\n",
       "      <td>0</td>\n",
       "      <td>0</td>\n",
       "      <td>0</td>\n",
       "      <td>-1</td>\n",
       "      <td>0.714286</td>\n",
       "    </tr>\n",
       "    <tr>\n",
       "      <th>MOTOFIEND</th>\n",
       "      <td>2</td>\n",
       "      <td>9</td>\n",
       "      <td>15</td>\n",
       "      <td>64</td>\n",
       "      <td>MOTOFIEND</td>\n",
       "      <td>1.264060e-09</td>\n",
       "      <td>0.000000</td>\n",
       "      <td>1</td>\n",
       "      <td>6</td>\n",
       "      <td>0.000000</td>\n",
       "      <td>0</td>\n",
       "      <td>0</td>\n",
       "      <td>1</td>\n",
       "      <td>2</td>\n",
       "      <td>2</td>\n",
       "      <td>4</td>\n",
       "      <td>-1</td>\n",
       "      <td>1.750000</td>\n",
       "    </tr>\n",
       "  </tbody>\n",
       "</table>\n",
       "<p>9245 rows × 18 columns</p>\n",
       "</div>"
      ],
      "text/plain": [
       "                      fearspeech hatespeech normal  total  \\\n",
       "radiofan2                     47         26   1716   2287   \n",
       "kaser100                     306         42   4862   7319   \n",
       "DeplorableRick                18         19    760   1241   \n",
       "kingdomMan                    89          4   1172   1969   \n",
       "Whicket                      490        108  16161  21862   \n",
       "...                          ...        ...    ...    ...   \n",
       "WeAreAllTommyRobinson          8          2      9     45   \n",
       "Luther2                        7         23      8     62   \n",
       "anhero23                       3         10     74    157   \n",
       "PewDieNazi                     0         15     12     31   \n",
       "MOTOFIEND                      2          9     15     64   \n",
       "\n",
       "                                        name  eigen_vector  betweeness  \\\n",
       "radiofan2                          radiofan2  6.149054e-03    0.000000   \n",
       "kaser100                            kaser100  1.551704e-02    0.000055   \n",
       "DeplorableRick                DeplorableRick  5.291231e-03    0.000000   \n",
       "kingdomMan                        kingdomMan  2.564034e-03    0.000000   \n",
       "Whicket                              Whicket  1.562968e-02    0.000041   \n",
       "...                                      ...           ...         ...   \n",
       "WeAreAllTommyRobinson  WeAreAllTommyRobinson  0.000000e+00    0.000000   \n",
       "Luther2                              Luther2  0.000000e+00    0.000000   \n",
       "anhero23                            anhero23  1.630122e-03    0.000000   \n",
       "PewDieNazi                        PewDieNazi  3.201372e-05    0.000014   \n",
       "MOTOFIEND                          MOTOFIEND  1.264060e-09    0.000000   \n",
       "\n",
       "                       followers  following  normal_followers  \\\n",
       "radiofan2                    967       1103          0.205802   \n",
       "kaser100                    2082       1904          0.247899   \n",
       "DeplorableRick               800        978          0.175869   \n",
       "kingdomMan                   536       1043          0.241611   \n",
       "Whicket                     2059       1767          0.255801   \n",
       "...                          ...        ...               ...   \n",
       "WeAreAllTommyRobinson          0         21          0.333333   \n",
       "Luther2                        0          5          0.200000   \n",
       "anhero23                     185        256          0.109375   \n",
       "PewDieNazi                     6          5          0.000000   \n",
       "MOTOFIEND                      1          6          0.000000   \n",
       "\n",
       "                       normal_reposters  total_normal_reposts  \\\n",
       "radiofan2                            -1                    -1   \n",
       "kaser100                              0                     0   \n",
       "DeplorableRick                       -1                    -1   \n",
       "kingdomMan                            2                     2   \n",
       "Whicket                              55                    71   \n",
       "...                                 ...                   ...   \n",
       "WeAreAllTommyRobinson                 0                     0   \n",
       "Luther2                               0                     0   \n",
       "anhero23                              0                     0   \n",
       "PewDieNazi                            0                     0   \n",
       "MOTOFIEND                             0                     0   \n",
       "\n",
       "                       normal_mentions  total_normal_mentions  \\\n",
       "radiofan2                           15                     23   \n",
       "kaser100                            35                     52   \n",
       "DeplorableRick                      11                     16   \n",
       "kingdomMan                          22                     36   \n",
       "Whicket                             23                     39   \n",
       "...                                ...                    ...   \n",
       "WeAreAllTommyRobinson                0                      0   \n",
       "Luther2                              0                      0   \n",
       "anhero23                             0                      0   \n",
       "PewDieNazi                           0                      0   \n",
       "MOTOFIEND                            1                      2   \n",
       "\n",
       "                       normal_repliers  total_normal_replies  time_to_reach  \\\n",
       "radiofan2                            5                     6              0   \n",
       "kaser100                            36                    51              1   \n",
       "DeplorableRick                       4                     8              0   \n",
       "kingdomMan                          28                    35              1   \n",
       "Whicket                             10                    12              0   \n",
       "...                                ...                   ...            ...   \n",
       "WeAreAllTommyRobinson                0                     0             -1   \n",
       "Luther2                              0                     0             -1   \n",
       "anhero23                             1                     1              0   \n",
       "PewDieNazi                           0                     0             -1   \n",
       "MOTOFIEND                            2                     4             -1   \n",
       "\n",
       "                       velocity  \n",
       "radiofan2              0.000000  \n",
       "kaser100               1.000000  \n",
       "DeplorableRick         0.000000  \n",
       "kingdomMan             1.000000  \n",
       "Whicket                0.000000  \n",
       "...                         ...  \n",
       "WeAreAllTommyRobinson  2.500000  \n",
       "Luther2                3.500000  \n",
       "anhero23               0.000000  \n",
       "PewDieNazi             0.714286  \n",
       "MOTOFIEND              1.750000  \n",
       "\n",
       "[9245 rows x 18 columns]"
      ]
     },
     "execution_count": 170,
     "metadata": {},
     "output_type": "execute_result"
    }
   ],
   "source": [
    "df_final_users"
   ]
  },
  {
   "cell_type": "markdown",
   "metadata": {},
   "source": [
    "### Stats model"
   ]
  },
  {
   "cell_type": "code",
   "execution_count": null,
   "metadata": {},
   "outputs": [],
   "source": [
    "import statsmodels.api as sm\n",
    "import numpy as np"
   ]
  },
  {
   "cell_type": "code",
   "execution_count": null,
   "metadata": {
    "scrolled": true
   },
   "outputs": [],
   "source": [
    "str_column='normal_followers'\n",
    "linear_model_str=str_column+\" ~fearspeech+hatespeech+total\"\n",
    "\n",
    "df_final_users_temp=df_final_users[['fearspeech','hatespeech','total',str_column]]\n",
    "#normalized_df=(df_final_users_temp-df_final_users_temp.min())/(df_final_users_temp.max()-df_final_users_temp.min())\n",
    "print(np.mean(df_final_users[str_column]))\n",
    "model_lin = sm.OLS.from_formula(linear_model_str,data=df_final_users_temp)\n",
    "result_lin = model_lin.fit()\n",
    "result_lin.summary()"
   ]
  },
  {
   "cell_type": "code",
   "execution_count": null,
   "metadata": {},
   "outputs": [],
   "source": [
    "str_column='normal_followers'\n",
    "linear_model_str=str_column+\" ~ fearspeech+hatespeech+total\"\n",
    "df_final_users_temp=df_final_users[df_final_users[str_column]!=-1]\n",
    "print(np.mean(df_final_users_temp[str_column]),len(df_final_users_temp))\n",
    "#model_lin = sm.OLS.from_formula(linear_model_str,data=df_final_users_temp[['fearspeech','hatespeech','total',str_column]])\n",
    "model_lin = sm.GLM.from_formula(linear_model_str,data=df_final_users_temp[['fearspeech','hatespeech','total',str_column]],family=sm.families.NegativeBinomial())\n",
    "result_lin = model_lin.fit()\n",
    "result_lin.summary()"
   ]
  },
  {
   "cell_type": "markdown",
   "metadata": {},
   "source": [
    "## Interaction network"
   ]
  },
  {
   "cell_type": "code",
   "execution_count": 49,
   "metadata": {},
   "outputs": [],
   "source": [
    "import numpy as np"
   ]
  },
  {
   "cell_type": "code",
   "execution_count": 50,
   "metadata": {},
   "outputs": [
    {
     "data": {
      "text/plain": [
       "14859364.270243034"
      ]
     },
     "execution_count": 50,
     "metadata": {},
     "output_type": "execute_result"
    }
   ],
   "source": [
    "np.var(df_final_users['followers'])"
   ]
  },
  {
   "cell_type": "code",
   "execution_count": 162,
   "metadata": {},
   "outputs": [
    {
     "data": {
      "text/plain": [
       "93.0"
      ]
     },
     "execution_count": 162,
     "metadata": {},
     "output_type": "execute_result"
    }
   ],
   "source": [
    "df_final_users.fearspeech.quantile(0.9)"
   ]
  },
  {
   "cell_type": "code",
   "execution_count": 163,
   "metadata": {},
   "outputs": [
    {
     "data": {
      "text/plain": [
       "150.0"
      ]
     },
     "execution_count": 163,
     "metadata": {},
     "output_type": "execute_result"
    }
   ],
   "source": [
    "df_final_users.hatespeech.quantile(0.9)"
   ]
  },
  {
   "cell_type": "code",
   "execution_count": 164,
   "metadata": {},
   "outputs": [
    {
     "name": "stderr",
     "output_type": "stream",
     "text": [
      "<ipython-input-164-8ffde5925a77>:2: SettingWithCopyWarning: \n",
      "A value is trying to be set on a copy of a slice from a DataFrame.\n",
      "Try using .loc[row_indexer,col_indexer] = value instead\n",
      "\n",
      "See the caveats in the documentation: https://pandas.pydata.org/pandas-docs/stable/user_guide/indexing.html#returning-a-view-versus-a-copy\n",
      "  df_90_hate['label']='H'\n"
     ]
    }
   ],
   "source": [
    "df_90_hate=df_final_users[(df_final_users['hatespeech']>=150) & (df_final_users['fearspeech']<93)]\n",
    "df_90_hate['label']='H'"
   ]
  },
  {
   "cell_type": "code",
   "execution_count": 165,
   "metadata": {},
   "outputs": [
    {
     "name": "stderr",
     "output_type": "stream",
     "text": [
      "<ipython-input-165-c917ec06f2db>:2: SettingWithCopyWarning: \n",
      "A value is trying to be set on a copy of a slice from a DataFrame.\n",
      "Try using .loc[row_indexer,col_indexer] = value instead\n",
      "\n",
      "See the caveats in the documentation: https://pandas.pydata.org/pandas-docs/stable/user_guide/indexing.html#returning-a-view-versus-a-copy\n",
      "  df_90_fear['label']='F'\n"
     ]
    }
   ],
   "source": [
    "df_90_fear=df_final_users[(df_final_users['hatespeech']<150) & (df_final_users['fearspeech']>=93)]\n",
    "df_90_fear['label']='F'"
   ]
  },
  {
   "cell_type": "code",
   "execution_count": 166,
   "metadata": {},
   "outputs": [
    {
     "name": "stderr",
     "output_type": "stream",
     "text": [
      "<ipython-input-166-797d88ae79ba>:2: SettingWithCopyWarning: \n",
      "A value is trying to be set on a copy of a slice from a DataFrame.\n",
      "Try using .loc[row_indexer,col_indexer] = value instead\n",
      "\n",
      "See the caveats in the documentation: https://pandas.pydata.org/pandas-docs/stable/user_guide/indexing.html#returning-a-view-versus-a-copy\n",
      "  df_90_hybrid['label']='B'\n"
     ]
    }
   ],
   "source": [
    "df_90_hybrid=df_final_users[(df_final_users['hatespeech']>150) & (df_final_users['fearspeech']>93)]\n",
    "df_90_hybrid['label']='B'"
   ]
  },
  {
   "cell_type": "code",
   "execution_count": 171,
   "metadata": {},
   "outputs": [],
   "source": [
    "df_90=pd.concat([df_90_fear,df_90_hate,df_90_hybrid],ignore_index=False)"
   ]
  },
  {
   "cell_type": "code",
   "execution_count": 172,
   "metadata": {},
   "outputs": [
    {
     "name": "stdout",
     "output_type": "stream",
     "text": [
      "483 479 445\n"
     ]
    }
   ],
   "source": [
    "print(len(df_90_fear),len(df_90_hate),len(df_90_hybrid))"
   ]
  },
  {
   "cell_type": "code",
   "execution_count": 173,
   "metadata": {},
   "outputs": [
    {
     "data": {
      "text/plain": [
       "18965"
      ]
     },
     "execution_count": 173,
     "metadata": {},
     "output_type": "execute_result"
    }
   ],
   "source": [
    "np.sum(list(df_90_hate.fearspeech))"
   ]
  },
  {
   "cell_type": "code",
   "execution_count": 89,
   "metadata": {},
   "outputs": [
    {
     "data": {
      "text/plain": [
       "2623908"
      ]
     },
     "execution_count": 89,
     "metadata": {},
     "output_type": "execute_result"
    }
   ],
   "source": [
    "df_90[df_90['label']=='F']['total'].sum()"
   ]
  },
  {
   "cell_type": "code",
   "execution_count": 61,
   "metadata": {},
   "outputs": [
    {
     "data": {
      "image/png": "[encoded data removed]",
      "text/plain": [
       "<Figure size 216x216 with 1 Axes>"
      ]
     },
     "metadata": {},
     "output_type": "display_data"
    }
   ],
   "source": [
    "import numpy as np\n",
    "matplotlib.rcParams['figure.figsize'] = (3, 3)\n",
    "sns.set(context='paper',style='whitegrid',font_scale=1.5)\n",
    "\n",
    "# sns.set_theme(style=\"whitegrid\")\n",
    "\n",
    "# tips = sns.load_dataset(\"tips\")\n",
    "ax = sns.barplot(x=\"label\",y=\"betweeness\", data=df_90, palette=['red','orange','blue'])\n",
    "plt.show()\n",
    "# path='../Results/betweenness_centrality.pdf'\n",
    "# plt.savefig(path,bbox_inches='tight',dpi=400)"
   ]
  },
  {
   "cell_type": "code",
   "execution_count": 68,
   "metadata": {},
   "outputs": [
    {
     "data": {
      "image/png": "[encoded data removed]",
      "text/plain": [
       "<Figure size 216x216 with 1 Axes>"
      ]
     },
     "metadata": {},
     "output_type": "display_data"
    }
   ],
   "source": [
    "import numpy as np\n",
    "matplotlib.rcParams['figure.figsize'] = (3, 3)\n",
    "sns.set(context='paper',style='whitegrid',font_scale=1.5)\n",
    "\n",
    "# sns.set_theme(style=\"whitegrid\")\n",
    "\n",
    "# tips = sns.load_dataset(\"tips\")\n",
    "ax = sns.barplot(x=\"label\",y=\"eigen_vector\", data=df_90, palette=['red','orange','blue'])\n",
    "plt.show()\n",
    "# path='../Results/eigen_vector_centrality.pdf'\n",
    "# plt.savefig(path,bbox_inches='tight',dpi=400)"
   ]
  },
  {
   "cell_type": "code",
   "execution_count": 69,
   "metadata": {},
   "outputs": [
    {
     "data": {
      "image/png": "[encoded data removed]",
      "text/plain": [
       "<Figure size 216x216 with 1 Axes>"
      ]
     },
     "metadata": {},
     "output_type": "display_data"
    }
   ],
   "source": [
    "import numpy as np\n",
    "matplotlib.rcParams['figure.figsize'] = (3, 3)\n",
    "sns.set(context='paper',style='whitegrid',font_scale=1.5)\n",
    "\n",
    "# sns.set_theme(style=\"whitegrid\")\n",
    "\n",
    "# tips = sns.load_dataset(\"tips\")\n",
    "ax = sns.barplot(x=\"label\",y=\"followers\", data=df_90, palette=['red','orange','blue'])\n",
    "plt.show()\n",
    "# path='../Results/followers.pdf'\n",
    "# plt.savefig(path,bbox_inches='tight',dpi=400)"
   ]
  },
  {
   "cell_type": "code",
   "execution_count": 70,
   "metadata": {},
   "outputs": [
    {
     "data": {
      "image/png": "[encoded data removed]",
      "text/plain": [
       "<Figure size 216x216 with 1 Axes>"
      ]
     },
     "metadata": {},
     "output_type": "display_data"
    }
   ],
   "source": [
    "import numpy as np\n",
    "matplotlib.rcParams['figure.figsize'] = (3, 3)\n",
    "sns.set(context='paper',style='whitegrid',font_scale=1.5)\n",
    "\n",
    "# sns.set_theme(style=\"whitegrid\")\n",
    "\n",
    "# tips = sns.load_dataset(\"tips\")\n",
    "ax = sns.barplot(x=\"label\",y=\"following\", data=df_90, palette=['red','orange','blue'])\n",
    "plt.show()\n",
    "# path='../Results/followings.pdf'\n",
    "# plt.savefig(path,bbox_inches='tight',dpi=400)"
   ]
  },
  {
   "cell_type": "code",
   "execution_count": null,
   "metadata": {},
   "outputs": [],
   "source": [
    "df_90.to_csv('../Results/top_10_percentile.csv',index=False)"
   ]
  },
  {
   "cell_type": "code",
   "execution_count": 71,
   "metadata": {},
   "outputs": [
    {
     "data": {
      "image/png": "[encoded data removed]",
      "text/plain": [
       "<Figure size 216x216 with 1 Axes>"
      ]
     },
     "metadata": {},
     "output_type": "display_data"
    }
   ],
   "source": [
    "import numpy as np\n",
    "matplotlib.rcParams['figure.figsize'] = (3, 3)\n",
    "sns.set(context='paper',style='whitegrid',font_scale=1.5)\n",
    "\n",
    "# sns.set_theme(style=\"whitegrid\")\n",
    "\n",
    "# tips = sns.load_dataset(\"tips\")\n",
    "ax = sns.barplot(x=\"label\",y=\"normal_followers\", data=df_90, palette=['red','orange','blue'])\n",
    "plt.show()\n",
    "# path='../Results/normal_followers.pdf'\n",
    "# plt.savefig(path,bbox_inches='tight',dpi=400)"
   ]
  },
  {
   "cell_type": "code",
   "execution_count": 76,
   "metadata": {},
   "outputs": [],
   "source": [
    "df_90['normal_followers']=df_90['normal_followers']/(df_90['followers']+1e-15)"
   ]
  },
  {
   "cell_type": "code",
   "execution_count": 75,
   "metadata": {},
   "outputs": [
    {
     "data": {
      "text/plain": [
       "kaser100               5.718915e-08\n",
       "Whicket                6.033776e-08\n",
       "ROYALMRBADNEWS         6.923662e-08\n",
       "HotpageNews                     inf\n",
       "bogthing               2.449607e-08\n",
       "                           ...     \n",
       "roonyroo               1.647553e-06\n",
       "WW-OPS                 4.077670e-05\n",
       "NoraLisa               3.864205e-07\n",
       "bro333                 9.756098e-04\n",
       "NoMoreWarsForIsrael    9.210384e-06\n",
       "Name: normal_followers, Length: 1407, dtype: float64"
      ]
     },
     "execution_count": 75,
     "metadata": {},
     "output_type": "execute_result"
    }
   ],
   "source": [
    "df_90['normal_followers']"
   ]
  },
  {
   "cell_type": "code",
   "execution_count": 78,
   "metadata": {},
   "outputs": [],
   "source": [
    "import plotly.graph_objects as go\n",
    "import urllib, json\n",
    "\n",
    "url = 'https://raw.githubusercontent.com/plotly/plotly.js/master/test/image/mocks/sankey_energy.json'\n",
    "response = urllib.request.urlopen(url)\n",
    "data = json.loads(response.read())\n",
    "colours=data['data'][0]['node']['color']\n",
    "\n",
    "def get_sources_target_val(df):\n",
    "    dict_tuples={}\n",
    "    for i in range(0,len(months_list)-1):\n",
    "        key=tuple([months_list[i],months_list[i+1]])\n",
    "        dict_tuples[key]={}\n",
    "        wide_df = df[[months_list[i],months_list[i+1],'freq']].groupby([months_list[i],months_list[i+1]], as_index=False).sum()\n",
    "        columns=list(wide_df.columns)[0:3]\n",
    "        for index,row in wide_df.iterrows():\n",
    "            dict_tuples[key][tuple([row[columns[0]],row[columns[1]]])]=row['freq']\n",
    "    \n",
    "    sources=[]\n",
    "    target=[]\n",
    "    values=[]\n",
    "    colour_values=[]\n",
    "    i=0\n",
    "    for key in dict_tuples.keys():\n",
    "        for element in sorted(list(dict_tuples[key].keys())):\n",
    "            print(element)\n",
    "            source_index=label[key[0]+'-'+str(element[0])]\n",
    "            target_index=label[key[1]+'-'+str(element[1])]\n",
    "#             source_index=key[0]+'-'+str(element[0])\n",
    "#             target_index=key[1]+'-'+str(element[1])\n",
    "\n",
    "            value=dict_tuples[key][element]\n",
    "            \n",
    "            \n",
    "            sources.append(source_index)\n",
    "            target.append(target_index)\n",
    "            values.append(value)\n",
    "            \n",
    "            if((element[0] in [0,1,2,99]) and (element[1] in [0,1,2,99])):\n",
    "                if(key[0]=='8/17'):\n",
    "                    colour_values.append(colours[i].replace(\"0.8\", str(0.8)))\n",
    "                else:\n",
    "                    colour_values.append(colours[i].replace(\"0.8\", str(0.4)))\n",
    "            else:\n",
    "                colour_values.append(\"rgba(0, 0, 0, 0.05)\")\n",
    "        i+=1\n",
    "    return sources,target,values,colour_values,dict_tuples\n",
    "\n",
    "\n",
    "\n",
    "def get_plotly_figure(sources,target,values,colour_values,labels_modified):\n",
    "    layout = go.Layout(\n",
    "      margin=go.layout.Margin(\n",
    "            l=1, #left margin\n",
    "            r=1, #right margin\n",
    "            b=10, #bottom margin\n",
    "            t=2  #top margin\n",
    "        )\n",
    "    )\n",
    "\n",
    "\n",
    "    fig = go.Figure(data=[go.Sankey(\n",
    "        arrangement = \"snap\",\n",
    "        node = dict(\n",
    "          pad = 15,\n",
    "          thickness = 2,\n",
    "          line = dict(color = \"black\", width = 0.2),\n",
    "          label = labels_modified,\n",
    "          color='black'\n",
    "        ),\n",
    "        link = dict(\n",
    "          source = sources, # indices correspond to labels, eg A1, A2, A1, B1, ...\n",
    "          target = target,\n",
    "          value = values,\n",
    "          color = colours_value\n",
    "      ))],layout=layout)\n",
    "    return fig"
   ]
  },
  {
   "cell_type": "code",
   "execution_count": 79,
   "metadata": {},
   "outputs": [],
   "source": [
    "import pandas as pd\n",
    "from tqdm import tqdm_notebook\n",
    "df_users_timeline=pd.read_csv('../Results/kcore_analysis.csv')\n",
    "df_users_timeline=df_users_timeline.drop(columns=['time_to_reach','velocity'])\n",
    "#df_users_timeline=df_users_timeline.replace([3,4,5,6,7,8,9],98)\n",
    "# df_users_timeline['freq']=1"
   ]
  },
  {
   "cell_type": "code",
   "execution_count": 80,
   "metadata": {},
   "outputs": [],
   "source": [
    "df_users_timeline_fear=df_users_timeline[df_users_timeline['user_key'].isin(list(df_90_fear.index))]\n",
    "df_users_timeline_hate=df_users_timeline[df_users_timeline['user_key'].isin(list(df_90_hate.index))]"
   ]
  },
  {
   "cell_type": "code",
   "execution_count": 81,
   "metadata": {},
   "outputs": [
    {
     "ename": "NameError",
     "evalue": "name 'months_list' is not defined",
     "output_type": "error",
     "traceback": [
      "\u001b[0;31m---------------------------------------------------------------------------\u001b[0m",
      "\u001b[0;31mNameError\u001b[0m                                 Traceback (most recent call last)",
      "\u001b[0;32m<ipython-input-81-263590de7025>\u001b[0m in \u001b[0;36m<module>\u001b[0;34m\u001b[0m\n\u001b[1;32m      1\u001b[0m \u001b[0mdict_tuples\u001b[0m\u001b[0;34m=\u001b[0m\u001b[0;34m{\u001b[0m\u001b[0;34m}\u001b[0m\u001b[0;34m\u001b[0m\u001b[0;34m\u001b[0m\u001b[0m\n\u001b[1;32m      2\u001b[0m \u001b[0mi\u001b[0m\u001b[0;34m=\u001b[0m\u001b[0;36m8\u001b[0m\u001b[0;34m\u001b[0m\u001b[0;34m\u001b[0m\u001b[0m\n\u001b[0;32m----> 3\u001b[0;31m \u001b[0mkey\u001b[0m\u001b[0;34m=\u001b[0m\u001b[0mtuple\u001b[0m\u001b[0;34m(\u001b[0m\u001b[0;34m[\u001b[0m\u001b[0mmonths_list\u001b[0m\u001b[0;34m[\u001b[0m\u001b[0mi\u001b[0m\u001b[0;34m]\u001b[0m\u001b[0;34m,\u001b[0m\u001b[0mmonths_list\u001b[0m\u001b[0;34m[\u001b[0m\u001b[0mi\u001b[0m\u001b[0;34m+\u001b[0m\u001b[0;36m1\u001b[0m\u001b[0;34m]\u001b[0m\u001b[0;34m]\u001b[0m\u001b[0;34m)\u001b[0m\u001b[0;34m\u001b[0m\u001b[0;34m\u001b[0m\u001b[0m\n\u001b[0m\u001b[1;32m      4\u001b[0m \u001b[0mdict_tuples\u001b[0m\u001b[0;34m[\u001b[0m\u001b[0mkey\u001b[0m\u001b[0;34m]\u001b[0m\u001b[0;34m=\u001b[0m\u001b[0;34m{\u001b[0m\u001b[0;34m}\u001b[0m\u001b[0;34m\u001b[0m\u001b[0;34m\u001b[0m\u001b[0m\n\u001b[1;32m      5\u001b[0m \u001b[0mwide_df\u001b[0m \u001b[0;34m=\u001b[0m \u001b[0mdf_users_timeline_fear\u001b[0m\u001b[0;34m[\u001b[0m\u001b[0;34m[\u001b[0m\u001b[0mmonths_list\u001b[0m\u001b[0;34m[\u001b[0m\u001b[0mi\u001b[0m\u001b[0;34m]\u001b[0m\u001b[0;34m,\u001b[0m\u001b[0mmonths_list\u001b[0m\u001b[0;34m[\u001b[0m\u001b[0mi\u001b[0m\u001b[0;34m+\u001b[0m\u001b[0;36m1\u001b[0m\u001b[0;34m]\u001b[0m\u001b[0;34m,\u001b[0m\u001b[0;34m'freq'\u001b[0m\u001b[0;34m]\u001b[0m\u001b[0;34m]\u001b[0m\u001b[0;34m.\u001b[0m\u001b[0mgroupby\u001b[0m\u001b[0;34m(\u001b[0m\u001b[0;34m[\u001b[0m\u001b[0mmonths_list\u001b[0m\u001b[0;34m[\u001b[0m\u001b[0mi\u001b[0m\u001b[0;34m]\u001b[0m\u001b[0;34m,\u001b[0m\u001b[0mmonths_list\u001b[0m\u001b[0;34m[\u001b[0m\u001b[0mi\u001b[0m\u001b[0;34m+\u001b[0m\u001b[0;36m1\u001b[0m\u001b[0;34m]\u001b[0m\u001b[0;34m]\u001b[0m\u001b[0;34m,\u001b[0m \u001b[0mas_index\u001b[0m\u001b[0;34m=\u001b[0m\u001b[0;32mFalse\u001b[0m\u001b[0;34m)\u001b[0m\u001b[0;34m.\u001b[0m\u001b[0msum\u001b[0m\u001b[0;34m(\u001b[0m\u001b[0;34m)\u001b[0m\u001b[0;34m\u001b[0m\u001b[0;34m\u001b[0m\u001b[0m\n",
      "\u001b[0;31mNameError\u001b[0m: name 'months_list' is not defined"
     ]
    }
   ],
   "source": [
    "dict_tuples={}\n",
    "i=8\n",
    "key=tuple([months_list[i],months_list[i+1]])\n",
    "dict_tuples[key]={}\n",
    "wide_df = df_users_timeline_fear[[months_list[i],months_list[i+1],'freq']].groupby([months_list[i],months_list[i+1]], as_index=False).sum()\n"
   ]
  },
  {
   "cell_type": "code",
   "execution_count": 82,
   "metadata": {},
   "outputs": [],
   "source": [
    "months_list=list(df_users_timeline.columns)[2:-1]\n",
    "\n",
    "label={}\n",
    "count=0\n",
    "for month in months_list:\n",
    "    for i in range(0,10,1):\n",
    "        label[month+'-'+str(i)]=count\n",
    "        count+=1        \n",
    "    label[month+'-'+str(99)]=count\n",
    "    count+=1\n",
    "\n",
    "labels_modified=[]\n",
    "for ele in list(label.keys()):\n",
    "    if ele.split('-')[1]=='99':\n",
    "        labels_modified.append('NA')\n",
    "    else:\n",
    "        labels_modified.append(ele.split('-')[1])\n"
   ]
  },
  {
   "cell_type": "code",
   "execution_count": null,
   "metadata": {},
   "outputs": [],
   "source": [
    "sources,target,values,colours_value,dict_tuples=get_sources_target_val(df_users_timeline_fear)\n",
    "fig = get_plotly_figure(sources,target,values,colours_value,labels_modified)"
   ]
  },
  {
   "cell_type": "code",
   "execution_count": null,
   "metadata": {},
   "outputs": [],
   "source": [
    "fig.write_image(\"../Results/sankey_fear.pdf\")"
   ]
  },
  {
   "cell_type": "code",
   "execution_count": null,
   "metadata": {},
   "outputs": [],
   "source": [
    "sources,target,values,colours_value,dict_tuples=get_sources_target_val(df_users_timeline_hate)\n",
    "fig = get_plotly_figure(sources,target,values,colours_value,labels_modified)\n",
    "fig.write_image(\"../Results/sankey_hate.pdf\")"
   ]
  },
  {
   "cell_type": "code",
   "execution_count": 96,
   "metadata": {},
   "outputs": [
    {
     "data": {
      "image/png": "[encoded data removed]",
      "text/plain": [
       "<Figure size 216x216 with 1 Axes>"
      ]
     },
     "metadata": {},
     "output_type": "display_data"
    }
   ],
   "source": [
    "import numpy as np\n",
    "matplotlib.rcParams['figure.figsize'] = (3, 3)\n",
    "sns.set(context='paper',style='whitegrid',font_scale=1.5)\n",
    "\n",
    "# sns.set_theme(style=\"whitegrid\")\n",
    "\n",
    "# tips = sns.load_dataset(\"tips\")\n",
    "ax = sns.barplot(x=\"label\",y=\"time_to_reach\", data=df_90, palette=['red','orange','blue'])\n",
    "plt.show()\n",
    "# path='../Results/time_to_reach.pdf'\n",
    "# plt.savefig(path,bbox_inches='tight',dpi=400)"
   ]
  },
  {
   "cell_type": "code",
   "execution_count": null,
   "metadata": {},
   "outputs": [],
   "source": []
  },
  {
   "cell_type": "code",
   "execution_count": 87,
   "metadata": {},
   "outputs": [
    {
     "data": {
      "text/html": [
       "<div>\n",
       "<style scoped>\n",
       "    .dataframe tbody tr th:only-of-type {\n",
       "        vertical-align: middle;\n",
       "    }\n",
       "\n",
       "    .dataframe tbody tr th {\n",
       "        vertical-align: top;\n",
       "    }\n",
       "\n",
       "    .dataframe thead th {\n",
       "        text-align: right;\n",
       "    }\n",
       "</style>\n",
       "<table border=\"1\" class=\"dataframe\">\n",
       "  <thead>\n",
       "    <tr style=\"text-align: right;\">\n",
       "      <th></th>\n",
       "      <th>fearspeech</th>\n",
       "      <th>hatespeech</th>\n",
       "      <th>normal</th>\n",
       "      <th>total</th>\n",
       "      <th>name</th>\n",
       "      <th>eigen_vector</th>\n",
       "      <th>betweeness</th>\n",
       "      <th>followers</th>\n",
       "      <th>following</th>\n",
       "      <th>normal_followers</th>\n",
       "      <th>normal_reposters</th>\n",
       "      <th>total_normal_reposts</th>\n",
       "      <th>normal_mentions</th>\n",
       "      <th>total_normal_mentions</th>\n",
       "      <th>normal_repliers</th>\n",
       "      <th>total_normal_replies</th>\n",
       "      <th>label</th>\n",
       "    </tr>\n",
       "  </thead>\n",
       "  <tbody>\n",
       "    <tr>\n",
       "      <th>kaser100</th>\n",
       "      <td>306</td>\n",
       "      <td>42</td>\n",
       "      <td>4862</td>\n",
       "      <td>7319</td>\n",
       "      <td>kaser100</td>\n",
       "      <td>0.015517</td>\n",
       "      <td>0.000055</td>\n",
       "      <td>2082</td>\n",
       "      <td>1904</td>\n",
       "      <td>2.746837e-11</td>\n",
       "      <td>36</td>\n",
       "      <td>51</td>\n",
       "      <td>36</td>\n",
       "      <td>51</td>\n",
       "      <td>36</td>\n",
       "      <td>51</td>\n",
       "      <td>F</td>\n",
       "    </tr>\n",
       "    <tr>\n",
       "      <th>Whicket</th>\n",
       "      <td>490</td>\n",
       "      <td>108</td>\n",
       "      <td>16161</td>\n",
       "      <td>21862</td>\n",
       "      <td>Whicket</td>\n",
       "      <td>0.015630</td>\n",
       "      <td>0.000041</td>\n",
       "      <td>2059</td>\n",
       "      <td>1767</td>\n",
       "      <td>2.930440e-11</td>\n",
       "      <td>10</td>\n",
       "      <td>12</td>\n",
       "      <td>10</td>\n",
       "      <td>12</td>\n",
       "      <td>10</td>\n",
       "      <td>12</td>\n",
       "      <td>F</td>\n",
       "    </tr>\n",
       "    <tr>\n",
       "      <th>ROYALMRBADNEWS</th>\n",
       "      <td>138</td>\n",
       "      <td>58</td>\n",
       "      <td>37171</td>\n",
       "      <td>41766</td>\n",
       "      <td>ROYALMRBADNEWS</td>\n",
       "      <td>0.014321</td>\n",
       "      <td>0.000219</td>\n",
       "      <td>2059</td>\n",
       "      <td>1993</td>\n",
       "      <td>3.362633e-11</td>\n",
       "      <td>55</td>\n",
       "      <td>104</td>\n",
       "      <td>55</td>\n",
       "      <td>104</td>\n",
       "      <td>55</td>\n",
       "      <td>104</td>\n",
       "      <td>F</td>\n",
       "    </tr>\n",
       "    <tr>\n",
       "      <th>HotpageNews</th>\n",
       "      <td>160</td>\n",
       "      <td>9</td>\n",
       "      <td>40239</td>\n",
       "      <td>43352</td>\n",
       "      <td>HotpageNews</td>\n",
       "      <td>0.000000</td>\n",
       "      <td>0.000000</td>\n",
       "      <td>0</td>\n",
       "      <td>106</td>\n",
       "      <td>inf</td>\n",
       "      <td>9</td>\n",
       "      <td>9</td>\n",
       "      <td>9</td>\n",
       "      <td>9</td>\n",
       "      <td>9</td>\n",
       "      <td>9</td>\n",
       "      <td>F</td>\n",
       "    </tr>\n",
       "    <tr>\n",
       "      <th>bogthing</th>\n",
       "      <td>115</td>\n",
       "      <td>53</td>\n",
       "      <td>4710</td>\n",
       "      <td>7848</td>\n",
       "      <td>bogthing</td>\n",
       "      <td>0.015138</td>\n",
       "      <td>0.000137</td>\n",
       "      <td>3455</td>\n",
       "      <td>4203</td>\n",
       "      <td>7.090034e-12</td>\n",
       "      <td>34</td>\n",
       "      <td>42</td>\n",
       "      <td>34</td>\n",
       "      <td>42</td>\n",
       "      <td>34</td>\n",
       "      <td>42</td>\n",
       "      <td>F</td>\n",
       "    </tr>\n",
       "  </tbody>\n",
       "</table>\n",
       "</div>"
      ],
      "text/plain": [
       "               fearspeech hatespeech normal  total            name  \\\n",
       "kaser100              306         42   4862   7319        kaser100   \n",
       "Whicket               490        108  16161  21862         Whicket   \n",
       "ROYALMRBADNEWS        138         58  37171  41766  ROYALMRBADNEWS   \n",
       "HotpageNews           160          9  40239  43352     HotpageNews   \n",
       "bogthing              115         53   4710   7848        bogthing   \n",
       "\n",
       "                eigen_vector  betweeness  followers  following  \\\n",
       "kaser100            0.015517    0.000055       2082       1904   \n",
       "Whicket             0.015630    0.000041       2059       1767   \n",
       "ROYALMRBADNEWS      0.014321    0.000219       2059       1993   \n",
       "HotpageNews         0.000000    0.000000          0        106   \n",
       "bogthing            0.015138    0.000137       3455       4203   \n",
       "\n",
       "                normal_followers  normal_reposters  total_normal_reposts  \\\n",
       "kaser100            2.746837e-11                36                    51   \n",
       "Whicket             2.930440e-11                10                    12   \n",
       "ROYALMRBADNEWS      3.362633e-11                55                   104   \n",
       "HotpageNews                  inf                 9                     9   \n",
       "bogthing            7.090034e-12                34                    42   \n",
       "\n",
       "                normal_mentions  total_normal_mentions  normal_repliers  \\\n",
       "kaser100                     36                     51               36   \n",
       "Whicket                      10                     12               10   \n",
       "ROYALMRBADNEWS               55                    104               55   \n",
       "HotpageNews                   9                      9                9   \n",
       "bogthing                     34                     42               34   \n",
       "\n",
       "                total_normal_replies label  \n",
       "kaser100                          51     F  \n",
       "Whicket                           12     F  \n",
       "ROYALMRBADNEWS                   104     F  \n",
       "HotpageNews                        9     F  \n",
       "bogthing                          42     F  "
      ]
     },
     "execution_count": 87,
     "metadata": {},
     "output_type": "execute_result"
    }
   ],
   "source": [
    "df_90.head()"
   ]
  },
  {
   "cell_type": "code",
   "execution_count": 167,
   "metadata": {},
   "outputs": [
    {
     "data": {
      "image/png": "[encoded data removed]",
      "text/plain": [
       "<Figure size 216x216 with 1 Axes>"
      ]
     },
     "metadata": {},
     "output_type": "display_data"
    }
   ],
   "source": [
    "import numpy as np\n",
    "matplotlib.rcParams['figure.figsize'] = (3, 3)\n",
    "sns.set(context='paper',style='whitegrid',font_scale=1.5)\n",
    "\n",
    "# sns.set_theme(style=\"whitegrid\")\n",
    "\n",
    "# tips = sns.load_dataset(\"tips\")\n",
    "ax = sns.barplot(x=\"label\",y=\"normal_reposters\", data=df_90, palette=['red','orange','blue'])\n",
    "plt.show()\n",
    "# path='../Results/normal_reposters.pdf'\n",
    "# plt.savefig(path,bbox_inches='tight',dpi=400)"
   ]
  },
  {
   "cell_type": "code",
   "execution_count": 174,
   "metadata": {},
   "outputs": [
    {
     "data": {
      "image/png": "[encoded data removed]",
      "text/plain": [
       "<Figure size 216x216 with 1 Axes>"
      ]
     },
     "metadata": {},
     "output_type": "display_data"
    }
   ],
   "source": [
    "import numpy as np\n",
    "matplotlib.rcParams['figure.figsize'] = (3, 3)\n",
    "sns.set(context='paper',style='whitegrid',font_scale=1.5)\n",
    "\n",
    "# sns.set_theme(style=\"whitegrid\")\n",
    "\n",
    "# tips = sns.load_dataset(\"tips\")\n",
    "ax = sns.barplot(x=\"label\",y=\"total_normal_reposts\", data=df_90, palette=['red','orange','blue'])\n",
    "plt.show()\n",
    "#path='../Results/total_normal_reposts.pdf'\n",
    "#plt.savefig(path,bbox_inches='tight',dpi=400)"
   ]
  },
  {
   "cell_type": "code",
   "execution_count": 175,
   "metadata": {},
   "outputs": [
    {
     "data": {
      "image/png": "[encoded data removed]",
      "text/plain": [
       "<Figure size 216x216 with 1 Axes>"
      ]
     },
     "metadata": {},
     "output_type": "display_data"
    }
   ],
   "source": [
    "import numpy as np\n",
    "matplotlib.rcParams['figure.figsize'] = (3, 3)\n",
    "sns.set(context='paper',style='whitegrid',font_scale=1.5)\n",
    "\n",
    "# sns.set_theme(style=\"whitegrid\")\n",
    "\n",
    "# tips = sns.load_dataset(\"tips\")\n",
    "ax = sns.barplot(x=\"label\",y=\"normal_mentions\", data=df_90, palette=['red','orange','blue'])\n",
    "plt.show()\n",
    "# path='../Results/normal_mentions.pdf'\n",
    "# plt.savefig(path,bbox_inches='tight',dpi=400)"
   ]
  },
  {
   "cell_type": "code",
   "execution_count": 176,
   "metadata": {},
   "outputs": [
    {
     "data": {
      "image/png": "[encoded data removed]",
      "text/plain": [
       "<Figure size 216x216 with 1 Axes>"
      ]
     },
     "metadata": {},
     "output_type": "display_data"
    }
   ],
   "source": [
    "import numpy as np\n",
    "matplotlib.rcParams['figure.figsize'] = (3, 3)\n",
    "sns.set(context='paper',style='whitegrid',font_scale=1.5)\n",
    "\n",
    "# sns.set_theme(style=\"whitegrid\")\n",
    "\n",
    "# tips = sns.load_dataset(\"tips\")\n",
    "ax = sns.barplot(x=\"label\",y=\"total_normal_mentions\", data=df_90, palette=['red','orange','blue'])\n",
    "plt.show()\n",
    "# path='../Results/total_normal_mentions.pdf'\n",
    "# plt.savefig(path,bbox_inches='tight',dpi=400)"
   ]
  },
  {
   "cell_type": "code",
   "execution_count": 177,
   "metadata": {},
   "outputs": [
    {
     "data": {
      "image/png": "[encoded data removed]",
      "text/plain": [
       "<Figure size 216x216 with 1 Axes>"
      ]
     },
     "metadata": {},
     "output_type": "display_data"
    }
   ],
   "source": [
    "import numpy as np\n",
    "matplotlib.rcParams['figure.figsize'] = (3, 3)\n",
    "sns.set(context='paper',style='whitegrid',font_scale=1.5)\n",
    "\n",
    "# sns.set_theme(style=\"whitegrid\")\n",
    "\n",
    "# tips = sns.load_dataset(\"tips\")\n",
    "ax = sns.barplot(x=\"label\",y=\"normal_repliers\", data=df_90, palette=['red','orange','blue'])\n",
    "plt.show()\n",
    "# path='../Results/normal_repliers.pdf'\n",
    "# plt.savefig(path,bbox_inches='tight',dpi=400)"
   ]
  },
  {
   "cell_type": "code",
   "execution_count": 178,
   "metadata": {},
   "outputs": [
    {
     "data": {
      "image/png": "[encoded data removed]",
      "text/plain": [
       "<Figure size 216x216 with 1 Axes>"
      ]
     },
     "metadata": {},
     "output_type": "display_data"
    }
   ],
   "source": [
    "import numpy as np\n",
    "matplotlib.rcParams['figure.figsize'] = (3, 3)\n",
    "sns.set(context='paper',style='whitegrid',font_scale=1.5)\n",
    "\n",
    "# sns.set_theme(style=\"whitegrid\")\n",
    "\n",
    "# tips = sns.load_dataset(\"tips\")\n",
    "ax = sns.barplot(x=\"label\",y=\"total_normal_replies\", data=df_90, palette=['red','orange','blue'])\n",
    "plt.show()\n",
    "# path='../Results/total_normal_repliers.pdf'\n",
    "# plt.savefig(path,bbox_inches='tight',dpi=400)"
   ]
  },
  {
   "cell_type": "code",
   "execution_count": 62,
   "metadata": {},
   "outputs": [
    {
     "data": {
      "text/html": [
       "<div>\n",
       "<style scoped>\n",
       "    .dataframe tbody tr th:only-of-type {\n",
       "        vertical-align: middle;\n",
       "    }\n",
       "\n",
       "    .dataframe tbody tr th {\n",
       "        vertical-align: top;\n",
       "    }\n",
       "\n",
       "    .dataframe thead th {\n",
       "        text-align: right;\n",
       "    }\n",
       "</style>\n",
       "<table border=\"1\" class=\"dataframe\">\n",
       "  <thead>\n",
       "    <tr style=\"text-align: right;\">\n",
       "      <th></th>\n",
       "      <th>fearspeech</th>\n",
       "      <th>hatespeech</th>\n",
       "      <th>normal</th>\n",
       "      <th>total</th>\n",
       "      <th>name</th>\n",
       "      <th>eigen_vector</th>\n",
       "      <th>betweeness</th>\n",
       "      <th>followers</th>\n",
       "      <th>following</th>\n",
       "      <th>normal_followers</th>\n",
       "      <th>normal_reposters</th>\n",
       "      <th>total_normal_reposts</th>\n",
       "      <th>normal_mentions</th>\n",
       "      <th>total_normal_mentions</th>\n",
       "      <th>normal_repliers</th>\n",
       "      <th>total_normal_replies</th>\n",
       "      <th>label</th>\n",
       "    </tr>\n",
       "  </thead>\n",
       "  <tbody>\n",
       "    <tr>\n",
       "      <th>kaser100</th>\n",
       "      <td>306</td>\n",
       "      <td>42</td>\n",
       "      <td>4862</td>\n",
       "      <td>7319</td>\n",
       "      <td>kaser100</td>\n",
       "      <td>0.015517</td>\n",
       "      <td>0.000055</td>\n",
       "      <td>2082</td>\n",
       "      <td>1904</td>\n",
       "      <td>0.247899</td>\n",
       "      <td>36</td>\n",
       "      <td>51</td>\n",
       "      <td>36</td>\n",
       "      <td>51</td>\n",
       "      <td>36</td>\n",
       "      <td>51</td>\n",
       "      <td>F</td>\n",
       "    </tr>\n",
       "    <tr>\n",
       "      <th>Whicket</th>\n",
       "      <td>490</td>\n",
       "      <td>108</td>\n",
       "      <td>16161</td>\n",
       "      <td>21862</td>\n",
       "      <td>Whicket</td>\n",
       "      <td>0.015630</td>\n",
       "      <td>0.000041</td>\n",
       "      <td>2059</td>\n",
       "      <td>1767</td>\n",
       "      <td>0.255801</td>\n",
       "      <td>10</td>\n",
       "      <td>12</td>\n",
       "      <td>10</td>\n",
       "      <td>12</td>\n",
       "      <td>10</td>\n",
       "      <td>12</td>\n",
       "      <td>F</td>\n",
       "    </tr>\n",
       "    <tr>\n",
       "      <th>ROYALMRBADNEWS</th>\n",
       "      <td>138</td>\n",
       "      <td>58</td>\n",
       "      <td>37171</td>\n",
       "      <td>41766</td>\n",
       "      <td>ROYALMRBADNEWS</td>\n",
       "      <td>0.014321</td>\n",
       "      <td>0.000219</td>\n",
       "      <td>2059</td>\n",
       "      <td>1993</td>\n",
       "      <td>0.293527</td>\n",
       "      <td>55</td>\n",
       "      <td>104</td>\n",
       "      <td>55</td>\n",
       "      <td>104</td>\n",
       "      <td>55</td>\n",
       "      <td>104</td>\n",
       "      <td>F</td>\n",
       "    </tr>\n",
       "    <tr>\n",
       "      <th>HotpageNews</th>\n",
       "      <td>160</td>\n",
       "      <td>9</td>\n",
       "      <td>40239</td>\n",
       "      <td>43352</td>\n",
       "      <td>HotpageNews</td>\n",
       "      <td>0.000000</td>\n",
       "      <td>0.000000</td>\n",
       "      <td>0</td>\n",
       "      <td>106</td>\n",
       "      <td>0.292453</td>\n",
       "      <td>9</td>\n",
       "      <td>9</td>\n",
       "      <td>9</td>\n",
       "      <td>9</td>\n",
       "      <td>9</td>\n",
       "      <td>9</td>\n",
       "      <td>F</td>\n",
       "    </tr>\n",
       "    <tr>\n",
       "      <th>bogthing</th>\n",
       "      <td>115</td>\n",
       "      <td>53</td>\n",
       "      <td>4710</td>\n",
       "      <td>7848</td>\n",
       "      <td>bogthing</td>\n",
       "      <td>0.015138</td>\n",
       "      <td>0.000137</td>\n",
       "      <td>3455</td>\n",
       "      <td>4203</td>\n",
       "      <td>0.292410</td>\n",
       "      <td>34</td>\n",
       "      <td>42</td>\n",
       "      <td>34</td>\n",
       "      <td>42</td>\n",
       "      <td>34</td>\n",
       "      <td>42</td>\n",
       "      <td>F</td>\n",
       "    </tr>\n",
       "  </tbody>\n",
       "</table>\n",
       "</div>"
      ],
      "text/plain": [
       "               fearspeech hatespeech normal  total            name  \\\n",
       "kaser100              306         42   4862   7319        kaser100   \n",
       "Whicket               490        108  16161  21862         Whicket   \n",
       "ROYALMRBADNEWS        138         58  37171  41766  ROYALMRBADNEWS   \n",
       "HotpageNews           160          9  40239  43352     HotpageNews   \n",
       "bogthing              115         53   4710   7848        bogthing   \n",
       "\n",
       "                eigen_vector  betweeness  followers  following  \\\n",
       "kaser100            0.015517    0.000055       2082       1904   \n",
       "Whicket             0.015630    0.000041       2059       1767   \n",
       "ROYALMRBADNEWS      0.014321    0.000219       2059       1993   \n",
       "HotpageNews         0.000000    0.000000          0        106   \n",
       "bogthing            0.015138    0.000137       3455       4203   \n",
       "\n",
       "                normal_followers  normal_reposters  total_normal_reposts  \\\n",
       "kaser100                0.247899                36                    51   \n",
       "Whicket                 0.255801                10                    12   \n",
       "ROYALMRBADNEWS          0.293527                55                   104   \n",
       "HotpageNews             0.292453                 9                     9   \n",
       "bogthing                0.292410                34                    42   \n",
       "\n",
       "                normal_mentions  total_normal_mentions  normal_repliers  \\\n",
       "kaser100                     36                     51               36   \n",
       "Whicket                      10                     12               10   \n",
       "ROYALMRBADNEWS               55                    104               55   \n",
       "HotpageNews                   9                      9                9   \n",
       "bogthing                     34                     42               34   \n",
       "\n",
       "                total_normal_replies label  \n",
       "kaser100                          51     F  \n",
       "Whicket                           12     F  \n",
       "ROYALMRBADNEWS                   104     F  \n",
       "HotpageNews                        9     F  \n",
       "bogthing                          42     F  "
      ]
     },
     "execution_count": 62,
     "metadata": {},
     "output_type": "execute_result"
    }
   ],
   "source": [
    "df_90.head()"
   ]
  },
  {
   "cell_type": "code",
   "execution_count": 186,
   "metadata": {},
   "outputs": [
    {
     "name": "stdout",
     "output_type": "stream",
     "text": [
      "F 46.18840579710145\n",
      "B 88.6808988764045\n",
      "Statistics=78657.500, p=0.0000000000\n"
     ]
    }
   ],
   "source": [
    "from numpy.random import seed\n",
    "from numpy.random import randn\n",
    "from scipy.stats import mannwhitneyu\n",
    "seed(1)\n",
    "column_name='total_normal_replies'\n",
    "\n",
    "treatment=list(df_90[(df_90['label']=='F') & (df_90[column_name]!=-1)][column_name])\n",
    "control=list(df_90[(df_90['label']=='B') & (df_90[column_name]!=-1)][column_name])\n",
    "print(\"F\",np.mean(treatment))\n",
    "print(\"B\",np.mean(control))\n",
    "\n",
    "stat, p = mannwhitneyu(treatment, control,alternative='less')\n",
    "print('Statistics=%.3f, p=%.10f' % (stat, p))"
   ]
  },
  {
   "cell_type": "code",
   "execution_count": 64,
   "metadata": {},
   "outputs": [],
   "source": [
    "top10user=list(df_90[df_90['label']=='F'].sort_values('total_normal_reposts',ascending=False)[0:10].index)"
   ]
  },
  {
   "cell_type": "code",
   "execution_count": null,
   "metadata": {},
   "outputs": [],
   "source": [
    "import random\n",
    "def get_samples(users=None,label='fearspeech'):\n",
    "    threshold={'hatespeech':0.9,'fearspeech':0.7,'normal':0.7}\n",
    "    posts=[]\n",
    "    files = sorted(glob('../../Gab_Data/new_features_old_gab/gab_fear_hate_features*.pickle'))\n",
    "    for file in tqdm_notebook(files,total=len(files)):\n",
    "   \n",
    "        with open(file, 'rb') as handle:\n",
    "            Gab_keyword_match = pickle.load(handle)\n",
    "\n",
    "        if('predicted_probab' not in Gab_keyword_match[1].keys()):\n",
    "            print(\"not found\")\n",
    "            continue\n",
    "\n",
    "        for element in Gab_keyword_match:\n",
    "            \n",
    "            post={}\n",
    "            post['body']=element['post_body']\n",
    "            labels=[]\n",
    "    \n",
    "            for i in range(len(element['predicted_probab'])):\n",
    "                if(element['predicted_probab'][i]>threshold[reverse_dict_labels[i]]):\n",
    "                    labels.append(reverse_dict_labels[i])\n",
    "\n",
    "            post['labels']=labels\n",
    "            \n",
    "            if(label=='normal' and post['labels']==[]):\n",
    "                if(element['username'] in users):\n",
    "                    #print(line,labels)\n",
    "                    posts.append([element['post_body'],'normal',element['like_count'],element['repost_count']])\n",
    "            \n",
    "            if(post['labels']==[label]):\n",
    "                if(element['username'] in users):\n",
    "#                     #print(line,labels)\n",
    "                    posts.append([element['post_body'],labels[0],element['like_count'],element['repost_count'],element['reply_count']])\n",
    "    print(len(posts))\n",
    "    df=pd.DataFrame(posts, columns=['text','label','like','repost','reply'])\n",
    "    return df\n",
    "#     print(len(posts))\n",
    "#     samples=random.sample(posts,min(len(posts),20))\n",
    "    \n",
    "#     for sample in samples:\n",
    "#         print(sample)\n",
    "#         print(\"==============================================\")\n",
    "\n",
    "def get_samples_date(month_start=1,month_end=3,year_start=2017,year_end=2017,label='fearspeech'):\n",
    "    threshold={'hatespeech':0.9,'fearspeech':0.7,'normal':0.7}\n",
    "    posts=[]\n",
    "    files = sorted(glob('../../Gab_Data/new_features_old_gab/gab_fear_hate_features*.pickle'))\n",
    "    for file in tqdm_notebook(files,total=len(files)):\n",
    "   \n",
    "        with open(file, 'rb') as handle:\n",
    "            Gab_keyword_match = pickle.load(handle)\n",
    "\n",
    "        if('predicted_probab' not in Gab_keyword_match[1].keys()):\n",
    "            print(\"not found\")\n",
    "            continue\n",
    "\n",
    "        for element in Gab_keyword_match:\n",
    "            flag_add=False\n",
    "            try:\n",
    "                dt = datetime.fromisoformat(element['post_create_time'])\n",
    "                if((dt.month >= month_start and dt.month <= month_end) and (dt.year >= year_start and dt.year <= year_end)):\n",
    "                    flag_add=True\n",
    "                else:\n",
    "                    flag_add=False\n",
    "#                 key_new=str(dt.month)+'/'+str(dt.year)\n",
    "            except KeyError:\n",
    "                continue\n",
    "            \n",
    "            \n",
    "            post={}\n",
    "            post['body']=element['post_body']\n",
    "            labels=[]\n",
    "            \n",
    "            \n",
    "            \n",
    "            for i in range(len(element['predicted_probab'])):\n",
    "                if(element['predicted_probab'][i]>threshold[reverse_dict_labels[i]]):\n",
    "                    labels.append(reverse_dict_labels[i])\n",
    "\n",
    "            post['labels']=labels\n",
    "            \n",
    "            if(label=='normal' and post['labels']==[]):\n",
    "#                 if(element['username'] in users):\n",
    "#                     #print(line,labels)\n",
    "                    if(flag_add):\n",
    "                        posts.append([element['post_body'],'normal',element['like_count'],element['repost_count']])\n",
    "            \n",
    "            if(post['labels']==[label]):\n",
    "#                 if(element['username'] in users):\n",
    "#                     #print(line,labels)\n",
    "                    if(flag_add):\n",
    "                        posts.append([element['post_body'],labels[0],element['like_count'],element['repost_count'],element['reply_count']])\n",
    "    print(len(posts))\n",
    "    df=pd.DataFrame(posts, columns=['text','label','like','repost','reply'])\n",
    "    return df\n",
    "#     print(len(posts))\n",
    "#     samples=random.sample(posts,min(len(posts),20))\n",
    "    \n",
    "#     for sample in samples:\n",
    "#         print(sample)\n",
    "#         print(\"==============================================\")\n",
    "\n"
   ]
  },
  {
   "cell_type": "code",
   "execution_count": null,
   "metadata": {},
   "outputs": [],
   "source": [
    "df=get_samples(users=None,label='fearspeech')"
   ]
  },
  {
   "cell_type": "code",
   "execution_count": null,
   "metadata": {},
   "outputs": [],
   "source": [
    "df.sort_values('reply',ascending=False)[0:20]"
   ]
  },
  {
   "cell_type": "code",
   "execution_count": null,
   "metadata": {},
   "outputs": [],
   "source": [
    "df_mentions=get_samples_date(month_start=2,month_end=3,year_start=2018,year_end=2018,label='hatespeech')"
   ]
  },
  {
   "cell_type": "code",
   "execution_count": null,
   "metadata": {},
   "outputs": [],
   "source": [
    "df_mentions_hate=get_samples_date(month_start=2,month_end=3,year_start=2018,year_end=2018,label='hatespeech')"
   ]
  },
  {
   "cell_type": "code",
   "execution_count": null,
   "metadata": {},
   "outputs": [],
   "source": [
    "df_mentions_hate.sort_values('repost',ascending=False)[0:100]"
   ]
  },
  {
   "cell_type": "code",
   "execution_count": null,
   "metadata": {},
   "outputs": [],
   "source": [
    "mentioned_dict_highest={}\n",
    "for index,row in df_mentions.iterrows():\n",
    "    text=row['text'].split()\n",
    "    for word in text:\n",
    "        mentioned_user=None\n",
    "        if(len(word.split('@'))>1):\n",
    "            res = word.split('@')[1]\n",
    "\n",
    "            # TO AVOID GMAILS\n",
    "            if(len(res.split('.'))>1):\n",
    "                if_gmail=res.split('.')[1]\n",
    "                if(if_gmail!='com'):\n",
    "                    mentioned_user=res\n",
    "            else:\n",
    "                mentioned_user=res\n",
    "        \n",
    "        try:\n",
    "            mentioned_dict_highest[mentioned_user]+=1\n",
    "        except KeyError:\n",
    "            mentioned_dict_highest[mentioned_user]=1"
   ]
  },
  {
   "cell_type": "code",
   "execution_count": null,
   "metadata": {},
   "outputs": [],
   "source": [
    "with pd.option_context('display.max_rows', None, 'display.max_columns', None):  # more options can be specified also\n",
    "    for ele in list(df_mentions.sample(10).text):\n",
    "        print(ele)\n",
    "        print(\"------------\")"
   ]
  },
  {
   "cell_type": "code",
   "execution_count": null,
   "metadata": {},
   "outputs": [],
   "source": [
    "df_hate=get_samples(users=['JaneDoeCountry', 'st3pp3nw0lf', 'Sterangeli5', 'WarRoomShow', 'Lynne75', 'Castelnau', 'Kaybird', 'Pamisue', 'LesaJoy', 'Didizichi'],label='normal')"
   ]
  },
  {
   "cell_type": "code",
   "execution_count": null,
   "metadata": {},
   "outputs": [],
   "source": [
    "df_hate.to_csv('mentioned_nromal.csv')"
   ]
  },
  {
   "cell_type": "code",
   "execution_count": null,
   "metadata": {},
   "outputs": [],
   "source": [
    "pd.set_option('display.max_colwidth', -1)\n",
    "df.sort_values(by='like',ascending=False).head(20)\n"
   ]
  },
  {
   "cell_type": "code",
   "execution_count": null,
   "metadata": {},
   "outputs": [],
   "source": [
    "import json\n",
    "with open('../../../../Gab_Data_old/user_details.json') as fp:\n",
    "    dict_users_original = json.load(fp)\n",
    "\n",
    "exfearuser=list(df_90[df_90['label']=='F'].sort_values('total_normal_reposts',ascending=False).index)\n",
    "def get_mentions(text):\n",
    "    mentioned_users=[]\n",
    "    text=text.split()\n",
    "    for word in text:\n",
    "        muser=None\n",
    "        if(len(word.split('@'))>1):\n",
    "            res = word.split('@')[1]\n",
    "            # TO AVOID GMAILS\n",
    "            if(len(res.split('.'))>1):\n",
    "                if_gmail=res.split('.')[1]\n",
    "                if(if_gmail!='com'):\n",
    "                    muser=res\n",
    "            else:\n",
    "                muser=res\n",
    "\n",
    "                    \n",
    "            if(muser!=None):\n",
    "                try:\n",
    "                    temp=dict_users_original[muser]\n",
    "                    mentioned_users.append(muser)\n",
    "                except KeyError:\n",
    "                    continue\n",
    "    return mentioned_users\n",
    "        \n",
    "        \n",
    "def get_mentioned_users(users=exfearuser,label='fearspeech'):\n",
    "    threshold={'hatespeech':0.9,'fearspeech':0.7,'normal':0.7}\n",
    "    posts=[]\n",
    "    mentioned_user_dict={}\n",
    "    files = sorted(glob('../../Gab_Data/new_features_old_gab/gab_fear_hate_features*.pickle'))\n",
    "    for file in tqdm_notebook(files,total=len(files)):\n",
    "   \n",
    "        with open(file, 'rb') as handle:\n",
    "            Gab_keyword_match = pickle.load(handle)\n",
    "\n",
    "        if('predicted_probab' not in Gab_keyword_match[1].keys()):\n",
    "            print(\"not found\")\n",
    "            continue\n",
    "\n",
    "        for element in Gab_keyword_match:\n",
    "            \n",
    "            post={}\n",
    "            post['body']=element['post_body']\n",
    "            \n",
    "            \n",
    "            labels=[]\n",
    "    \n",
    "            for i in range(len(element['predicted_probab'])):\n",
    "                if(element['predicted_probab'][i]>threshold[reverse_dict_labels[i]]):\n",
    "                    labels.append(reverse_dict_labels[i])\n",
    "\n",
    "            post['labels']=labels\n",
    "            \n",
    "            if(label=='normal' and post['labels']==[]):\n",
    "                if(element['username'] in users):\n",
    "                    #print(line,labels)\n",
    "                    posts.append([element['post_body'],'normal',element['like_count'],element['repost_count']])\n",
    "            \n",
    "            if(post['labels']==[label]):\n",
    "                if(element['username'] in users):\n",
    "                    #print(line,labels)\n",
    "                    \n",
    "                    mentioned_users=get_mentions(element['post_body'])\n",
    "                    \n",
    "                    \n",
    "                    for element in mentioned_users:\n",
    "                        try:\n",
    "                            temp=all_normal_dict[element]\n",
    "                            try:\n",
    "                                mentioned_user_dict[element]+=1\n",
    "                            except KeyError:\n",
    "                                mentioned_user_dict[element]=1\n",
    "                        except:\n",
    "                            pass\n",
    "                    \n",
    "                                \n",
    "                    \n",
    "                    #posts.append([element['post_body'],labels[0],element['like_count'],element['repost_count']])\n",
    "    return mentioned_user_dict"
   ]
  },
  {
   "cell_type": "code",
   "execution_count": null,
   "metadata": {},
   "outputs": [],
   "source": []
  },
  {
   "cell_type": "markdown",
   "metadata": {},
   "source": [
    "### Hybrid Users"
   ]
  },
  {
   "cell_type": "code",
   "execution_count": null,
   "metadata": {},
   "outputs": [],
   "source": [
    "mentioned_user_dict=get_mentioned_users(users=exfearuser,label='fearspeech')"
   ]
  },
  {
   "cell_type": "code",
   "execution_count": null,
   "metadata": {},
   "outputs": [],
   "source": [
    "sorted_dict={k: v for k, v in sorted(mentioned_user_dict.items(), key=lambda item: item[1], reverse=True)[0:10]}\n",
    "sorted_dict.keys()"
   ]
  },
  {
   "cell_type": "code",
   "execution_count": null,
   "metadata": {},
   "outputs": [],
   "source": [
    "avg_follower=0\n",
    "avg_following=0 \n",
    "avg_post=0\n",
    "for key in sorted_dict.keys():\n",
    "    if(key=='WarRoomShow'):\n",
    "        continue\n",
    "    avg_follower+=dict_users_original[key]['follower_count']/10\n",
    "    avg_following+=dict_users_original[key]['following_count']/10\n",
    "    avg_post+=dict_users_original[key]['post_count']/10\n",
    "    \n",
    "    "
   ]
  },
  {
   "cell_type": "code",
   "execution_count": null,
   "metadata": {},
   "outputs": [],
   "source": [
    "print(avg_follower,avg_following,avg_post)"
   ]
  },
  {
   "cell_type": "markdown",
   "metadata": {},
   "source": [
    "### Temporal analysis"
   ]
  },
  {
   "cell_type": "code",
   "execution_count": null,
   "metadata": {},
   "outputs": [],
   "source": [
    "interaction_dict={}\n",
    "exfearuser=list(df_90[df_90['label']=='F'].sort_values('total_normal_reposts',ascending=False).index)\n",
    "exhateuser=list(df_90[df_90['label']=='H'].sort_values('total_normal_reposts',ascending=False).index)\n",
    "\n",
    "\n",
    "def check_condition(users,key,user_data,type_interaction='replies'):\n",
    "    if(type_interaction=='replies'):\n",
    "        if(key[1] in users) and (key[0] in all_normal_dict) and user_data[key][type_interaction]>0:\n",
    "            return True\n",
    "        else:\n",
    "            return False\n",
    "    elif(type_interaction=='reposts'):\n",
    "        if(key[0] in users) and (key[1] in all_normal_dict) and user_data[key][type_interaction]>0:\n",
    "            return True\n",
    "        else:\n",
    "            return False\n",
    "    elif(type_interaction=='mentions'):\n",
    "        if(key[0] in users) and (key[1] in all_normal_dict) and user_data[key][type_interaction]>0:\n",
    "            return True\n",
    "        else:\n",
    "            return False\n",
    "\n",
    "\n",
    "        \n",
    "def get_interaction_dict(interaction_data,users,type_interaction):\n",
    "    interaction_dict={}\n",
    "    for month_year in tqdm_notebook(interaction_data.keys()):\n",
    "        user_data=interaction_data[month_year]\n",
    "        user_replied={}\n",
    "        for key in user_data.keys():\n",
    "\n",
    "            if(check_condition(users,key,user_data,type_interaction=type_interaction)):\n",
    "\n",
    "                try:\n",
    "\n",
    "                    interaction_dict[month_year]['total_interaction']+=user_data[key][type_interaction]\n",
    "                    interaction_dict[month_year]['total_users']+=1\n",
    "\n",
    "                    try:\n",
    "                        temp=user_replied[key[0]]\n",
    "                    except KeyError:\n",
    "                        user_replied[key[0]]=1\n",
    "                        interaction_dict[month_year]['unique_users']+=1\n",
    "\n",
    "                except KeyError:\n",
    "                    interaction_dict[month_year]={}\n",
    "                    interaction_dict[month_year]['total_interaction']=user_data[key][type_interaction]\n",
    "                    interaction_dict[month_year]['total_users']=1\n",
    "\n",
    "\n",
    "                    try:\n",
    "                        temp=user_replied[key[0]]\n",
    "                    except KeyError:\n",
    "                        user_replied[key[0]]=1\n",
    "                        interaction_dict[month_year]['unique_users']=1\n",
    "    return interaction_dict"
   ]
  },
  {
   "cell_type": "code",
   "execution_count": null,
   "metadata": {},
   "outputs": [],
   "source": [
    "# interaction_dict_exfear_reply=get_interaction_dict(interaction_data,exfearuser,'replies')\n",
    "# interaction_dict_exhate_reply=get_interaction_dict(interaction_data,exhateuser,'replies')\n",
    "# interaction_dict_exfear_repost=get_interaction_dict(interaction_data,exfearuser,'reposts')\n",
    "# interaction_dict_exhate_repost=get_interaction_dict(interaction_data,exhateuser,'reposts')\n",
    "interaction_dict_exfear_mention=get_interaction_dict(interaction_data,exfearuser,'mentions')\n",
    "interaction_dict_exhate_mention=get_interaction_dict(interaction_data,exhateuser,'mentions')\n"
   ]
  },
  {
   "cell_type": "code",
   "execution_count": null,
   "metadata": {},
   "outputs": [],
   "source": [
    "import matplotlib.pyplot as plt\n",
    "import seaborn as sns\n",
    "import matplotlib.gridspec as gridspec\n",
    "matplotlib.rcParams['figure.figsize'] = (20, 5)\n",
    "sns.set(context='paper',style='whitegrid',font_scale=2, rc={\"lines.linewidth\": 2.0,\"lines.markersize\": 10})\n",
    "\n",
    "x=[]\n",
    "y=[]\n",
    "\n",
    "for key in interaction_dict_exfear_mention:\n",
    "    x.append(key[0:2]+'-'+key[-2:])\n",
    "    y.append(interaction_dict_exfear_mention[key]['total_interaction']/interaction_dict_exfear_mention[key]['unique_users'])\n",
    "\n",
    "sns.lineplot(x=x, y=y, color='red')\n",
    "\n",
    "x=[]\n",
    "y=[]\n",
    "\n",
    "for key in interaction_dict_exhate_mention:\n",
    "    x.append(key[0:2]+'-'+key[-2:])\n",
    "    y.append(interaction_dict_exhate_mention[key]['total_interaction']/interaction_dict_exhate_mention[key]['unique_users'])\n",
    "\n",
    "sns.lineplot(x=x, y=y,color='orange')    "
   ]
  },
  {
   "cell_type": "code",
   "execution_count": null,
   "metadata": {},
   "outputs": [],
   "source": [
    "interaction_dict_exhate_mention[key]['unique_users']\n"
   ]
  },
  {
   "cell_type": "markdown",
   "metadata": {},
   "source": [
    "### Get fractions replied to by normal users"
   ]
  },
  {
   "cell_type": "code",
   "execution_count": null,
   "metadata": {},
   "outputs": [],
   "source": [
    "files = sorted(glob('../../Gab_Data/new_features_old_gab/gab_fear_hate_features*.pickle'))\n",
    "\n",
    "#dict_posts_ids={}\n",
    "for file in tqdm_notebook(files,total=len(files)):\n",
    "    with open(file, 'rb') as handle:\n",
    "        Gab_keyword_match = pickle.load(handle)\n",
    "        \n",
    "    if('predicted_probab' not in Gab_keyword_match[1].keys()):\n",
    "        print(\"not found\")\n",
    "        continue\n",
    "        \n",
    "    for element in Gab_keyword_match:\n",
    "        post={}\n",
    "        post['body']=element['post_body']\n",
    "\n",
    "\n",
    "        labels=[]\n",
    "\n",
    "        for i in range(len(element['predicted_probab'])):\n",
    "            if(element['predicted_probab'][i]>threshold[reverse_dict_labels[i]]):\n",
    "                labels.append(reverse_dict_labels[i])\n",
    "\n",
    "        post['labels']=labels\n",
    "\n",
    "        if(label=='normal' and post['labels']==[]):\n",
    "            pass\n",
    "#         elif(post['labels']==['fearspeech'] or post['labels']==['hatespeech']):\n",
    "#             dict_posts_ids[element['id']]['label']=post['labels'][0]\n",
    "        \n",
    "\n",
    "\n",
    "        "
   ]
  },
  {
   "cell_type": "code",
   "execution_count": null,
   "metadata": {},
   "outputs": [],
   "source": [
    "len(dict_post_ids)"
   ]
  },
  {
   "cell_type": "markdown",
   "metadata": {},
   "source": [
    "### Get normal users neighbours"
   ]
  },
  {
   "cell_type": "code",
   "execution_count": null,
   "metadata": {},
   "outputs": [],
   "source": [
    "dict_users_normal={}\n",
    "\n",
    "for key in dict_users.keys():\n",
    "    user=dict_users[key]\n",
    "    total=user['fearspeech']+user['hatespeech']+user['normal']\n",
    "    total_danger=user['fearspeech']+user['hatespeech']\n",
    "    if(total>=100 and user['normal']>=10 and total_danger<=10):\n",
    "        dict_users_normal[key]=user\n",
    "        dict_users_normal[key]['name']=key\n",
    "\n",
    "        \n",
    "df_users_normal=pd.DataFrame(dict_users_normal).transpose()"
   ]
  },
  {
   "cell_type": "code",
   "execution_count": null,
   "metadata": {},
   "outputs": [],
   "source": [
    "df_users_normal"
   ]
  },
  {
   "cell_type": "code",
   "execution_count": null,
   "metadata": {},
   "outputs": [],
   "source": [
    "users_dict={}\n",
    "count=0\n",
    "for index,row in tqdm_notebook(df_users_normal.iterrows(),total=len(df_users_normal)):\n",
    "    try:\n",
    "        predec=list(G.predecessors(index))\n",
    "        user_names=[]\n",
    "        for user in predec:\n",
    "            user_names.append(user)\n",
    "        \n",
    "        users_dict[index]=user_names        \n",
    "    except (nx.NetworkXError, KeyError):\n",
    "        count+=1\n",
    "        pass\n",
    "print(count)"
   ]
  },
  {
   "cell_type": "code",
   "execution_count": null,
   "metadata": {},
   "outputs": [],
   "source": [
    "user_received_posts={}\n",
    "    \n",
    "files = sorted(glob('../../Gab_Data/new_features_old_gab/gab_fear_hate_features*.pickle'))\n",
    "for file in tqdm_notebook(files,total=len(files)):\n",
    "\n",
    "                        \n",
    "                \n",
    "\n"
   ]
  },
  {
   "cell_type": "code",
   "execution_count": null,
   "metadata": {},
   "outputs": [],
   "source": [
    "len(user_received_posts)"
   ]
  },
  {
   "cell_type": "code",
   "execution_count": null,
   "metadata": {},
   "outputs": [],
   "source": [
    "#! /usr/bin/env python\n",
    "# -*- coding: utf-8 -*-\n",
    "# vim:fenc=utf-8\n",
    "\n",
    "\"\"\" Simple demo of using multiprocessing when parsing files \"\"\"\n",
    "\n",
    "import sys\n",
    "import os\n",
    "import codecs\n",
    "from multiprocessing import Pool, Process, Queue, cpu_count\n",
    "\n",
    "\n",
    "def get_file_list(folder):\n",
    "    \"\"\" Returns a list of files inside the <folder> directory \"\"\"\n",
    "    file_list = []\n",
    "    dirs_list = []\n",
    "\n",
    "    # \"Walk\" through folder\n",
    "    for root, dirs, files in os.walk(folder):\n",
    "        for dir in dirs:\n",
    "            dirpath = os.path.join(root, dir)\n",
    "            print(dirpath)\n",
    "\n",
    "        for filename in files:\n",
    "            filepath = os.path.join(root, filename)\n",
    "\n",
    "            # Check if it's file\n",
    "            if os.path.isfile(filepath):\n",
    "                file_list.append(filepath)\n",
    "\n",
    "    return file_list\n",
    "\n",
    "\n",
    "def parse_file(file_path, nr_lines):\n",
    "    \"\"\" Read first n lines from file \"\"\"\n",
    "    user_received_posts={}\n",
    "    with open(file, 'rb') as handle:\n",
    "        Gab_keyword_match = pickle.load(handle)\n",
    "\n",
    "        \n",
    "        for user in tqdm_notebook(users_dict,total=len(users_dict)):\n",
    "            for element in Gab_keyword_match:\n",
    "                if(element['username'] in users_dict[user]):\n",
    "                    labels=[]\n",
    "                    for i in range(len(element['predicted_probab'])):\n",
    "                        if(element['predicted_probab'][i]>threshold[reverse_dict_labels[i]]):\n",
    "                            labels.append(reverse_dict_labels[i])\n",
    "\n",
    "                    labels_ambi=[]\n",
    "                    for i in range(len(element['predicted_probab'])):\n",
    "                        if(element['predicted_probab'][i]>0.5):\n",
    "                            labels_ambi.append(reverse_dict_labels[i])\n",
    "\n",
    "                    if(('fearspeech' in labels) and ('hatespeech' in labels)):\n",
    "                        dict_add={}\n",
    "                        pass\n",
    "                    elif('fearspeech' in labels):\n",
    "                        dict_add={'id':element['id'], 'label':'fearspeech'}\n",
    "\n",
    "                    elif('hatespeech' in labels):\n",
    "                        dict_add={'id':element['id'], 'label':'hatespeech'}\n",
    "                    else:\n",
    "                        if(('fearspeech' in labels_ambi) or ('hatespeech' in labels_ambi)):\n",
    "                            dict_add={}\n",
    "                            pass\n",
    "                        else:\n",
    "                            dict_add={'id':element['id'], 'label':'normal'}\n",
    "\n",
    "                    if(dict_add!={}):\n",
    "                        try:\n",
    "                            user_received_posts[user].append(dict_add)\n",
    "                        except KeyError:\n",
    "                            user_received_posts[user]=[]\n",
    "                            user_received_posts[user].append(dict_add)\n",
    "\n",
    "    print(file_path,\"done\")\n",
    "    return user_received_posts\n",
    "\n",
    "\n",
    "def process_files(file_list, q):\n",
    "    \"\"\" Proprocess every file in <file_list> and call parse_file() \"\"\"\n",
    "    results = []\n",
    "    try:\n",
    "        for f in file_list:\n",
    "            results.append(parse_file(f, 3))\n",
    "    except:\n",
    "        q.put([])\n",
    "        raise\n",
    "\n",
    "    # Put results into queue\n",
    "    q.put(results)\n",
    "\n",
    "\n",
    "def parallelize_parsing(file_list):\n",
    "\n",
    "    cpu_cores = cpu_count()\n",
    "    q = Queue()\n",
    "    procs = []\n",
    "\n",
    "    # Split the input file list into sublists according to the number\n",
    "    # of the available CPU cores\n",
    "    for i in range(0, cpu_cores):\n",
    "        sub_list = [file_list[j] for j in range(0, len(file_list)) if j % cpu_cores == i]\n",
    "\n",
    "        if len(sub_list) > 0:\n",
    "            p = Process(target=process_files, args=([sub_list, q]))\n",
    "            p.start()\n",
    "            procs.append(p)\n",
    "\n",
    "    # Collect the results\n",
    "    all_results = []\n",
    "    for i in range(0, len(procs)):\n",
    "        all_results.append(q.get())\n",
    "\n",
    "    return results"
   ]
  },
  {
   "cell_type": "code",
   "execution_count": null,
   "metadata": {},
   "outputs": [],
   "source": [
    "# Get list of file paths\n",
    "file_list = sorted(glob('../../Gab_Data/new_features_old_gab/gab_fear_hate_features*.pickle'))\n",
    "# print(file_list)\n",
    "results=parallelize_parsing(file_list)"
   ]
  },
  {
   "cell_type": "code",
   "execution_count": null,
   "metadata": {},
   "outputs": [],
   "source": [
    "del user_received_posts"
   ]
  },
  {
   "cell_type": "code",
   "execution_count": null,
   "metadata": {},
   "outputs": [],
   "source": []
  }
 ],
 "metadata": {
  "kernelspec": {
   "display_name": "Python [conda env:.conda-punyajoy_gpu] *",
   "language": "python",
   "name": "conda-env-.conda-punyajoy_gpu-py"
  },
  "language_info": {
   "codemirror_mode": {
    "name": "ipython",
    "version": 3
   },
   "file_extension": ".py",
   "mimetype": "text/x-python",
   "name": "python",
   "nbconvert_exporter": "python",
   "pygments_lexer": "ipython3",
   "version": "3.8.5"
  }
 },
 "nbformat": 4,
 "nbformat_minor": 4
}
