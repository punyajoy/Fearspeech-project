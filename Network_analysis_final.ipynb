{
 "cells": [
  {
   "cell_type": "code",
   "execution_count": 4,
   "metadata": {},
   "outputs": [
    {
     "data": {
      "text/html": [
       "\n",
       "\t\t\t<script type=\"text/javascript\">\n",
       "\t\t\t<!--\n",
       "\t\t\t\t\n",
       "\t\t\t{\n",
       "\t\t\t\tvar element = document.getElementById('NetworKit_script');\n",
       "\t\t\t\tif (element) {\n",
       "\t\t\t\t\telement.parentNode.removeChild(element);\n",
       "\t\t\t\t}\n",
       "\t\t\t\telement = document.createElement('script');\n",
       "\t\t\t\telement.type = 'text/javascript';\n",
       "\t\t\t\telement.innerHTML = 'function NetworKit_pageEmbed(id) { var i, j; var elements; elements = document.getElementById(id).getElementsByClassName(\"Plot\"); for (i=0; i<elements.length; i++) { elements[i].id = id + \"_Plot_\" + i; var data = elements[i].getAttribute(\"data-image\").split(\"|\"); elements[i].removeAttribute(\"data-image\"); var content = \"<div class=\\\\\"Image\\\\\" id=\\\\\"\" + elements[i].id + \"_Image\\\\\" />\"; elements[i].innerHTML = content; elements[i].setAttribute(\"data-image-index\", 0); elements[i].setAttribute(\"data-image-length\", data.length); for (j=0; j<data.length; j++) { elements[i].setAttribute(\"data-image-\" + j, data[j]); } NetworKit_plotUpdate(elements[i]); elements[i].onclick = function (e) { NetworKit_overlayShow((e.target) ? e.target : e.srcElement); } } elements = document.getElementById(id).getElementsByClassName(\"HeatCell\"); for (i=0; i<elements.length; i++) { var data = parseFloat(elements[i].getAttribute(\"data-heat\")); var color = \"#00FF00\"; if (data <= 1 && data > 0) { color = \"hsla(0, 100%, 75%, \" + (data) + \")\"; } else if (data <= 0 && data >= -1) { color = \"hsla(240, 100%, 75%, \" + (-data) + \")\"; } elements[i].style.backgroundColor = color; } elements = document.getElementById(id).getElementsByClassName(\"Details\"); for (i=0; i<elements.length; i++) { elements[i].setAttribute(\"data-title\", \"-\"); NetworKit_toggleDetails(elements[i]); elements[i].onclick = function (e) { NetworKit_toggleDetails((e.target) ? e.target : e.srcElement); } } elements = document.getElementById(id).getElementsByClassName(\"MathValue\"); for (i=elements.length-1; i>=0; i--) { value = elements[i].innerHTML.trim(); if (value === \"nan\") { elements[i].parentNode.innerHTML = \"\" } } elements = document.getElementById(id).getElementsByClassName(\"SubCategory\"); for (i=elements.length-1; i>=0; i--) { value = elements[i].innerHTML.trim(); if (value === \"\") { elements[i].parentNode.removeChild(elements[i]) } } elements = document.getElementById(id).getElementsByClassName(\"Category\"); for (i=elements.length-1; i>=0; i--) { value = elements[i].innerHTML.trim(); if (value === \"\") { elements[i].parentNode.removeChild(elements[i]) } } var isFirefox = false; try { isFirefox = typeof InstallTrigger !== \"undefined\"; } catch (e) {} if (!isFirefox) { alert(\"Currently the function\\'s output is only fully supported by Firefox.\"); } } function NetworKit_plotUpdate(source) { var index = source.getAttribute(\"data-image-index\"); var data = source.getAttribute(\"data-image-\" + index); var image = document.getElementById(source.id + \"_Image\"); image.style.backgroundImage = \"url(\" + data + \")\"; } function NetworKit_showElement(id, show) { var element = document.getElementById(id); element.style.display = (show) ? \"block\" : \"none\"; } function NetworKit_overlayShow(source) { NetworKit_overlayUpdate(source); NetworKit_showElement(\"NetworKit_Overlay\", true); } function NetworKit_overlayUpdate(source) { document.getElementById(\"NetworKit_Overlay_Title\").innerHTML = source.title; var index = source.getAttribute(\"data-image-index\"); var data = source.getAttribute(\"data-image-\" + index); var image = document.getElementById(\"NetworKit_Overlay_Image\"); image.setAttribute(\"data-id\", source.id); image.style.backgroundImage = \"url(\" + data + \")\"; var link = document.getElementById(\"NetworKit_Overlay_Toolbar_Bottom_Save\"); link.href = data; link.download = source.title + \".svg\"; } function NetworKit_overlayImageShift(delta) { var image = document.getElementById(\"NetworKit_Overlay_Image\"); var source = document.getElementById(image.getAttribute(\"data-id\")); var index = parseInt(source.getAttribute(\"data-image-index\")); var length = parseInt(source.getAttribute(\"data-image-length\")); var index = (index+delta) % length; if (index < 0) { index = length + index; } source.setAttribute(\"data-image-index\", index); NetworKit_overlayUpdate(source); } function NetworKit_toggleDetails(source) { var childs = source.children; var show = false; if (source.getAttribute(\"data-title\") == \"-\") { source.setAttribute(\"data-title\", \"+\"); show = false; } else { source.setAttribute(\"data-title\", \"-\"); show = true; } for (i=0; i<childs.length; i++) { if (show) { childs[i].style.display = \"block\"; } else { childs[i].style.display = \"none\"; } } }';\n",
       "\t\t\t\telement.setAttribute('id', 'NetworKit_script');\n",
       "\t\t\t\tdocument.head.appendChild(element);\n",
       "\t\t\t}\n",
       "\t\t\n",
       "\t\t\t\t\n",
       "\t\t\t{\n",
       "\t\t\t\tvar element = document.getElementById('NetworKit_style');\n",
       "\t\t\t\tif (element) {\n",
       "\t\t\t\t\telement.parentNode.removeChild(element);\n",
       "\t\t\t\t}\n",
       "\t\t\t\telement = document.createElement('style');\n",
       "\t\t\t\telement.type = 'text/css';\n",
       "\t\t\t\telement.innerHTML = '.NetworKit_Page { font-family: Arial, Helvetica, sans-serif; font-size: 14px; } .NetworKit_Page .Value:before { font-family: Arial, Helvetica, sans-serif; font-size: 1.05em; content: attr(data-title) \":\"; margin-left: -2.5em; padding-right: 0.5em; } .NetworKit_Page .Details .Value:before { display: block; } .NetworKit_Page .Value { font-family: monospace; white-space: pre; padding-left: 2.5em; white-space: -moz-pre-wrap !important; white-space: -pre-wrap; white-space: -o-pre-wrap; white-space: pre-wrap; word-wrap: break-word; tab-size: 4; -moz-tab-size: 4; } .NetworKit_Page .Category { clear: both; padding-left: 1em; margin-bottom: 1.5em; } .NetworKit_Page .Category:before { content: attr(data-title); font-size: 1.75em; display: block; margin-left: -0.8em; margin-bottom: 0.5em; } .NetworKit_Page .SubCategory { margin-bottom: 1.5em; padding-left: 1em; } .NetworKit_Page .SubCategory:before { font-size: 1.6em; display: block; margin-left: -0.8em; margin-bottom: 0.5em; } .NetworKit_Page .SubCategory[data-title]:before { content: attr(data-title); } .NetworKit_Page .Block { display: block; } .NetworKit_Page .Block:after { content: \".\"; visibility: hidden; display: block; height: 0; clear: both; } .NetworKit_Page .Block .Thumbnail_Overview, .NetworKit_Page .Block .Thumbnail_ScatterPlot { width: 260px; float: left; } .NetworKit_Page .Block .Thumbnail_Overview img, .NetworKit_Page .Block .Thumbnail_ScatterPlot img { width: 260px; } .NetworKit_Page .Block .Thumbnail_Overview:before, .NetworKit_Page .Block .Thumbnail_ScatterPlot:before { display: block; text-align: center; font-weight: bold; } .NetworKit_Page .Block .Thumbnail_Overview:before { content: attr(data-title); } .NetworKit_Page .HeatCell { font-family: \"Courier New\", Courier, monospace; cursor: pointer; } .NetworKit_Page .HeatCell, .NetworKit_Page .HeatCellName { display: inline; padding: 0.1em; margin-right: 2px; background-color: #FFFFFF } .NetworKit_Page .HeatCellName { margin-left: 0.25em; } .NetworKit_Page .HeatCell:before { content: attr(data-heat); display: inline-block; color: #000000; width: 4em; text-align: center; } .NetworKit_Page .Measure { clear: both; } .NetworKit_Page .Measure .Details { cursor: pointer; } .NetworKit_Page .Measure .Details:before { content: \"[\" attr(data-title) \"]\"; display: block; } .NetworKit_Page .Measure .Details .Value { border-left: 1px dotted black; margin-left: 0.4em; padding-left: 3.5em; pointer-events: none; } .NetworKit_Page .Measure .Details .Spacer:before { content: \".\"; opacity: 0.0; pointer-events: none; } .NetworKit_Page .Measure .Plot { width: 440px; height: 440px; cursor: pointer; float: left; margin-left: -0.9em; margin-right: 20px; } .NetworKit_Page .Measure .Plot .Image { background-repeat: no-repeat; background-position: center center; background-size: contain; height: 100%; pointer-events: none; } .NetworKit_Page .Measure .Stat { width: 500px; float: left; } .NetworKit_Page .Measure .Stat .Group { padding-left: 1.25em; margin-bottom: 0.75em; } .NetworKit_Page .Measure .Stat .Group .Title { font-size: 1.1em; display: block; margin-bottom: 0.3em; margin-left: -0.75em; border-right-style: dotted; border-right-width: 1px; border-bottom-style: dotted; border-bottom-width: 1px; background-color: #D0D0D0; padding-left: 0.2em; } .NetworKit_Page .Measure .Stat .Group .List { -webkit-column-count: 3; -moz-column-count: 3; column-count: 3; } .NetworKit_Page .Measure .Stat .Group .List .Entry { position: relative; line-height: 1.75em; } .NetworKit_Page .Measure .Stat .Group .List .Entry[data-tooltip]:before { position: absolute; left: 0; top: -40px; background-color: #808080; color: #ffffff; height: 30px; line-height: 30px; border-radius: 5px; padding: 0 15px; content: attr(data-tooltip); white-space: nowrap; display: none; } .NetworKit_Page .Measure .Stat .Group .List .Entry[data-tooltip]:after { position: absolute; left: 15px; top: -10px; border-top: 7px solid #808080; border-left: 7px solid transparent; border-right: 7px solid transparent; content: \"\"; display: none; } .NetworKit_Page .Measure .Stat .Group .List .Entry[data-tooltip]:hover:after, .NetworKit_Page .Measure .Stat .Group .List .Entry[data-tooltip]:hover:before { display: block; } .NetworKit_Page .Measure .Stat .Group .List .Entry .MathValue { font-family: \"Courier New\", Courier, monospace; } .NetworKit_Page .Measure:after { content: \".\"; visibility: hidden; display: block; height: 0; clear: both; } .NetworKit_Page .PartitionPie { clear: both; } .NetworKit_Page .PartitionPie img { width: 600px; } #NetworKit_Overlay { left: 0px; top: 0px; display: none; position: absolute; width: 100%; height: 100%; background-color: rgba(0,0,0,0.6); z-index: 1000; } #NetworKit_Overlay_Title { position: absolute; color: white; transform: rotate(-90deg); width: 32em; height: 32em; padding-right: 0.5em; padding-top: 0.5em; text-align: right; font-size: 40px; } #NetworKit_Overlay .button { background: white; cursor: pointer; } #NetworKit_Overlay .button:before { size: 13px; display: inline-block; text-align: center; margin-top: 0.5em; margin-bottom: 0.5em; width: 1.5em; height: 1.5em; } #NetworKit_Overlay .icon-close:before { content: \"X\"; } #NetworKit_Overlay .icon-previous:before { content: \"P\"; } #NetworKit_Overlay .icon-next:before { content: \"N\"; } #NetworKit_Overlay .icon-save:before { content: \"S\"; } #NetworKit_Overlay_Toolbar_Top, #NetworKit_Overlay_Toolbar_Bottom { position: absolute; width: 40px; right: 13px; text-align: right; z-index: 1100; } #NetworKit_Overlay_Toolbar_Top { top: 0.5em; } #NetworKit_Overlay_Toolbar_Bottom { Bottom: 0.5em; } #NetworKit_Overlay_ImageContainer { position: absolute; top: 5%; left: 5%; height: 90%; width: 90%; background-repeat: no-repeat; background-position: center center; background-size: contain; } #NetworKit_Overlay_Image { height: 100%; width: 100%; background-repeat: no-repeat; background-position: center center; background-size: contain; }';\n",
       "\t\t\t\telement.setAttribute('id', 'NetworKit_style');\n",
       "\t\t\t\tdocument.head.appendChild(element);\n",
       "\t\t\t}\n",
       "\t\t\n",
       "\t\t\t\t\n",
       "\t\t\t{\n",
       "\t\t\t\tvar element = document.getElementById('NetworKit_Overlay');\n",
       "\t\t\t\tif (element) {\n",
       "\t\t\t\t\telement.parentNode.removeChild(element);\n",
       "\t\t\t\t}\n",
       "\t\t\t\telement = document.createElement('div');\n",
       "\t\t\t\telement.innerHTML = '<div id=\"NetworKit_Overlay_Toolbar_Top\"><div class=\"button icon-close\" id=\"NetworKit_Overlay_Close\" /></div><div id=\"NetworKit_Overlay_Title\" /> <div id=\"NetworKit_Overlay_ImageContainer\"> <div id=\"NetworKit_Overlay_Image\" /> </div> <div id=\"NetworKit_Overlay_Toolbar_Bottom\"> <div class=\"button icon-previous\" onclick=\"NetworKit_overlayImageShift(-1)\" /> <div class=\"button icon-next\" onclick=\"NetworKit_overlayImageShift(1)\" /> <a id=\"NetworKit_Overlay_Toolbar_Bottom_Save\"><div class=\"button icon-save\" /></a> </div>';\n",
       "\t\t\t\telement.setAttribute('id', 'NetworKit_Overlay');\n",
       "\t\t\t\tdocument.body.appendChild(element);\n",
       "\t\t\t\tdocument.getElementById('NetworKit_Overlay_Close').onclick = function (e) {\n",
       "\t\t\t\t\tdocument.getElementById('NetworKit_Overlay').style.display = 'none';\n",
       "\t\t\t\t}\n",
       "\t\t\t}\n",
       "\t\t\n",
       "\t\t\t-->\n",
       "\t\t\t</script>\n",
       "\t\t"
      ]
     },
     "metadata": {},
     "output_type": "display_data"
    }
   ],
   "source": [
    "from networkit import *\n",
    "import glob\n",
    "from tqdm import tqdm_notebook\n",
    "import networkit as nx\n",
    "import json\n",
    "import pandas as pd\n",
    "import matplotlib.pyplot as plt\n",
    "import seaborn as sns\n",
    "import matplotlib\n",
    "import pickle"
   ]
  },
  {
   "cell_type": "code",
   "execution_count": 2,
   "metadata": {},
   "outputs": [],
   "source": [
    "nx.setNumberOfThreads(20)\n",
    "nx.setLogLevel(\"TRACE\")"
   ]
  },
  {
   "cell_type": "code",
   "execution_count": 7,
   "metadata": {},
   "outputs": [],
   "source": [
    "with open('../user_details.json') as fp:\n",
    "    dict_users_original = json.load(fp)\n",
    "with open('../Networks/interaction_network_per_month.json', 'rb') as fp:\n",
    "    data = pickle.load(fp)\n",
    "with open('../Networks/kcore_temportal.json', 'rb') as fp:\n",
    "    monthwise_kcore_dict = pickle.load(fp)  \n",
    "with open('../Networks/map_dict_kcore.json', 'rb') as fp:\n",
    "    map_dict_kcore = pickle.load(fp)  \n",
    "    \n",
    "df_user_label=pd.read_csv('../Results/user_labelling.csv')\n",
    "all_normal_dict={key:1 for key in list(df_user_label[df_user_label['label']=='normal']['user_key'])}\n",
    "df_matched=pd.read_csv('../Results/matched_fear_hate.csv')"
   ]
  },
  {
   "cell_type": "code",
   "execution_count": 8,
   "metadata": {},
   "outputs": [],
   "source": [
    "with open('../Networks/betweeness_centrality.json', 'rb') as fp:\n",
    "    betweenness_data = pickle.load(fp)\n",
    "    \n",
    "with open('../Networks/eigen_vector_centrality.json', 'rb') as fp:\n",
    "    eigen_data = pickle.load(fp)\n"
   ]
  },
  {
   "cell_type": "code",
   "execution_count": 9,
   "metadata": {},
   "outputs": [],
   "source": [
    "file = '../../../../GAB_data/FollowersFollowing/Follow_Following_June2018.json'"
   ]
  },
  {
   "cell_type": "code",
   "execution_count": 10,
   "metadata": {},
   "outputs": [],
   "source": [
    "import plotly.graph_objects as go\n",
    "import urllib, json\n",
    "\n",
    "url = 'https://raw.githubusercontent.com/plotly/plotly.js/master/test/image/mocks/sankey_energy.json'\n",
    "response = urllib.request.urlopen(url)\n",
    "data = json.loads(response.read())\n",
    "colours=data['data'][0]['node']['color']\n",
    "\n",
    "def get_sources_target_val(df):\n",
    "    dict_tuples={}\n",
    "    for i in range(0,len(months_list)-1):\n",
    "        key=tuple([months_list[i],months_list[i+1]])\n",
    "        dict_tuples[key]={}\n",
    "        wide_df = df[['label',months_list[i],months_list[i+1],'freq']].groupby(['label',months_list[i],months_list[i+1]], as_index=False).sum()\n",
    "        columns=list(wide_df.columns)[1:3]\n",
    "        for index,row in wide_df.iterrows():\n",
    "            dict_tuples[key][tuple([row[columns[0]],row[columns[1]]])]=row['freq']\n",
    "    sources=[]\n",
    "    target=[]\n",
    "    values=[]\n",
    "    colour_values=[]\n",
    "    i=0\n",
    "    for key in dict_tuples.keys():\n",
    "        for element in sorted(list(dict_tuples[key].keys())):\n",
    "\n",
    "            source_index=label[key[0]+'-'+str(element[0])]\n",
    "            target_index=label[key[1]+'-'+str(element[1])]\n",
    "            value=dict_tuples[key][element]\n",
    "\n",
    "            sources.append(source_index)\n",
    "            target.append(target_index)\n",
    "            values.append(value)\n",
    "            colour_values.append(colours[i].replace(\"0.8\", str(0.4)))\n",
    "        i+=1\n",
    "    return sources,target,values,colour_values,dict_tuples\n",
    "\n",
    "\n",
    "\n",
    "def get_plotly_figure(sources,target,values,colour_values,labels_modified):\n",
    "    layout = go.Layout(\n",
    "      margin=go.layout.Margin(\n",
    "            l=1, #left margin\n",
    "            r=1, #right margin\n",
    "            b=10, #bottom margin\n",
    "            t=2  #top margin\n",
    "        )\n",
    "    )\n",
    "\n",
    "\n",
    "    fig = go.Figure(data=[go.Sankey(\n",
    "        arrangement = \"snap\",\n",
    "        node = dict(\n",
    "          pad = 15,\n",
    "          thickness = 1,\n",
    "          line = dict(color = \"black\", width = 0.2),\n",
    "          label = labels_modified,\n",
    "          color='black'\n",
    "        ),\n",
    "        link = dict(\n",
    "          source = sources, # indices correspond to labels, eg A1, A2, A1, B1, ...\n",
    "          target = target,\n",
    "          value = values,\n",
    "          color=colours_value\n",
    "\n",
    "      ))],layout=layout)\n",
    "    return fig"
   ]
  },
  {
   "cell_type": "markdown",
   "metadata": {},
   "source": [
    "### Final analysis"
   ]
  },
  {
   "cell_type": "code",
   "execution_count": 27,
   "metadata": {},
   "outputs": [
    {
     "name": "stderr",
     "output_type": "stream",
     "text": [
      "<ipython-input-27-12afe5bf98d6>:10: TqdmDeprecationWarning: This function will be removed in tqdm==5.0.0\n",
      "Please use `tqdm.notebook.tqdm` instead of `tqdm.tqdm_notebook`\n",
      "  for index,row in tqdm_notebook(df_matched.iterrows(),total=len(df_matched)):\n"
     ]
    },
    {
     "data": {
      "application/vnd.jupyter.widget-view+json": {
       "model_id": "5b11ae07292b41fb8c5eab314e0bd12c",
       "version_major": 2,
       "version_minor": 0
      },
      "text/plain": [
       "  0%|          | 0/476 [00:00<?, ?it/s]"
      ]
     },
     "metadata": {},
     "output_type": "display_data"
    }
   ],
   "source": [
    "count=0\n",
    "followers_count=[]\n",
    "following_count=[]\n",
    "eigen_vector_centrality=[]\n",
    "betweeness_centrality=[]\n",
    "post_count=[]\n",
    "label=[]\n",
    "user_keys=[]\n",
    "\n",
    "for index,row in tqdm_notebook(df_matched.iterrows(),total=len(df_matched)):\n",
    "    temp=dict_users_original[row['treatment']]\n",
    "    betweeness_centrality.append(betweenness_data[row['treatment']])\n",
    "    eigen_vector_centrality.append(eigen_data[row['treatment']])\n",
    "\n",
    "    post_count.append(temp['number_of_posts'])\n",
    "    followers_count.append(temp['followers_count'])\n",
    "    following_count.append(temp['followings_count'])\n",
    "    label.append(list(df_user_label[df_user_label['user_key']==row['treatment']]['label'])[0])\n",
    "    user_keys.append(row['treatment'])\n",
    "\n",
    "    temp=dict_users_original[row['control']]\n",
    "    betweeness_centrality.append(betweenness_data[row['control']])\n",
    "    eigen_vector_centrality.append(eigen_data[row['control']])\n",
    "\n",
    "    post_count.append(temp['number_of_posts'])\n",
    "    followers_count.append(temp['followers_count'])\n",
    "    following_count.append(temp['followings_count'])\n",
    "    label.append(list(df_user_label[df_user_label['user_key']==row['control']]['label'])[0])\n",
    "    user_keys.append(row['control'])\n",
    "\n"
   ]
  },
  {
   "cell_type": "code",
   "execution_count": 28,
   "metadata": {},
   "outputs": [
    {
     "data": {
      "text/plain": [
       "{'number_of_posts': 389, 'followers_count': 4, 'followings_count': 0}"
      ]
     },
     "execution_count": 28,
     "metadata": {},
     "output_type": "execute_result"
    }
   ],
   "source": [
    "temp"
   ]
  },
  {
   "cell_type": "code",
   "execution_count": 29,
   "metadata": {},
   "outputs": [
    {
     "data": {
      "text/plain": [
       "{'number_of_posts': 389, 'followers_count': 4, 'followings_count': 0}"
      ]
     },
     "execution_count": 29,
     "metadata": {},
     "output_type": "execute_result"
    }
   ],
   "source": [
    "temp"
   ]
  },
  {
   "cell_type": "code",
   "execution_count": 30,
   "metadata": {},
   "outputs": [],
   "source": [
    "df_users_final= pd.DataFrame(\n",
    "    {'key': user_keys,\n",
    "     'label': label,\n",
    "     'betweenness':betweeness_centrality,\n",
    "     'eigen_vector':eigen_vector_centrality,\n",
    "     'followers_count': followers_count,\n",
    "     'followings_count': following_count,\n",
    "     'post_count': post_count\n",
    "    })\n"
   ]
  },
  {
   "cell_type": "code",
   "execution_count": 31,
   "metadata": {},
   "outputs": [
    {
     "data": {
      "text/html": [
       "<div>\n",
       "<style scoped>\n",
       "    .dataframe tbody tr th:only-of-type {\n",
       "        vertical-align: middle;\n",
       "    }\n",
       "\n",
       "    .dataframe tbody tr th {\n",
       "        vertical-align: top;\n",
       "    }\n",
       "\n",
       "    .dataframe thead th {\n",
       "        text-align: right;\n",
       "    }\n",
       "</style>\n",
       "<table border=\"1\" class=\"dataframe\">\n",
       "  <thead>\n",
       "    <tr style=\"text-align: right;\">\n",
       "      <th></th>\n",
       "      <th>key</th>\n",
       "      <th>label</th>\n",
       "      <th>betweenness</th>\n",
       "      <th>eigen_vector</th>\n",
       "      <th>followers_count</th>\n",
       "      <th>followings_count</th>\n",
       "      <th>post_count</th>\n",
       "    </tr>\n",
       "  </thead>\n",
       "  <tbody>\n",
       "    <tr>\n",
       "      <th>0</th>\n",
       "      <td>john5927</td>\n",
       "      <td>both</td>\n",
       "      <td>0.000014</td>\n",
       "      <td>0.002626</td>\n",
       "      <td>807</td>\n",
       "      <td>847</td>\n",
       "      <td>2613</td>\n",
       "    </tr>\n",
       "    <tr>\n",
       "      <th>1</th>\n",
       "      <td>libtardOZ</td>\n",
       "      <td>both</td>\n",
       "      <td>0.000246</td>\n",
       "      <td>0.032018</td>\n",
       "      <td>5037</td>\n",
       "      <td>11274</td>\n",
       "      <td>871</td>\n",
       "    </tr>\n",
       "    <tr>\n",
       "      <th>2</th>\n",
       "      <td>Spotted_Lady</td>\n",
       "      <td>both</td>\n",
       "      <td>0.000000</td>\n",
       "      <td>0.000068</td>\n",
       "      <td>205</td>\n",
       "      <td>7</td>\n",
       "      <td>4047</td>\n",
       "    </tr>\n",
       "    <tr>\n",
       "      <th>3</th>\n",
       "      <td>libtardOZ</td>\n",
       "      <td>both</td>\n",
       "      <td>0.000246</td>\n",
       "      <td>0.032018</td>\n",
       "      <td>5037</td>\n",
       "      <td>11274</td>\n",
       "      <td>871</td>\n",
       "    </tr>\n",
       "    <tr>\n",
       "      <th>4</th>\n",
       "      <td>battleaxebill</td>\n",
       "      <td>both</td>\n",
       "      <td>0.000000</td>\n",
       "      <td>0.001121</td>\n",
       "      <td>438</td>\n",
       "      <td>254</td>\n",
       "      <td>1409</td>\n",
       "    </tr>\n",
       "    <tr>\n",
       "      <th>...</th>\n",
       "      <td>...</td>\n",
       "      <td>...</td>\n",
       "      <td>...</td>\n",
       "      <td>...</td>\n",
       "      <td>...</td>\n",
       "      <td>...</td>\n",
       "      <td>...</td>\n",
       "    </tr>\n",
       "    <tr>\n",
       "      <th>947</th>\n",
       "      <td>Obbop</td>\n",
       "      <td>both</td>\n",
       "      <td>0.000000</td>\n",
       "      <td>0.000000</td>\n",
       "      <td>4</td>\n",
       "      <td>0</td>\n",
       "      <td>389</td>\n",
       "    </tr>\n",
       "    <tr>\n",
       "      <th>948</th>\n",
       "      <td>hillbilly1488</td>\n",
       "      <td>hatespeech</td>\n",
       "      <td>0.000014</td>\n",
       "      <td>0.001747</td>\n",
       "      <td>551</td>\n",
       "      <td>416</td>\n",
       "      <td>894</td>\n",
       "    </tr>\n",
       "    <tr>\n",
       "      <th>949</th>\n",
       "      <td>Obbop</td>\n",
       "      <td>both</td>\n",
       "      <td>0.000000</td>\n",
       "      <td>0.000000</td>\n",
       "      <td>4</td>\n",
       "      <td>0</td>\n",
       "      <td>389</td>\n",
       "    </tr>\n",
       "    <tr>\n",
       "      <th>950</th>\n",
       "      <td>JohnBalnis1</td>\n",
       "      <td>hatespeech</td>\n",
       "      <td>0.000000</td>\n",
       "      <td>0.000480</td>\n",
       "      <td>47</td>\n",
       "      <td>85</td>\n",
       "      <td>1399</td>\n",
       "    </tr>\n",
       "    <tr>\n",
       "      <th>951</th>\n",
       "      <td>Obbop</td>\n",
       "      <td>both</td>\n",
       "      <td>0.000000</td>\n",
       "      <td>0.000000</td>\n",
       "      <td>4</td>\n",
       "      <td>0</td>\n",
       "      <td>389</td>\n",
       "    </tr>\n",
       "  </tbody>\n",
       "</table>\n",
       "<p>952 rows × 7 columns</p>\n",
       "</div>"
      ],
      "text/plain": [
       "               key       label  betweenness  eigen_vector  followers_count  \\\n",
       "0         john5927        both     0.000014      0.002626              807   \n",
       "1        libtardOZ        both     0.000246      0.032018             5037   \n",
       "2     Spotted_Lady        both     0.000000      0.000068              205   \n",
       "3        libtardOZ        both     0.000246      0.032018             5037   \n",
       "4    battleaxebill        both     0.000000      0.001121              438   \n",
       "..             ...         ...          ...           ...              ...   \n",
       "947          Obbop        both     0.000000      0.000000                4   \n",
       "948  hillbilly1488  hatespeech     0.000014      0.001747              551   \n",
       "949          Obbop        both     0.000000      0.000000                4   \n",
       "950    JohnBalnis1  hatespeech     0.000000      0.000480               47   \n",
       "951          Obbop        both     0.000000      0.000000                4   \n",
       "\n",
       "     followings_count  post_count  \n",
       "0                 847        2613  \n",
       "1               11274         871  \n",
       "2                   7        4047  \n",
       "3               11274         871  \n",
       "4                 254        1409  \n",
       "..                ...         ...  \n",
       "947                 0         389  \n",
       "948               416         894  \n",
       "949                 0         389  \n",
       "950                85        1399  \n",
       "951                 0         389  \n",
       "\n",
       "[952 rows x 7 columns]"
      ]
     },
     "execution_count": 31,
     "metadata": {},
     "output_type": "execute_result"
    }
   ],
   "source": [
    "df_users_final"
   ]
  },
  {
   "cell_type": "code",
   "execution_count": 32,
   "metadata": {},
   "outputs": [],
   "source": [
    "df_users_final['label'].replace({'both': 'hybrid','fearspeech':'fear','hatespeech':'hate'}, inplace=True)"
   ]
  },
  {
   "cell_type": "code",
   "execution_count": 33,
   "metadata": {},
   "outputs": [],
   "source": [
    "df_users_final_not_normal=df_users_final[~df_users_final['label'].str.contains(\"normal\")]"
   ]
  },
  {
   "cell_type": "code",
   "execution_count": 34,
   "metadata": {},
   "outputs": [],
   "source": [
    "df_users_final_normal=df_users_final[df_users_final['label'].str.contains(\"normal\")]"
   ]
  },
  {
   "cell_type": "markdown",
   "metadata": {},
   "source": [
    "### Following frequency"
   ]
  },
  {
   "cell_type": "code",
   "execution_count": 35,
   "metadata": {},
   "outputs": [
    {
     "data": {
      "image/png": "[encoded data removed]",
      "text/plain": [
       "<Figure size 360x360 with 1 Axes>"
      ]
     },
     "metadata": {},
     "output_type": "display_data"
    }
   ],
   "source": [
    "#import seaborn as sns\n",
    "import matplotlib.pyplot as plt\n",
    "import seaborn as sns\n",
    "import matplotlib\n",
    "matplotlib.rcParams['figure.figsize'] = (5, 5)\n",
    "sns.set(context='paper',style='whitegrid',font_scale=3)\n",
    "\n",
    "# sns.set_theme(style=\"whitegrid\")\n",
    "\n",
    "# tips = sns.load_dataset(\"tips\")\n",
    "ax = sns.barplot(x=\"label\",y=\"followings_count\", data=df_users_final_not_normal, palette=['blue','orange','red'])\n",
    "#plt.show()\n",
    "path='../Results/following.pdf'\n",
    "plt.savefig(path,bbox_inches='tight',dpi=400)"
   ]
  },
  {
   "cell_type": "markdown",
   "metadata": {},
   "source": [
    "### Followers frequency"
   ]
  },
  {
   "cell_type": "code",
   "execution_count": null,
   "metadata": {},
   "outputs": [],
   "source": [
    "#import seaborn as sns\n",
    "import matplotlib.pyplot as plt\n",
    "import seaborn as sns\n",
    "import matplotlib\n",
    "matplotlib.rcParams['figure.figsize'] = (5, 5)\n",
    "sns.set(context='paper',style='whitegrid',font_scale=3)\n",
    "ax = sns.barplot(x=\"label\",y=\"followers_count\", data=df_users_final_not_normal,palette=['blue','orange','red'])\n",
    "#plt.show()\n",
    "path='../Results/followers.pdf'\n",
    "plt.savefig(path,bbox_inches='tight',dpi=400)"
   ]
  },
  {
   "cell_type": "markdown",
   "metadata": {},
   "source": [
    "### Betweenness centrality\n"
   ]
  },
  {
   "cell_type": "code",
   "execution_count": null,
   "metadata": {},
   "outputs": [],
   "source": [
    "import numpy as np\n",
    "matplotlib.rcParams['figure.figsize'] = (5, 5)\n",
    "sns.set(context='paper',style='whitegrid',font_scale=3)\n",
    "\n",
    "# sns.set_theme(style=\"whitegrid\")\n",
    "\n",
    "# tips = sns.load_dataset(\"tips\")\n",
    "ax = sns.barplot(x=\"label\",y=\"betweenness\", data=df_users_final_not_normal, palette=['blue','orange','red'])\n",
    "#plt.show()\n",
    "path='../Results/betweenness_centrality.pdf'\n",
    "plt.savefig(path,bbox_inches='tight',dpi=400)"
   ]
  },
  {
   "cell_type": "markdown",
   "metadata": {},
   "source": [
    "### Eigen Vector centrality"
   ]
  },
  {
   "cell_type": "code",
   "execution_count": null,
   "metadata": {},
   "outputs": [],
   "source": [
    "matplotlib.rcParams['figure.figsize'] = (5, 5)\n",
    "sns.set(context='paper',style='whitegrid',font_scale=3)\n",
    "\n",
    "# sns.set_theme(style=\"whitegrid\")\n",
    "\n",
    "# tips = sns.load_dataset(\"tips\")\n",
    "ax = sns.barplot(x=\"label\",y=\"eigen_vector\", data=df_users_final_not_normal, palette=['blue','orange','red'])\n",
    "#plt.show()\n",
    "path='../Results/eigen_vector_centrality.pdf'\n",
    "plt.savefig(path,bbox_inches='tight',dpi=400)"
   ]
  },
  {
   "cell_type": "code",
   "execution_count": null,
   "metadata": {},
   "outputs": [],
   "source": [
    "from numpy.random import seed\n",
    "from numpy.random import randn\n",
    "from scipy.stats import mannwhitneyu\n",
    "# seed the random number generator\n",
    "seed(1)\n",
    "# generate two independent samples\n",
    "# compare samples\n",
    "column_name='betweenness'\n",
    "treatment=list(df_users_final_not_normal[df_users_final_not_normal['label']=='hate'][column_name])\n",
    "control=list(df_users_final_not_normal[df_users_final_not_normal['label']=='fear'][column_name])\n",
    "stat, p = mannwhitneyu(treatment, control,alternative='two-sided')\n",
    "print('Statistics=%.3f, p=%.10f' % (stat, p))\n",
    "\n"
   ]
  },
  {
   "cell_type": "code",
   "execution_count": null,
   "metadata": {},
   "outputs": [],
   "source": [
    "from numpy.random import seed\n",
    "from numpy.random import randn\n",
    "from scipy.stats import mannwhitneyu\n",
    "# seed the random number generator\n",
    "seed(1)\n",
    "# generate two independent samples\n",
    "# compare samples\n",
    "column_name='eigen_vector'\n",
    "treatment=list(df_users_final_normal[df_users_final_normal['label']=='normal_both'][column_name])\n",
    "control=list(df_users_final_not_normal[df_users_final_not_normal['label']=='hybrid'][column_name])\n",
    "stat, p = mannwhitneyu(treatment, control,alternative='two-sided')\n",
    "print('Statistics=%.3f, p=%.10f' % (stat, p))\n",
    "\n"
   ]
  },
  {
   "cell_type": "code",
   "execution_count": null,
   "metadata": {},
   "outputs": [],
   "source": [
    "df_users_final_not_normal"
   ]
  },
  {
   "cell_type": "code",
   "execution_count": null,
   "metadata": {},
   "outputs": [],
   "source": [
    "months=['January','February','March','April','May','June','July','August','September','October','November','December']\n",
    "years=['2016','2017','2018']"
   ]
  },
  {
   "cell_type": "code",
   "execution_count": null,
   "metadata": {},
   "outputs": [],
   "source": [
    "columns=['user_key','label']\n",
    "for year in years:\n",
    "    for month_key,month in enumerate(months):\n",
    "        try:\n",
    "            kcores=monthwise_kcore_dict[month+year]\n",
    "        except KeyError:\n",
    "            continue\n",
    "        columns.append(str(month_key+1)+'/'+year[2:])"
   ]
  },
  {
   "cell_type": "code",
   "execution_count": null,
   "metadata": {},
   "outputs": [],
   "source": [
    "df_user_label"
   ]
  },
  {
   "cell_type": "code",
   "execution_count": null,
   "metadata": {},
   "outputs": [],
   "source": [
    "list_timeline=[]\n",
    "for index,row in tqdm_notebook(df_user_label.iterrows(),total=len(df_user_label)):\n",
    "    temp_user=[row['user_key'],row['label']]\n",
    "    for year in years:\n",
    "        for month_key,month in enumerate(months):\n",
    "            try:\n",
    "                kcores=monthwise_kcore_dict[month+year]\n",
    "            except KeyError:\n",
    "                continue\n",
    "            try:\n",
    "                temp_user.append(int(kcores[map_dict_kcore[row['user_key']]]))\n",
    "            except KeyError:\n",
    "                temp_user.append(-1)\n",
    "    list_timeline.append(temp_user)"
   ]
  },
  {
   "cell_type": "code",
   "execution_count": null,
   "metadata": {},
   "outputs": [],
   "source": [
    "df_users_timeline=pd.DataFrame(list_timeline,columns=columns)"
   ]
  },
  {
   "cell_type": "code",
   "execution_count": 2,
   "metadata": {},
   "outputs": [
    {
     "data": {
      "text/plain": [
       "normal        124491\n",
       "ambiguous      30887\n",
       "both            3432\n",
       "hatespeech      2472\n",
       "fearspeech      1595\n",
       "Name: label, dtype: int64"
      ]
     },
     "execution_count": 2,
     "metadata": {},
     "output_type": "execute_result"
    }
   ],
   "source": [
    "df_users_timeline.label.value_counts()"
   ]
  },
  {
   "cell_type": "code",
   "execution_count": null,
   "metadata": {},
   "outputs": [],
   "source": [
    "df_users_timeline.to_csv('../Results/kcore_analysis.csv',index=False)"
   ]
  },
  {
   "cell_type": "markdown",
   "metadata": {},
   "source": [
    "### K-core analysis"
   ]
  },
  {
   "cell_type": "code",
   "execution_count": 1,
   "metadata": {},
   "outputs": [],
   "source": [
    "import pandas as pd\n",
    "from tqdm import tqdm_notebook\n",
    "df_users_timeline=pd.read_csv('../Results/kcore_analysis.csv')\n",
    "df_users_timeline['freq']=1\n"
   ]
  },
  {
   "cell_type": "code",
   "execution_count": null,
   "metadata": {},
   "outputs": [],
   "source": [
    "df_users_timeline = df_users_timeline.replace([-1],99)"
   ]
  },
  {
   "cell_type": "code",
   "execution_count": null,
   "metadata": {},
   "outputs": [],
   "source": [
    "df_users_timeline"
   ]
  },
  {
   "cell_type": "code",
   "execution_count": null,
   "metadata": {},
   "outputs": [],
   "source": [
    "df_users_timeline_both=df_users_timeline[df_users_timeline['label']=='both']\n",
    "df_users_timeline_fear=df_users_timeline[df_users_timeline['label']=='fearspeech']\n",
    "df_users_timeline_hate=df_users_timeline[df_users_timeline['label']=='hatespeech']"
   ]
  },
  {
   "cell_type": "code",
   "execution_count": null,
   "metadata": {},
   "outputs": [],
   "source": [
    "months_list=list(df_users_timeline.columns)[2:-1]"
   ]
  },
  {
   "cell_type": "code",
   "execution_count": null,
   "metadata": {},
   "outputs": [],
   "source": [
    "label={}\n",
    "count=0\n",
    "for month in months_list:\n",
    "    for i in range(0,10,1):\n",
    "        label[month+'-'+str(i)]=count\n",
    "        count+=1        \n",
    "    label[month+'-'+str(99)]=count\n",
    "    count+=1"
   ]
  },
  {
   "cell_type": "code",
   "execution_count": null,
   "metadata": {},
   "outputs": [],
   "source": [
    "labels_modified=[]\n",
    "for ele in list(label.keys()):\n",
    "    if ele.split('-')[1]=='99':\n",
    "        labels_modified.append('NA')\n",
    "    else:\n",
    "        labels_modified.append(ele.split('-')[1])\n"
   ]
  },
  {
   "cell_type": "code",
   "execution_count": null,
   "metadata": {},
   "outputs": [],
   "source": [
    "sources,target,values,colours_value,dict_tuples=get_sources_target_val(df_users_timeline_both)\n",
    "fig = get_plotly_figure(sources,target,values,colours_value,labels_modified)\n",
    "fig.write_image(\"../Results/sankey_both.pdf\")"
   ]
  },
  {
   "cell_type": "code",
   "execution_count": null,
   "metadata": {},
   "outputs": [],
   "source": [
    "sources,target,values,colours_value,dict_tuples=get_sources_target_val(df_users_timeline_fear)\n",
    "fig = get_plotly_figure(sources,target,values,colours_value,labels_modified)\n",
    "fig.write_image(\"../Results/sankey_fear.pdf\")"
   ]
  },
  {
   "cell_type": "code",
   "execution_count": null,
   "metadata": {},
   "outputs": [],
   "source": [
    "sources,target,values,colours_value,dict_tuples=get_sources_target_val(df_users_timeline_hate)\n",
    "fig = get_plotly_figure(sources,target,values,colours_value,labels_modified)\n",
    "fig.write_image(\"../Results/sankey_hate.pdf\")"
   ]
  },
  {
   "cell_type": "code",
   "execution_count": null,
   "metadata": {},
   "outputs": [],
   "source": [
    "acceleration=[]\n",
    "time_to_reach=[]\n",
    "for index,row in tqdm_notebook(df_users_timeline.iterrows(),total=len(df_users_timeline)):\n",
    "    count=0\n",
    "    flag=0\n",
    "    initial=-1\n",
    "    final=-1\n",
    "    for element in list(df_users_timeline.columns)[2:-1]:\n",
    "        \n",
    "        if(row[element]==0):\n",
    "            final=row[element]\n",
    "            flag=1\n",
    "            break\n",
    "        elif(row[element]!=99):\n",
    "            count+=1\n",
    "            if(initial==-1):\n",
    "                initial=row[element]\n",
    "            \n",
    "        if(flag!=0):\n",
    "            final=row[element]\n",
    "            \n",
    "            \n",
    "        \n",
    "    if(count>0):\n",
    "         acceleration.append((initial-final)/count)\n",
    "    else:\n",
    "         acceleration.append(0)\n",
    "            \n",
    "    if(final==0):\n",
    "         time_to_reach.append(count)\n",
    "    else:\n",
    "         time_to_reach.append(-1)\n",
    "            \n",
    "    "
   ]
  },
  {
   "cell_type": "code",
   "execution_count": null,
   "metadata": {},
   "outputs": [],
   "source": [
    "df_users_timeline['time_to_reach']=time_to_reach\n",
    "df_users_timeline['velocity']=acceleration\n"
   ]
  },
  {
   "cell_type": "code",
   "execution_count": null,
   "metadata": {},
   "outputs": [],
   "source": [
    "df_users_timeline_temp=df_users_timeline[df_users_timeline['label'].isin(['both','fearspeech','hatespeech'])]\n",
    "df_users_timeline_temp=df_users_timeline_temp[df_users_timeline_temp['time_to_reach']>=0]\n",
    "df_users_timeline_temp['label'].replace({'both': 'hybrid','fearspeech':'fear','hatespeech':'hate'}, inplace=True)"
   ]
  },
  {
   "cell_type": "code",
   "execution_count": null,
   "metadata": {},
   "outputs": [],
   "source": [
    "len(df_users_timeline)"
   ]
  },
  {
   "cell_type": "code",
   "execution_count": null,
   "metadata": {},
   "outputs": [],
   "source": [
    "from numpy.random import seed\n",
    "from numpy.random import randn\n",
    "from scipy.stats import mannwhitneyu\n",
    "seed(1)\n",
    "column_name='time_to_reach'\n",
    "treatment=list(df_users_timeline_temp[(df_users_timeline_temp['label']=='fear')][column_name])\n",
    "control=list(df_users_timeline_temp[(df_users_timeline_temp['label']=='hate')][column_name])\n",
    "stat, p = mannwhitneyu(treatment, control,alternative='less')\n",
    "print('Statistics=%.3f, p=%.10f' % (stat, p))"
   ]
  },
  {
   "cell_type": "code",
   "execution_count": null,
   "metadata": {},
   "outputs": [],
   "source": [
    "np.mean(list(df_users_timeline_temp[(df_users_timeline_temp['label']=='hybrid')]['time_to_reach']))"
   ]
  },
  {
   "cell_type": "code",
   "execution_count": null,
   "metadata": {},
   "outputs": [],
   "source": [
    "#import seaborn as sns\n",
    "import matplotlib.pyplot as plt\n",
    "import seaborn as sns\n",
    "import matplotlib\n",
    "matplotlib.rcParams['figure.figsize'] = (5, 5)\n",
    "sns.set(context='paper',style='whitegrid',font_scale=3)\n",
    "ax = sns.barplot(x=\"label\",y=\"time_to_reach\", data=df_users_timeline_temp,palette=['blue','orange','red'])\n",
    "#plt.show()\n",
    "path='../Results/time_to_reach_core.pdf'\n",
    "plt.savefig(path,bbox_inches='tight',dpi=400)"
   ]
  },
  {
   "cell_type": "code",
   "execution_count": null,
   "metadata": {},
   "outputs": [],
   "source": [
    "ratio_details={0:{},1:{},2:{},3:{},4:{}}\n",
    "\n",
    "for index,row in tqdm_notebook(df_users_timeline.iterrows(),total=len(df_users_timeline)):\n",
    "    count=0\n",
    "    flag=0\n",
    "    for element in list(df_users_timeline.columns)[2:-2]:\n",
    "        if(row[element]<4):\n",
    "            try:\n",
    "                ratio_details[row[element]][element][row['label']]+=1\n",
    "            except:\n",
    "                try:\n",
    "                    ratio_details[row[element]][element][row['label']]=1\n",
    "                except KeyError:\n",
    "                    ratio_details[row[element]][element]={}\n",
    "                    ratio_details[row[element]][element][row['label']]=1\n",
    "        \n",
    "        if(row[element]!=99):\n",
    "            try:\n",
    "                ratio_details[4][element][row['label']]+=1\n",
    "            except:\n",
    "                try:\n",
    "                    ratio_details[4][element][row['label']]=1\n",
    "                except KeyError:\n",
    "                    ratio_details[4][element]={}\n",
    "                    ratio_details[4][element][row['label']]=1\n",
    "        \n",
    "    "
   ]
  },
  {
   "cell_type": "code",
   "execution_count": null,
   "metadata": {},
   "outputs": [],
   "source": [
    "timeline_ratios=[]\n",
    "\n",
    "for key in list(df_users_timeline.columns[2:-3]):\n",
    "    ratio_zero_fs = ratio_details[0][key]['fearspeech']/ratio_details[4][key]['fearspeech']\n",
    "    ratio_zero_hs = ratio_details[0][key]['hatespeech']/ratio_details[4][key]['hatespeech']\n",
    "    ratio_zero_b = ratio_details[0][key]['both']/ratio_details[4][key]['both']\n",
    "    \n",
    "#     ratio_one = ratio_details[1][key]['fearspeech']/ratio_details[1][key]['hatespeech']\n",
    "#     ratio_two = ratio_details[2][key]['fearspeech']/ratio_details[2][key]['hatespeech']\n",
    "#     ratio_three = ratio_details[3][key]['fearspeech']/ratio_details[3][key]['hatespeech']\n",
    "    \n",
    "    timeline_ratios.append([key,ratio_zero_fs, 'fear'])\n",
    "    timeline_ratios.append([key,ratio_zero_hs, 'hate'])\n",
    "    timeline_ratios.append([key,ratio_zero_b,'hybrid'])\n",
    "#     timeline_ratios.append([key,ratio_three,'Core-3'])\n",
    "    \n",
    "df_timeline_ratios=pd.DataFrame(timeline_ratios,columns=['month','ratio of #fearspeech/#hatespeech', 'label'])"
   ]
  },
  {
   "cell_type": "code",
   "execution_count": null,
   "metadata": {},
   "outputs": [],
   "source": [
    "df_timeline_ratios"
   ]
  },
  {
   "cell_type": "code",
   "execution_count": null,
   "metadata": {},
   "outputs": [],
   "source": [
    "#import seaborn as sns\n",
    "import matplotlib.pyplot as plt\n",
    "import seaborn as sns\n",
    "import matplotlib\n",
    "matplotlib.rcParams['figure.figsize'] = (15, 5)\n",
    "sns.set(context='paper',style='whitegrid',font_scale=1.5)\n",
    "\n",
    "ax = sns.lineplot(x='month',y='ratio of #fearspeech/#hatespeech',style='label',hue='label',hue_order=['fear','hate','hybrid'],palette=['red','orange','blue'], data=df_timeline_ratios,markers=True,markersize=9)\n",
    "#plt.show()\n",
    "plt.ylabel('ratio of #core-0/#total')\n",
    "path='../Results/ratio_core_users.pdf'\n",
    "plt.savefig(path,bbox_inches='tight',dpi=400)"
   ]
  },
  {
   "cell_type": "markdown",
   "metadata": {},
   "source": [
    "### Follower distribution"
   ]
  },
  {
   "cell_type": "code",
   "execution_count": null,
   "metadata": {},
   "outputs": [],
   "source": [
    "import networkx\n",
    "\n",
    "\n",
    "def get_graph_features(file):\n",
    "    map_dict={}\n",
    "    follower_dict={}\n",
    "    count=0\n",
    "    with open(file) as fp:\n",
    "        dict_follower_followship=json.load(fp)\n",
    "\n",
    "    for user_key in tqdm_notebook(dict_follower_followship.keys()):\n",
    "        try:\n",
    "            temp=map_dict[user_key]\n",
    "        except KeyError:\n",
    "            map_dict[user_key]=count\n",
    "            count+=1\n",
    "\n",
    "\n",
    "\n",
    "        for user_follower in dict_follower_followship[user_key]['follower']:\n",
    "            try:\n",
    "                temp=map_dict[user_follower]\n",
    "            except KeyError:\n",
    "                map_dict[user_follower]=count\n",
    "                count+=1\n",
    "\n",
    "            try:\n",
    "                follower_dict[map_dict[user_key]][map_dict[user_follower]]=1\n",
    "            except KeyError:\n",
    "                follower_dict[map_dict[user_key]]={}\n",
    "                follower_dict[map_dict[user_key]][map_dict[user_follower]]=1\n",
    "\n",
    "    reverse_map_dict={value:key for key,value in map_dict.items()}\n",
    "\n",
    "    G = networkx.DiGraph()\n",
    "    for user_key in follower_dict.keys():\n",
    "        for follower_key in follower_dict[user_key].keys():\n",
    "            G.add_edge(user_key, follower_key)\n",
    "            \n",
    "    return G, map_dict, reverse_map_dict\n",
    "\n"
   ]
  },
  {
   "cell_type": "code",
   "execution_count": null,
   "metadata": {},
   "outputs": [],
   "source": [
    "months=['January','February','March','April','May','June','July','August','September','October','November','December']\n",
    "years=['2016','2017','2018']\n",
    "list_users_follower_distribution=[]\n",
    "for year in years:\n",
    "    for month_key,month in enumerate(months):\n",
    "        name=month+year\n",
    "        file='../../../../GAB_data/FollowersFollowing/Follow_Following_'+month+year+'.json'\n",
    "        try:\n",
    "            follower_dict={}\n",
    "            with open(file) as fp:\n",
    "                dict_follower_followship=json.load(fp)\n",
    "        except: \n",
    "            print(\"tte\")\n",
    "            continue\n",
    "        G, map_dict, reverse_map_dict=get_graph_features(file)\n",
    "        \n",
    "        \n",
    "        for index,row in tqdm_notebook(df_user_label.iterrows(),total=len(df_user_label)):\n",
    "            fear=0\n",
    "            both=0\n",
    "            normal=0\n",
    "            total=0\n",
    "            if(row['label']=='ambiguous'):\n",
    "                continue\n",
    "                \n",
    "            try:\n",
    "                succesors=list(G.successors(map_dict[row['user_key']]))\n",
    "                for suc in succesors:\n",
    "                    user_suc_name=reverse_map_dict[suc]\n",
    "                    try:\n",
    "                        temp=fearspeech_users_dict[user_suc_name]\n",
    "                        fear+=1\n",
    "                        total+=1\n",
    "\n",
    "                    except KeyError:\n",
    "                        pass\n",
    "\n",
    "\n",
    "                    try:\n",
    "                        temp=both_users_dict[user_suc_name]\n",
    "                        both+=1\n",
    "                        total+=1\n",
    "\n",
    "                    except KeyError:\n",
    "                        pass\n",
    "\n",
    "\n",
    "                    try:\n",
    "                        temp=hatespeech_users_dict[user_suc_name]\n",
    "                        hate+=1\n",
    "                        total+=1\n",
    "\n",
    "                    except KeyError:\n",
    "                        pass\n",
    "\n",
    "\n",
    "                    try:\n",
    "                        temp=all_normal_dict[user_suc_name]\n",
    "                        normal+=1\n",
    "                        total+=1\n",
    "\n",
    "                    except KeyError:\n",
    "                        pass\n",
    "\n",
    "\n",
    "            except (nx.NetworkXError, KeyError) as e:\n",
    "                pass\n",
    "            if(total>0):\n",
    "                date_key=str(month_key+1)+'/'+year[2:]\n",
    "                list_users_follower_distribution.append([row['user_key'],date_key,row['label'],'normal',normal/total])\n",
    "                "
   ]
  },
  {
   "cell_type": "code",
   "execution_count": null,
   "metadata": {},
   "outputs": [],
   "source": [
    "df_follower_dist=pd.DataFrame(list_users_follower_distribution,columns=['user','month-year','label','follower_label','ratio'])"
   ]
  },
  {
   "cell_type": "code",
   "execution_count": null,
   "metadata": {},
   "outputs": [],
   "source": [
    "df_follower_dist['label'].replace({'both': 'hybrid','fearspeech':'fear','hatespeech':'hate'}, inplace=True)"
   ]
  },
  {
   "cell_type": "code",
   "execution_count": null,
   "metadata": {},
   "outputs": [],
   "source": [
    "df_follower_dist"
   ]
  },
  {
   "cell_type": "code",
   "execution_count": null,
   "metadata": {},
   "outputs": [],
   "source": [
    "import matplotlib\n",
    "matplotlib.rcParams['figure.figsize'] = (15, 5)\n",
    "\n",
    "sns.set(context='paper',style='whitegrid',font_scale=1.5, rc={\"lines.linewidth\": 2.0,\"lines.markersize\": 10})\n",
    "sns.lineplot(x='month-year',y='ratio', data=df_follower_dist,hue='label',hue_order=['fear','hate','normal','hybrid'],palette=['red','orange','green','blue'],markers=True)\n",
    "plt.xlabel(\"Time\")\n",
    "plt.ylabel(\"ratio of normal followers\")\n",
    "path='../Results/followers_temporal.pdf'\n",
    "plt.savefig(path,bbox_inches='tight',dpi=400)\n",
    "plt.show()    "
   ]
  },
  {
   "cell_type": "code",
   "execution_count": null,
   "metadata": {},
   "outputs": [],
   "source": []
  },
  {
   "cell_type": "code",
   "execution_count": null,
   "metadata": {},
   "outputs": [],
   "source": [
    "from numpy.random import seed\n",
    "from numpy.random import randn\n",
    "from scipy.stats import mannwhitneyu\n",
    "# seed the random number generator\n",
    "seed(1)\n",
    "# generate two independent samples\n",
    "# compare samples\n",
    "column_name='ratio'\n",
    "treatment=list(df_follower_dist[(df_follower_dist['label']=='fear') & (df_follower_dist['follower_label']=='normal')][column_name])\n",
    "control=list(df_follower_dist[(df_follower_dist['label']=='hybrid') & (df_follower_dist['follower_label']=='normal')][column_name])\n",
    "stat, p = mannwhitneyu(treatment, control,alternative='greater')\n",
    "print('Statistics=%.3f, p=%.20f' % (stat, p))\n",
    "\n"
   ]
  },
  {
   "cell_type": "code",
   "execution_count": null,
   "metadata": {},
   "outputs": [],
   "source": [
    "fearspeech_users_dict={row['user_key']:1 for index,row in df_users_timeline_fear.iterrows()}\n",
    "hatespeech_users_dict={row['user_key']:1 for index,row in df_users_timeline_hate.iterrows()}\n",
    "both_users_dict={row['user_key']:1 for index,row in df_users_timeline_both.iterrows()}\n"
   ]
  },
  {
   "cell_type": "code",
   "execution_count": null,
   "metadata": {},
   "outputs": [],
   "source": [
    "len(both_users_dict)"
   ]
  },
  {
   "cell_type": "markdown",
   "metadata": {},
   "source": [
    "## Interaction network"
   ]
  },
  {
   "cell_type": "code",
   "execution_count": null,
   "metadata": {},
   "outputs": [],
   "source": [
    "with open('../Networks/interaction_network_per_month.json', 'rb') as fp:\n",
    "    interaction_data = pickle.load(fp)\n"
   ]
  },
  {
   "cell_type": "code",
   "execution_count": null,
   "metadata": {},
   "outputs": [],
   "source": [
    "interaction_dict={}\n",
    "\n",
    "for month_year in tqdm_notebook(interaction_data.keys()):\n",
    "    user_data=interaction_data[month_year]\n",
    "    for key in user_data.keys():\n",
    "        try:\n",
    "            interaction_dict[key[0]][key[1]]+=user_data[key]['replies']\n",
    "        except KeyError:\n",
    "            try:\n",
    "                interaction_dict[key[0]][key[1]]=user_data[key]['replies']\n",
    "            except KeyError:\n",
    "                interaction_dict[key[0]]={}\n",
    "                interaction_dict[key[0]][key[1]]=user_data[key]['replies']\n",
    "            "
   ]
  },
  {
   "cell_type": "code",
   "execution_count": null,
   "metadata": {},
   "outputs": [],
   "source": [
    "user_data[key]"
   ]
  },
  {
   "cell_type": "code",
   "execution_count": null,
   "metadata": {},
   "outputs": [],
   "source": [
    "import networkx\n",
    "G = networkx.DiGraph()\n",
    "for user_key in tqdm_notebook(interaction_dict.keys()):\n",
    "    \n",
    "    for inter_user_key in interaction_dict[user_key].keys():\n",
    "        \n",
    "        if(user_key==inter_user_key):\n",
    "            continue\n",
    "        \n",
    "        if(interaction_dict[user_key][inter_user_key]>0):\n",
    "            G.add_edge(inter_user_key,user_key,weight=interaction_dict[user_key][inter_user_key])\n"
   ]
  },
  {
   "cell_type": "code",
   "execution_count": null,
   "metadata": {},
   "outputs": [],
   "source": [
    "list_users_repost_distribution=[]\n",
    "\n",
    "for index,row in tqdm_notebook(df_user_label.iterrows(),total=len(df_user_label)):\n",
    "    \n",
    "    fear=0\n",
    "    hate=0\n",
    "    normal=0\n",
    "    both=0\n",
    "    total_fear=0\n",
    "    total_both=0\n",
    "    total_normal=0\n",
    "    total_hate=0\n",
    "    total=0\n",
    "    \n",
    "    if('normal' in row['label']):\n",
    "        row['label']='normal'\n",
    "    \n",
    "    \n",
    "    if(row['label']=='ambiguous'):\n",
    "        continue\n",
    "    if(row['label']=='fearspeech'):\n",
    "        row['label']='fear'\n",
    "    if(row['label']=='hatespeech'):\n",
    "        row['label']='hate'\n",
    "    if(row['label']=='both'):\n",
    "        row['label']='hybrid'\n",
    "    \n",
    "    try:\n",
    "        succesors=list(G.successors(row['user_key']))\n",
    "        for user_suc_name in succesors:\n",
    "            weight=G[row['user_key']][user_suc_name][\"weight\"]\n",
    "            \n",
    "            \n",
    "            \n",
    "            try:\n",
    "                temp=fearspeech_users_dict[user_suc_name]\n",
    "                fear+=weight\n",
    "                total_fear+=1\n",
    "                total+=1\n",
    "            except KeyError:\n",
    "                pass\n",
    "            \n",
    "            \n",
    "            try:\n",
    "                temp=both_users_dict[user_suc_name]\n",
    "                both+=weight\n",
    "                total_both+=1\n",
    "                total+=1\n",
    "            except KeyError:\n",
    "                pass\n",
    "            \n",
    "            \n",
    "            try:\n",
    "                temp=hatespeech_users_dict[user_suc_name]\n",
    "                hate+=weight\n",
    "                total_hate+=1\n",
    "                total+=1    \n",
    "            except KeyError:\n",
    "                pass\n",
    "            \n",
    "            \n",
    "            try:\n",
    "                temp=all_normal_dict[user_suc_name]\n",
    "                normal+=weight\n",
    "                total_normal+=1\n",
    "                total+=1\n",
    "            except KeyError:\n",
    "                pass\n",
    "            \n",
    "    \n",
    "    except (nx.NetworkXError, KeyError) as e:\n",
    "        pass\n",
    "    \n",
    "    \n",
    "    if(total_fear>0):\n",
    "        list_users_repost_distribution.append([row['user_key'],row['label'],'fear',fear])\n",
    "    if(total_hate>0):\n",
    "        list_users_repost_distribution.append([row['user_key'],row['label'],'hate',hate])\n",
    "    if(total_normal>0):\n",
    "        list_users_repost_distribution.append([row['user_key'],row['label'],'normal',normal])\n",
    "    if(total_both>0):\n",
    "        list_users_repost_distribution.append([row['user_key'],row['label'],'hybrid',both])\n",
    "                                                 \n",
    "                                                 \n",
    "    \n",
    "        "
   ]
  },
  {
   "cell_type": "code",
   "execution_count": null,
   "metadata": {},
   "outputs": [],
   "source": [
    "df_repost_dist=pd.DataFrame(list_users_repost_distribution,columns=['user','label','repost_label','average'])"
   ]
  },
  {
   "cell_type": "code",
   "execution_count": null,
   "metadata": {},
   "outputs": [],
   "source": [
    "df_repost_dist.head(5)"
   ]
  },
  {
   "cell_type": "code",
   "execution_count": null,
   "metadata": {},
   "outputs": [],
   "source": [
    "edge_list={}\n",
    "\n",
    "for label1 in list(df_repost_dist['label'].unique()):\n",
    "    nodes_dict={'nodes':[],'weight':[]}\n",
    "    num_total=df_repost_dist[(df_repost_dist['label']==label1)]['average'].sum()\n",
    "    for label2 in list(df_repost_dist['label'].unique()):\n",
    "        num=df_repost_dist[(df_repost_dist['label']==label1) & (df_repost_dist['repost_label']==label2)]['average'].sum()\n",
    "        nodes_dict['nodes'].append(label2)\n",
    "        nodes_dict['weight'].append(100*num/num_total)\n",
    "        \n",
    "    edge_list[label1]=nodes_dict\n",
    "        "
   ]
  },
  {
   "cell_type": "code",
   "execution_count": null,
   "metadata": {},
   "outputs": [],
   "source": [
    "import matplotlib.pyplot as plt\n",
    "import seaborn as sns\n",
    "import matplotlib.gridspec as gridspec\n",
    "matplotlib.rcParams['figure.figsize'] = (15, 5)\n",
    "\n",
    "# data = [15, 25, 25, 30, 5]\n",
    "# labels = ['Group 1', 'Group 2', 'Group 3', 'Group 4', 'Group 5']\n",
    "\n",
    "#define Seaborn color palette to use\n",
    "#colors = sns.color_palette('pastel')[0:4]\n",
    "colors = sns.color_palette('pastel')[0:4]\n",
    "\n",
    "# Create 2x2 sub plots\n",
    "gs = gridspec.GridSpec(1, 4,wspace=0.2)\n",
    "ax = plt.subplot(gs[0, 0]) # row 0, col 0\n",
    "plt.pie(edge_list['fear']['weight'], labels = edge_list['fear']['nodes'], colors = colors_m, autopct='%.0f%%',textprops=dict(color=\"w\"))\n",
    "plt.title('fear users')\n",
    "\n",
    "\n",
    "ax = plt.subplot(gs[0, 1]) # row 0, col 1\n",
    "plt.pie(edge_list['hate']['weight'], labels = edge_list['hate']['nodes'], colors = colors_m, autopct='%.0f%%',textprops=dict(color=\"w\"))\n",
    "plt.title('hate users')\n",
    "\n",
    "\n",
    "ax = plt.subplot(gs[0, 2]) # row 0, col 1\n",
    "plt.pie(edge_list['hybrid']['weight'], labels = edge_list['hybrid']['nodes'], colors = colors_m, autopct='%.0f%%',textprops=dict(color=\"w\"))\n",
    "plt.title('hybrid users')\n",
    "\n",
    "ax = plt.subplot(gs[0, 3]) # row 0, col 1\n",
    "plt.pie(edge_list['normal']['weight'], labels = edge_list['normal']['nodes'], colors = colors_m, autopct='%.0f%%',textprops=dict(color=\"w\"))\n",
    "plt.title('normal users')\n",
    "\n",
    "\n",
    "plt.legend(loc='right',bbox_to_anchor=(1.7, 0.5))\n",
    "path='../Results/replies_distribution.pdf'\n",
    "plt.savefig(path,bbox_inches='tight',dpi=400)\n"
   ]
  },
  {
   "cell_type": "code",
   "execution_count": null,
   "metadata": {},
   "outputs": [],
   "source": [
    "colors_m=['green','blue','orange','red']"
   ]
  },
  {
   "cell_type": "code",
   "execution_count": null,
   "metadata": {},
   "outputs": [],
   "source": [
    "df_repost_dist[(df_repost_dist['label']=='fearspeech') & (df_repost_dist['repost_label']=='fear')]"
   ]
  },
  {
   "cell_type": "code",
   "execution_count": null,
   "metadata": {},
   "outputs": [],
   "source": [
    "df_users_final_not_normal.label.value_counts()"
   ]
  },
  {
   "cell_type": "markdown",
   "metadata": {},
   "source": [
    "### Hybrid Users"
   ]
  },
  {
   "cell_type": "code",
   "execution_count": null,
   "metadata": {},
   "outputs": [],
   "source": [
    "threshold={'hatespeech':0.9,'fearspeech':0.7,'normal':0.7}\n",
    "dict_labels={'hatespeech':2,'fearspeech':1,'normal':0}\n",
    "reverse_dict_labels={dict_labels[key]:key for key in dict_labels.keys()}"
   ]
  },
  {
   "cell_type": "code",
   "execution_count": null,
   "metadata": {},
   "outputs": [],
   "source": [
    "df_user_label=pd.read_csv('../Results/user_labelling.csv')\n",
    "\n",
    "all_hybrid_dict={key:1 for key in list(df_user_label[df_user_label['label']=='both']['user_key'])}\n"
   ]
  },
  {
   "cell_type": "code",
   "execution_count": null,
   "metadata": {},
   "outputs": [],
   "source": [
    "from datetime import datetime\n"
   ]
  },
  {
   "cell_type": "code",
   "execution_count": null,
   "metadata": {},
   "outputs": [],
   "source": [
    "dict_users={}\n",
    "files = sorted(glob.glob('../../Gab_Data/new_features_old_gab/gab_fear_hate_features*.pickle'))\n",
    "\n",
    "dict_users_ambi={}\n",
    "\n",
    "for file in tqdm_notebook(files,total=len(files)):\n",
    "    \n",
    "    \n",
    "    \n",
    "    with open(file, 'rb') as handle:\n",
    "        Gab_keyword_match = pickle.load(handle)\n",
    "        \n",
    "    if('predicted_probab' not in Gab_keyword_match[1].keys()):\n",
    "        continue\n",
    "    for element in Gab_keyword_match:\n",
    "        \n",
    "        try:\n",
    "            dt = datetime.fromisoformat(element['post_create_time'])\n",
    "            key_new=str(dt.month)+'/'+str(dt.year)\n",
    "        except KeyError:\n",
    "            continue\n",
    "\n",
    "        \n",
    "        try:\n",
    "            temp=all_hybrid_dict[element['username']]\n",
    "        except KeyError:\n",
    "            continue\n",
    "            \n",
    "            \n",
    "            \n",
    "        labels=[]\n",
    "        for i in range(len(element['predicted_probab'])):\n",
    "            if(element['predicted_probab'][i]>threshold[reverse_dict_labels[i]]):\n",
    "                labels.append(reverse_dict_labels[i])\n",
    "        \n",
    "        if('fearspeech' in labels):\n",
    "            try:\n",
    "                dict_users[key_new][element['username']]['fearspeech']+=1\n",
    "            except KeyError:\n",
    "                try:\n",
    "                   dict_users[key_new][element['username']]['fearspeech']=1\n",
    "                except KeyError:\n",
    "                    try:\n",
    "                           dict_users[key_new][element['username']]={}\n",
    "                           dict_users[key_new][element['username']]['fearspeech']=1\n",
    "                    except KeyError:\n",
    "                           dict_users[key_new]={}\n",
    "                           dict_users[key_new][element['username']]={}\n",
    "                           dict_users[key_new][element['username']]['fearspeech']=1\n",
    "        if('hatespeech' in labels):\n",
    "            try:\n",
    "                dict_users[key_new][element['username']]['hatespeech']+=1\n",
    "            except KeyError:\n",
    "                try:\n",
    "                   dict_users[key_new][element['username']]['hatespeech']=1\n",
    "                except KeyError:\n",
    "                    try:\n",
    "                           dict_users[key_new][element['username']]={}\n",
    "                           dict_users[key_new][element['username']]['hatespeech']=1\n",
    "                    except KeyError:\n",
    "                           dict_users[key_new]={}\n",
    "                           dict_users[key_new][element['username']]={}\n",
    "                           dict_users[key_new][element['username']]['hatespeech']=1\n",
    "                           \n",
    "           \n",
    "        "
   ]
  },
  {
   "cell_type": "code",
   "execution_count": null,
   "metadata": {},
   "outputs": [],
   "source": [
    "month_year=[]\n",
    "for year in ['2016','2017','2018']:\n",
    "    for i in range(1,13):\n",
    "        month_year.append(str(i)+'/'+year)"
   ]
  },
  {
   "cell_type": "code",
   "execution_count": null,
   "metadata": {},
   "outputs": [],
   "source": [
    "list_month_wise=[]\n",
    "\n",
    "\n",
    "for month_key in month_year:\n",
    "    try:\n",
    "        temp=dict_users[month_key]\n",
    "    except KeyError:\n",
    "        continue\n",
    "        \n",
    "    fearspeech=0\n",
    "    hatespeech=0\n",
    "    \n",
    "    for key in dict_users[month_key]:\n",
    "        try:\n",
    "            fearspeech+=dict_users[month_key][key]['fearspeech']\n",
    "        except KeyError:\n",
    "            pass\n",
    "        \n",
    "        try:\n",
    "            hatespeech+=dict_users[month_key][key]['hatespeech']\n",
    "        except KeyError:\n",
    "            pass\n",
    "\n",
    "        \n",
    "    \n",
    "    list_month_wise.append([month_key,fearspeech,hatespeech])\n",
    "    \n",
    "        "
   ]
  },
  {
   "cell_type": "code",
   "execution_count": null,
   "metadata": {},
   "outputs": [],
   "source": [
    "df=pd.DataFrame(list_month_wise,columns=['month_year','fearspeech','hatespeech'])"
   ]
  },
  {
   "cell_type": "code",
   "execution_count": null,
   "metadata": {},
   "outputs": [],
   "source": [
    "df=df.set_index('month_year')\n",
    "df.head(5)"
   ]
  },
  {
   "cell_type": "code",
   "execution_count": null,
   "metadata": {},
   "outputs": [],
   "source": [
    "df_normalise=df.div(df.sum(axis=1), axis=0)"
   ]
  },
  {
   "cell_type": "code",
   "execution_count": null,
   "metadata": {},
   "outputs": [],
   "source": [
    "import pandas as pd\n",
    "import seaborn as sns\n",
    "import matplotlib.pyplot as plt\n",
    "matplotlib.rcParams['figure.figsize'] = (5, 5)\n",
    "sns.set(context='paper',style='whitegrid',font_scale=1.5)\n",
    "df_normalise.plot(kind='bar', stacked=True, color=['red','orange'])\n",
    "plt.legend(loc='center left', bbox_to_anchor=(1.0, 0.5))\n",
    "path='../Results/temporal_hybrid.pdf'\n",
    "plt.savefig(path,bbox_inches='tight',dpi=400)"
   ]
  },
  {
   "cell_type": "code",
   "execution_count": null,
   "metadata": {},
   "outputs": [],
   "source": []
  },
  {
   "cell_type": "code",
   "execution_count": null,
   "metadata": {},
   "outputs": [],
   "source": []
  },
  {
   "cell_type": "code",
   "execution_count": null,
   "metadata": {},
   "outputs": [],
   "source": []
  },
  {
   "cell_type": "code",
   "execution_count": null,
   "metadata": {},
   "outputs": [],
   "source": []
  },
  {
   "cell_type": "code",
   "execution_count": 4,
   "metadata": {},
   "outputs": [],
   "source": [
    "import graphistry, pandas as pd"
   ]
  },
  {
   "cell_type": "code",
   "execution_count": 8,
   "metadata": {},
   "outputs": [],
   "source": [
    "graphistry.register(api=3, username='punyajoy', password='graphcnerghate', protocol='https', server='hub.graphistry.com')\n"
   ]
  },
  {
   "cell_type": "code",
   "execution_count": 9,
   "metadata": {},
   "outputs": [],
   "source": [
    "g = graphistry.edges(pd.DataFrame({\n",
    "    's': ['a', 'b', 'c'],\n",
    "    'd': ['b', 'c', 'a'],\n",
    "    'v': [1, 1, 2]\n",
    "}), 's', 'd')\n",
    "\n",
    "g = g.settings(url_params={'play': 0})"
   ]
  },
  {
   "cell_type": "code",
   "execution_count": 10,
   "metadata": {},
   "outputs": [],
   "source": [
    "public_url = g.plot(render=False)"
   ]
  },
  {
   "cell_type": "code",
   "execution_count": 11,
   "metadata": {},
   "outputs": [
    {
     "data": {
      "text/plain": [
       "'https://hub.graphistry.com/graph/graph.html?dataset=c4adc3ab1e204a2ba72e98b9530578c4&type=arrow&viztoken=5c656055-2eab-490a-8167-36d5d163e1ec&usertag=3efda1f4-pygraphistry-0.20.5&splashAfter=1646795662&info=true&play=0'"
      ]
     },
     "execution_count": 11,
     "metadata": {},
     "output_type": "execute_result"
    }
   ],
   "source": [
    "public_url"
   ]
  },
  {
   "cell_type": "code",
   "execution_count": 13,
   "metadata": {},
   "outputs": [],
   "source": [
    "import datetime, pandas as pd\n",
    "e_df = pd.DataFrame({\n",
    "    's': ['a', 'b', 'c', 'a', 'd', 'e'],\n",
    "    'd': ['b', 'c', 'a', 'c', 'e', 'd'],\n",
    "    'time': [datetime.datetime(1987, 10, 1), datetime.datetime(1987, 10, 2), datetime.datetime(1987, 10, 3),\n",
    "          datetime.datetime(1988, 10, 1), datetime.datetime(1988, 10, 2), datetime.datetime(1988, 10, 3)]\n",
    "})\n",
    "n_df = pd.DataFrame({\n",
    "    'n': ['a', 'b', 'c', 'd', 'e'],\n",
    "    'score': [ 0, 30, 50, 70, 90 ],\n",
    "    'palette_color_int32': pd.Series(\n",
    "        [0, 1, 2, 3, 4],\n",
    "        dtype='int32'),\n",
    "    'hex_color_int64': pd.Series(\n",
    "        [0xFF000000, 0xFFFF0000, 0xFFFFFF00, 0x00FF0000, 0x0000FF00],\n",
    "        dtype='int64'),\n",
    "    'type': ['mac', 'macbook', 'mac', 'macbook', 'sheep']\n",
    "})\n",
    "g = graphistry.edges(e_df, 's', 'd').nodes(n_df, 'n')"
   ]
  },
  {
   "cell_type": "code",
   "execution_count": 14,
   "metadata": {},
   "outputs": [
    {
     "data": {
      "text/plain": [
       "{'bindings': {'edges':    s  d       time\n",
       "  0  a  b 1987-10-01\n",
       "  1  b  c 1987-10-02\n",
       "  2  c  a 1987-10-03\n",
       "  3  a  c 1988-10-01\n",
       "  4  d  e 1988-10-02\n",
       "  5  e  d 1988-10-03,\n",
       "  'nodes':    n  score  palette_color_int32  hex_color_int64     type\n",
       "  0  a      0                    0       4278190080      mac\n",
       "  1  b     30                    1       4294901760  macbook\n",
       "  2  c     50                    2       4294967040      mac\n",
       "  3  d     70                    3         16711680  macbook\n",
       "  4  e     90                    4            65280    sheep,\n",
       "  'source': 's',\n",
       "  'destination': 'd',\n",
       "  'node': 'n',\n",
       "  'edge_label': None,\n",
       "  'edge_color': None,\n",
       "  'edge_size': None,\n",
       "  'edge_weight': None,\n",
       "  'edge_title': None,\n",
       "  'edge_icon': None,\n",
       "  'edge_opacity': None,\n",
       "  'edge_source_color': None,\n",
       "  'edge_destination_color': None,\n",
       "  'point_label': None,\n",
       "  'point_color': None,\n",
       "  'point_size': None,\n",
       "  'point_weight': None,\n",
       "  'point_title': None,\n",
       "  'point_icon': None,\n",
       "  'point_opacity': None,\n",
       "  'point_x': None,\n",
       "  'point_y': None},\n",
       " 'settings': {'height': 500, 'url_params': {'info': 'true'}}}"
      ]
     },
     "execution_count": 14,
     "metadata": {},
     "output_type": "execute_result"
    }
   ],
   "source": [
    "g"
   ]
  },
  {
   "cell_type": "code",
   "execution_count": null,
   "metadata": {},
   "outputs": [],
   "source": [
    "map_dict={}\n",
    "follower_dict={}\n",
    "count=0\n",
    "with open(file) as fp:\n",
    "    dict_follower_followship=json.load(fp)\n",
    "\n",
    "for user_key in tqdm_notebook(dict_follower_followship.keys()):\n",
    "    try:\n",
    "        temp=map_dict[user_key]\n",
    "    except KeyError:\n",
    "        map_dict[user_key]=count\n",
    "        count+=1\n",
    "\n",
    "\n",
    "\n",
    "    for user_follower in dict_follower_followship[user_key]['follower']:\n",
    "        try:\n",
    "            temp=map_dict[user_follower]\n",
    "        except KeyError:\n",
    "            map_dict[user_follower]=count\n",
    "            count+=1\n",
    "\n",
    "        try:\n",
    "            follower_dict[map_dict[user_key]][map_dict[user_follower]]=1\n",
    "        except KeyError:\n",
    "            follower_dict[map_dict[user_key]]={}\n",
    "            follower_dict[map_dict[user_key]][map_dict[user_follower]]=1\n",
    "\n",
    "reverse_map_dict={value:key for key,value in map_dict.items()}\n",
    "\n",
    "G = nx.DiGraph()\n",
    "for user_key in follower_dict.keys():\n",
    "    for follower_key in follower_dict[user_key].keys():\n",
    "        G.add_edge(user_key, follower_key)\n",
    "\n",
    "return G, map_dict, reverse_map_dict\n"
   ]
  }
 ],
 "metadata": {
  "kernelspec": {
   "display_name": "Python [conda env:.conda-punyajoy_gpu] *",
   "language": "python",
   "name": "conda-env-.conda-punyajoy_gpu-py"
  },
  "language_info": {
   "codemirror_mode": {
    "name": "ipython",
    "version": 3
   },
   "file_extension": ".py",
   "mimetype": "text/x-python",
   "name": "python",
   "nbconvert_exporter": "python",
   "pygments_lexer": "ipython3",
   "version": "3.8.5"
  }
 },
 "nbformat": 4,
 "nbformat_minor": 4
}
