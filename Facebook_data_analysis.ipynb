{
 "cells": [
  {
   "cell_type": "code",
   "execution_count": 1,
   "metadata": {},
   "outputs": [],
   "source": [
    "from tqdm import tqdm_notebook\n",
    "import pandas as pd\n",
    "import seaborn as sns\n",
    "import json\n",
    "import matplotlib.pyplot as plt\n",
    "import pickle5 as pickle\n",
    "from glob import glob\n",
    "from datetime import datetime\n",
    "import re\n",
    "import numpy as np\n",
    "from matplotlib.colors import ListedColormap\n",
    "from scipy.stats import mannwhitneyu\n"
   ]
  },
  {
   "cell_type": "code",
   "execution_count": 2,
   "metadata": {},
   "outputs": [],
   "source": [
    "threshold={'hatespeech':0.9,'fearspeech':0.7,'normal':0.7}\n",
    "dict_labels={'hatespeech':2,'fearspeech':1,'normal':0}\n",
    "reverse_dict_labels={dict_labels[key]:key for key in dict_labels.keys()}"
   ]
  },
  {
   "cell_type": "code",
   "execution_count": 3,
   "metadata": {},
   "outputs": [],
   "source": [
    "import re\n",
    "import urllib.parse as urlparse\n",
    "import emoji\n",
    "\n",
    "\n",
    "GENERIC_TLDS = [\n",
    "    'aero', 'asia', 'biz', 'com', 'coop', 'edu', 'gov', 'info', 'int', 'jobs', \n",
    "    'mil', 'mobi', 'museum', 'name', 'net', 'org', 'pro', 'tel', 'travel', 'cat'\n",
    "    ]\n",
    "\n",
    "def extract_emojis(line):\n",
    "    return [c for c in line if c in emoji.UNICODE_EMOJI['en']]\n",
    "\n",
    "def return_meta_info(element):\n",
    "    dict_meta_info={}\n",
    "    dict_meta_info['id']=element['id']\n",
    "    dict_meta_info['reposts']=element['repost_count']\n",
    "    dict_meta_info['replies']=element['reply_count']\n",
    "    dict_meta_info['like_count']=element['like_count']\n",
    "    return dict_meta_info\n",
    "\n",
    "\n",
    "def get_domain(url):\n",
    "    hostname = urlparse.urlparse(url.lower()).netloc\n",
    "    if hostname == '':\n",
    "        # Force the recognition as a full URL\n",
    "        hostname = urlparse.urlparse('http://' + url).netloc\n",
    "\n",
    "    # Remove the 'user:passw', 'www.' and ':port' parts\n",
    "    hostname = hostname.split('@')[-1].split(':')[0].lstrip('www.').split('.')\n",
    "\n",
    "    num_parts = len(hostname)\n",
    "    if (num_parts < 3) or (len(hostname[-1]) > 2):\n",
    "        return '.'.join(hostname[:-1])\n",
    "    if len(hostname[-2]) > 2 and hostname[-2] not in GENERIC_TLDS:\n",
    "        return '.'.join(hostname[:-1])\n",
    "    if num_parts >= 3:\n",
    "        return '.'.join(hostname[:-2])\n",
    "\n",
    "\n",
    "\n",
    "def return_text_info(element):\n",
    "    temp=element['post_body']\n",
    "    all_emojis=extract_emojis(temp)\n",
    "    #all_urls= re.findall('(?:(?:https?|ftp):\\/\\/)?[\\w/\\-?=%.]+\\.[\\w/\\-&?=%.]+', temp)\n",
    "    all_urls = re.findall('https?://(?:[-\\w.]|(?:%[\\da-fA-F]{2}))+', temp)\n",
    "    all_hashtags=re.findall(r\"#(\\w+)\", temp)\n",
    "    \n",
    "    dict_text_info={\n",
    "        'num_hashtags':len(all_hashtags),\n",
    "        'num_urls':len(all_urls),\n",
    "        'num_emojis':len(all_emojis)\n",
    "    }\n",
    "    \n",
    "    \n",
    "    emoji_dict={}\n",
    "    url_dict={}\n",
    "    hashtag_dict={}\n",
    "    \n",
    "    for emoji in all_emojis:\n",
    "        try:\n",
    "            emoji_dict[emoji]+=1\n",
    "        except KeyError:\n",
    "            emoji_dict[emoji]=1\n",
    "            \n",
    "    for hashtag in all_hashtags:\n",
    "        try:\n",
    "            hashtag_dict[hashtag]+=1\n",
    "        except KeyError:\n",
    "            hashtag_dict[hashtag]=1\n",
    "    for url in all_urls:\n",
    "        try:\n",
    "            url_dict[get_domain(url)]+=1\n",
    "        except KeyError:\n",
    "            url_dict[get_domain(url)]=1\n",
    "        \n",
    "\n",
    "    return dict_text_info,emoji_dict,url_dict,hashtag_dict"
   ]
  },
  {
   "cell_type": "code",
   "execution_count": 4,
   "metadata": {},
   "outputs": [
    {
     "name": "stderr",
     "output_type": "stream",
     "text": [
      "<ipython-input-4-4f4e5ca35914>:10: FutureWarning: The error_bad_lines argument has been deprecated and will be removed in a future version. Use on_bad_lines in the future.\n",
      "\n",
      "\n",
      "  df=pd.read_csv(file,error_bad_lines=False,lineterminator='\\n')\n",
      "<ipython-input-4-4f4e5ca35914>:10: DtypeWarning: Columns (39) have mixed types. Specify dtype option on import or set low_memory=False.\n",
      "  df=pd.read_csv(file,error_bad_lines=False,lineterminator='\\n')\n",
      "<ipython-input-4-4f4e5ca35914>:10: FutureWarning: The error_bad_lines argument has been deprecated and will be removed in a future version. Use on_bad_lines in the future.\n",
      "\n",
      "\n",
      "  df=pd.read_csv(file,error_bad_lines=False,lineterminator='\\n')\n",
      "<ipython-input-4-4f4e5ca35914>:10: DtypeWarning: Columns (37,38,39) have mixed types. Specify dtype option on import or set low_memory=False.\n",
      "  df=pd.read_csv(file,error_bad_lines=False,lineterminator='\\n')\n"
     ]
    }
   ],
   "source": [
    "import glob \n",
    "import pandas as pd\n",
    "\n",
    "str_path='../../../../NewHd/Punyajoy_folders/works_2021/Fearspeech_Additional/Facebook_Data/*.csv'\n",
    "\n",
    "list_files=glob.glob(str_path+'*')\n",
    "\n",
    "list_df=[]\n",
    "for file in list_files:\n",
    "    df=pd.read_csv(file,error_bad_lines=False,lineterminator='\\n')\n",
    "    list_df.append(df)\n",
    "    \n",
    "df_final=pd.concat(list_df,ignore_index=True)\n",
    "# df_final=df_final.set_index('Facebook Id')\n",
    "# df_final = df_final[~df_final.index.duplicated(keep='first')]\n"
   ]
  },
  {
   "cell_type": "code",
   "execution_count": 5,
   "metadata": {
    "scrolled": true
   },
   "outputs": [
    {
     "name": "stderr",
     "output_type": "stream",
     "text": [
      "<ipython-input-5-90073d786471>:19: TqdmDeprecationWarning: This function will be removed in tqdm==5.0.0\n",
      "Please use `tqdm.notebook.tqdm` instead of `tqdm.tqdm_notebook`\n",
      "  for file in tqdm_notebook(files,total=len(files)):\n"
     ]
    },
    {
     "data": {
      "application/vnd.jupyter.widget-view+json": {
       "model_id": "135eba7e72fc41c4af2af7b485bae7bd",
       "version_major": 2,
       "version_minor": 0
      },
      "text/plain": [
       "  0%|          | 0/2 [00:00<?, ?it/s]"
      ]
     },
     "metadata": {},
     "output_type": "display_data"
    },
    {
     "name": "stderr",
     "output_type": "stream",
     "text": [
      "<ipython-input-5-90073d786471>:26: TqdmDeprecationWarning: This function will be removed in tqdm==5.0.0\n",
      "Please use `tqdm.notebook.tqdm` instead of `tqdm.tqdm_notebook`\n",
      "  for element in tqdm_notebook(Gab_keyword_match, total=len(Gab_keyword_match)):\n"
     ]
    },
    {
     "data": {
      "application/vnd.jupyter.widget-view+json": {
       "model_id": "d7b09025a9544d76bcc058f60f32c29d",
       "version_major": 2,
       "version_minor": 0
      },
      "text/plain": [
       "  0%|          | 0/100000 [00:00<?, ?it/s]"
      ]
     },
     "metadata": {},
     "output_type": "display_data"
    },
    {
     "data": {
      "application/vnd.jupyter.widget-view+json": {
       "model_id": "e30910f78ee14043a25b2a9c3d741dcb",
       "version_major": 2,
       "version_minor": 0
      },
      "text/plain": [
       "  0%|          | 0/91666 [00:00<?, ?it/s]"
      ]
     },
     "metadata": {},
     "output_type": "display_data"
    }
   ],
   "source": [
    "fear=0\n",
    "hate=0\n",
    "both=0\n",
    "total=0\n",
    "dict_per_date={}\n",
    "dict_post_meta_info={}\n",
    "dict_text_property={}\n",
    "dict_emoji={'fearspeech':{},'hatespeech':{},'both':{},'total':{}}\n",
    "dict_domain={'fearspeech':{},'hatespeech':{},'both':{},'total':{}}\n",
    "dict_hashtag={'fearspeech':{},'hatespeech':{},'both':{},'total':{}}\n",
    "\n",
    "\n",
    "key_dict={}\n",
    "\n",
    "posts=[]\n",
    "labels_all=[]\n",
    "dates_all=[]\n",
    "files = sorted(glob.glob('../../../../NewHd/Punyajoy_folders/works_2021/Fearspeech_Additional/Facebook_Data/*facebook*.pkl'))\n",
    "for file in tqdm_notebook(files,total=len(files)):\n",
    "    with open(file, 'rb') as handle:\n",
    "        Gab_keyword_match = pickle.load(handle)\n",
    "    \n",
    "    if('predicted_probab' not in Gab_keyword_match[0].keys()):\n",
    "        print(\"hello\")\n",
    "        break\n",
    "    for element in tqdm_notebook(Gab_keyword_match, total=len(Gab_keyword_match)):\n",
    "        \n",
    "        try:\n",
    "            dt = datetime.fromisoformat(df_final.loc[element['id']]['Post Created'][:-4])\n",
    "            key_new=str(dt.month)+'/'+str(dt.year)\n",
    "        except KeyError:\n",
    "            print(\"hello\")\n",
    "            continue\n",
    "        \n",
    "        try:\n",
    "            temp=dict_per_date[key_new]\n",
    "        except:\n",
    "            dict_per_date[key_new]={'fearspeech':0,'hatespeech':0,'both':0,'none':0,'total':0}\n",
    "\n",
    "        labels=[]\n",
    "        for i in range(len(element['predicted_probab'])):\n",
    "            if(element['predicted_probab'][i]>threshold[reverse_dict_labels[i]]):\n",
    "                labels.append(reverse_dict_labels[i])\n",
    "        \n",
    "        \n",
    "        if(('fearspeech' in labels) and ('hatespeech' in labels)):\n",
    "            dict_per_date[key_new]['both']+=1\n",
    "            posts.append(element['post_body'])\n",
    "            labels_all.append('both')\n",
    "            both+=1\n",
    "        elif('fearspeech' in labels):\n",
    "            dict_per_date[key_new]['fearspeech']+=1\n",
    "            posts.append(element['post_body'])\n",
    "            labels_all.append('fear')\n",
    "            fear+=1\n",
    "        elif('hatespeech' in labels):\n",
    "            dict_per_date[key_new]['hatespeech']+=1\n",
    "            posts.append(element['post_body'])\n",
    "            labels_all.append('hate')\n",
    "            hate+=1\n",
    "        else:\n",
    "            pass\n",
    "            posts.append(element['post_body'])\n",
    "            labels_all.append('none')\n",
    "        dates_all.append(str(dt.day)+'/'+str(dt.month)+'/'+str(dt.year))\n",
    "        dict_per_date[key_new]['total']+=1\n",
    "        total+=1"
   ]
  },
  {
   "cell_type": "code",
   "execution_count": 6,
   "metadata": {},
   "outputs": [
    {
     "name": "stdout",
     "output_type": "stream",
     "text": [
      "9320 196 0 191666\n"
     ]
    }
   ],
   "source": [
    "print(fear, hate, both,total)"
   ]
  },
  {
   "cell_type": "code",
   "execution_count": 33,
   "metadata": {},
   "outputs": [],
   "source": [
    "dict_per_date_normalised={}\n",
    "for key in dict_per_date:\n",
    "    dict_per_date_normalised[key]={'fearspeech':0,'hatespeech':0,'both':0,'none':0,'total':0}\n",
    "    for key1 in dict_per_date_normalised[key].keys():\n",
    "        dict_per_date_normalised[key][key1]=100*dict_per_date[key][key1]/(dict_per_date[key]['total'])        "
   ]
  },
  {
   "cell_type": "code",
   "execution_count": 34,
   "metadata": {},
   "outputs": [],
   "source": [
    "df=pd.DataFrame(dict_per_date_normalised).transpose()\n",
    "df.index=pd.to_datetime(df.index)"
   ]
  },
  {
   "cell_type": "code",
   "execution_count": 35,
   "metadata": {},
   "outputs": [
    {
     "data": {
      "image/png": "[encoded data removed]",
      "text/plain": [
       "<Figure size 1440x216 with 1 Axes>"
      ]
     },
     "metadata": {},
     "output_type": "display_data"
    }
   ],
   "source": [
    "import matplotlib\n",
    "matplotlib.rcParams['figure.figsize'] = (20, 3)\n",
    "\n",
    "sns.set(context='paper',style='whitegrid',font_scale=2.0, rc={\"lines.linewidth\": 2.0,\"lines.markersize\": 10})\n",
    "sns.lineplot(data = df[[\"fearspeech\"]],palette=['blue'],markers=['o'])\n",
    "plt.xlabel(\"Time\")\n",
    "plt.ylabel(\"% of fear speech\")\n",
    "path='../Results/fearspeech_temporal_facebook.pdf'\n",
    "plt.savefig(path,bbox_inches='tight',dpi=400)\n",
    "    "
   ]
  },
  {
   "cell_type": "code",
   "execution_count": 36,
   "metadata": {},
   "outputs": [
    {
     "data": {
      "text/plain": [
       "'Generations'"
      ]
     },
     "execution_count": 36,
     "metadata": {},
     "output_type": "execute_result"
    }
   ],
   "source": [
    "df_final.loc[element['id']].iloc[0]"
   ]
  },
  {
   "cell_type": "code",
   "execution_count": 38,
   "metadata": {},
   "outputs": [],
   "source": [
    "dataframe=pd.DataFrame({'post': posts,\n",
    "     'label': labels_all,\n",
    "     'date': dates_all\n",
    "    })"
   ]
  },
  {
   "cell_type": "code",
   "execution_count": 41,
   "metadata": {},
   "outputs": [
    {
     "name": "stdout",
     "output_type": "stream",
     "text": [
      "New Jersey, did you know that illegal aliens in your state are 440 percent more likely to end up in jail than citizens or lawfully present immigrants?\n",
      "Label:  fear\n",
      "Date: 14/1/2020\n",
      "-------------------------\n",
      "#Turkey says its released 47,000 migrants into #Europe. That us 47,000 on a #hijrah most are men of military age. https://www.trtworld.com/turkey/number-of-migrants-leaving-turkey-reaches-47-113-minister-34211\n",
      "Label:  fear\n",
      "Date: 29/2/2020\n",
      "-------------------------\n",
      "Your religious freedom is under attack, yet again, by the UN. Help us stop them. Sign and share. https://protectreligiousfreedoms.org/\n",
      "Label:  fear\n",
      "Date: 3/10/2020\n",
      "-------------------------\n",
      "As the world struggles to fight against an invisible enemy, another frightening threat is rising: Antisemitism. Throughout history, the Jewish people have been the scapegoat for may of the world's problems, datinng back to the black plague. For those who know history, you know that these lies had deadly consequences that resulted in the killing of millions of Jews, from the Inquisition, to the Progroms, to the Holocaust. Today, these same lies are reappearing on the fringes of the internet, becoming more mainstream by the day. As Christians, we MUST NOT allow this growing evil lie to spread. It is our BIBILICAL MANDATE to stand with our Jewish brothers and sisters and now, more than ever, we need to unite against this evil. WILL YOU STAND WITH US? LEARN MORE ABOUT PJTN'S FIGHT AGAINST ANTISEMITISM HERE: https://secure.anedot.com/pjtn/pjtn_watchman\n",
      "Label:  fear\n",
      "Date: 20/4/2020\n",
      "-------------------------\n",
      "WATCH CHURCH MILITANT EVENING NEWS 7pm ET at ChurchMilitant.com Satanists tell all:\n",
      "Label:  fear\n",
      "Date: 11/5/2022\n",
      "-------------------------\n",
      "Glazov Gang’s 2015 Episode of The Year: The Unknown — To Be Raped Under Islam. Anni Cyrus revealed the horror she endured under the Islamic Republic — and how she prevailed and is fighting back.\n",
      "Label:  fear\n",
      "Date: 18/1/2016\n",
      "-------------------------\n",
      "The invasion continues http://www.thegatewaypundit.com/2018/04/showdown-smaller-version-of-illegal-alien-caravan-with-unknown-\n",
      "Label:  fear\n",
      "Date: 5/4/2018\n",
      "-------------------------\n",
      "According to this prophetic view, nothing can be done to stop an end-time slaughter of the Jews. This popular prophecy system claims God is going to redeem His chosen people only after another bloody holocaust.\n",
      "Label:  fear\n",
      "Date: 18/9/2020\n",
      "-------------------------\n",
      "Terrorist attacks by border-crossers in North America were unheard of. So when Somali national Abdulahi Hasan Sharif rammed a vehicle into a police officer and stabbed him, it should have been a warning: What's happening in Europe can come here, too.\n",
      "Label:  fear\n",
      "Date: 3/10/2018\n",
      "-------------------------\n",
      "With global antisemitism on the rise and the Liberal Left attempting to indoctrinate our children and turn them against all the Judeo-Christian ideals we hold so dear, now more than ever it is time to take a STAND: https://buff.ly/3ocaV9m:=:https://secure.anedot.com/pjtn/pjtn_watchman\n",
      "Label:  fear\n",
      "Date: 17/6/2021\n",
      "-------------------------\n",
      "Thankfully these criminal aliens are off our streets now.\n",
      "Label:  fear\n",
      "Date: 29/3/2016\n",
      "-------------------------\n",
      "\"Illegal immigrants in growing numbers are flooding into so-called sanctuary cities and states where they are consuming up to $6,500 in taxpayer-funded services, according to a new review of costs in 10 small states...\"\n",
      "Label:  fear\n",
      "Date: 5/2/2020\n",
      "-------------------------\n",
      "Over population and illegal immigration put a strain on our natural resources, government services, and the environment we live in. Do you agree?\n",
      "Label:  fear\n",
      "Date: 30/9/2016\n",
      "-------------------------\n",
      "There’s a war on children, and Comprehensive Sexuality Education is being used to destroy their innocence. Explore how it works and why it is dangerous. https://www.comprehensivesexualityeducation.org/sexedreport/\n",
      "Label:  fear\n",
      "Date: 17/9/2020\n",
      "-------------------------\n",
      "Are You On God’s Team? | Pass the Salt Live | 12.11.2017 https://coachdavelive.com Listen folks, conservative is not Christian. Conservativism is pretend salt. It means nothing in the face of the truth of Christ. The satanic left is just as happy with conservatives as they are with their satanic kinsmen. They aren’t any different. It’s not about being “conservative” it’s about being Christian. The homos are science deniers. Clearly, it is a destructive, unhealthy lifestyle. According to the CDC (Center for Disease Control) that 70% of new HIV infections are from Gay and Bisexual men. Here’s the kicker, they account for 2% of the population. 2% of the population has 70% of the HIV. Healthy lifestyle? Perfectly acceptable? Really? How stupid are we? Told you so. Guess where all these “sexual assault” allegations are leading? That’s right, Trump’s doorstep. Now they are trying to take down trump with the same thing the luciferian left has been spewing about Roy Moore, and their own team. Open your eyes folks. They soften you open, then serve you the main course, and you don’t even know what happened. There are two teams in this game of life. There is God’s team and then everyone else. It’s pretty simple, but we still screw it up. God does not love everyone. He has a general concern and goodwill towards the world, but he does not love the world like he loves his family. If you have been adopted into the Kingdom of God, then you are loved DIFFERENTLY than the world. God does not love everyone. Hey, Pass the Salt. Contact Coach at: coach@coachdavelive.com Support Coach and Pass the Salt Ministries at: https://www.patreon.com/coachdavelive https://coachdavelive.com/donate\n",
      "Label:  fear\n",
      "Date: 11/12/2017\n",
      "-------------------------\n",
      "Yet another incentive for illegal aliens to come to the U.S.\n",
      "Label:  fear\n",
      "Date: 23/10/2016\n",
      "-------------------------\n",
      "A sick, hypersexual book being peddled to elementary schools showcases graphic deviancy to young children in full-color illustrations. If HR 5 passes, parents will not be able to protest, and our children’s innocence will be destroyed. Learn more. https://lc.org/newsroom/details/210611-this-is-not-perfectly-normal\n",
      "Label:  fear\n",
      "Date: 11/6/2021\n",
      "-------------------------\n",
      "\"An illegal alien gang member has pleaded guilty to murdering 33-year-old Newman, California, police officer Ronil Singh in December 2018 and will thus avoid the death penalty...\"\n",
      "Label:  fear\n",
      "Date: 29/11/2020\n",
      "-------------------------\n",
      "\"As leftist politicians continue to defend illegal immigration here in the U.S., some are looking to South Africa as evidence of the devastating effects of mass migration.\"\n",
      "Label:  fear\n",
      "Date: 28/5/2018\n",
      "-------------------------\n",
      "Most attention goes to illegal aliens crossing by land, but data shows rising numbers trying to come by water.\n",
      "Label:  fear\n",
      "Date: 14/1/2021\n",
      "-------------------------\n",
      "The deeper you look into the facts surrounding the attendees, the more obvious it becomes. #dirtytricks #setup\n",
      "Label:  fear\n",
      "Date: 29/7/2018\n",
      "-------------------------\n",
      "Islamic State barbarity not limited to fighters and children in the quest to follow the Shariah Islamiyya. Read on. https://www.clarionproject.org/news/isis-biting-women-death-metal-torture-devices:=:https://clarionproject.org/isis-biting-women-to-death-with-metal-torture-devices/\n",
      "Label:  fear\n",
      "Date: 7/2/2017\n",
      "-------------------------\n",
      "\"The result will be more violent criminals living among us, and the cost will be paid through lives and bloodshed...\" The latest from IRLI's executive director and general counsel, Dale Wilcox.\n",
      "Label:  fear\n",
      "Date: 21/7/2020\n",
      "-------------------------\n",
      "Chain migration is what happens when migrants bring their family members and relatives to the United States. Legalizing millions of illegal immigrants has a compounding effect. Learn more: capsweb.org\n",
      "Label:  fear\n",
      "Date: 9/12/2021\n",
      "-------------------------\n",
      "On April 27, 2002, Ronald da Silva was standing with a friend in his driveway when he was shot and killed by an illegal alien who had been previously deported. The illegal alien was sentenced to 21 years in prison but will be released in 2020. Ronald da Silva’s mother, Agnes Gibboney, has made a powerful statement, “The guy that killed my son has a determinate sentence in prison but I have a lifetime sentence of grief and pain.” Since the tragedy occurred, Agnes has been on the front line pushing for immigration reform.\n",
      "Label:  fear\n",
      "Date: 23/12/2020\n",
      "-------------------------\n",
      "Glazov Gang: The Globalists’ Takedown of Humanity Via Technocracy. A harrowing glimpse at the global elitists’ plan to rip the world apart and rule it.\n",
      "Label:  fear\n",
      "Date: 3/10/2022\n",
      "-------------------------\n",
      "Today's saint - St. James Intercisus, pray for us! James was a favorite of King Yezdigerd I of Persia and a Christian. He abandoned his religion when Yesdigerd launched a persecution of the Christians. When the king died, James repented of his apostasy and declared himself to be a Christian to the new king, Bahram. When James refused to apostatize, he was executed by having his body cut apart piece by piece, beginning with his fingers (hence his surname Intercisus - cut to pieces), and then beheaded. His feast day is November 27. #catholic #catholics #catholicfaith #catholicsaint #catholicsaints #todayssaint #saintoftheday #romancatholic #romancatholics #romancatholicsaint #romancatholicsaints #catholicsaintoftheday #religious #latinmass #mass #fssp #church #catholictradition #traditions #tridentinemass #jesus #christ #feastday #catholicism www.churchmilitant.com\n",
      "Label:  fear\n",
      "Date: 27/11/2018\n",
      "-------------------------\n",
      "In the first nine months of the year, Indian southern states have reported at least 60 cases of attacks against Christians, compared to 36 cases this time last year, according to Alliance Defending Freedom. Via: CBN News\n",
      "Label:  fear\n",
      "Date: 11/10/2018\n",
      "-------------------------\n",
      "We're losing jobs in America and we still have high levels of immigration. Do you see something wrong with this picture?\n",
      "Label:  fear\n",
      "Date: 21/8/2016\n",
      "-------------------------\n",
      "This is an invasion!\n",
      "Label:  fear\n",
      "Date: 25/11/2018\n",
      "-------------------------\n",
      "What is happening with the coronavirus? \"The Chinese government is downplaying the seriousness of this threat. Also, the number of infections and deaths.\" Gordon Chang, foreign affairs journalist. Listen here: https://bit.ly/39seocE:=:https://soundcloud.com/family-research-council/gordon-chang-on-chinas-mishandling-of-the-new-strain-of-coronavirus\n",
      "Label:  fear\n",
      "Date: 11/2/2020\n",
      "-------------------------\n",
      "Hamas exposed on American college campuses!\n",
      "Label:  fear\n",
      "Date: 18/1/2020\n",
      "-------------------------\n",
      "Germany has reason to be on high alert, considering the influx of terror attacks they have endured these past months.\n",
      "Label:  fear\n",
      "Date: 10/8/2016\n",
      "-------------------------\n",
      "A new video from The Daily Caller showing illegal aliens pouring across the border reminds us why we need a wall. Technologies and adequate manpower are well and good, but the best defense is always to prevent individuals from entering in the first place.\n",
      "Label:  fear\n",
      "Date: 10/9/2018\n",
      "-------------------------\n",
      "In the U.S., some governors and other politicians have warned against moving fast to bring in the refugees, concerned that poor vetting could let in terrorists.\n",
      "Label:  fear\n",
      "Date: 17/8/2016\n",
      "-------------------------\n"
     ]
    }
   ],
   "source": [
    "dataframe_sub=dataframe.dropna(axis=0)\n",
    "\n",
    "\n",
    "for index,row in dataframe_sub[dataframe_sub['label']=='fear'].sample(100).iterrows():\n",
    "    if('jihad' in row['post'].lower() or 'muslim' in row['post'].lower()):\n",
    "        pass\n",
    "    else:\n",
    "        print(row['post'])\n",
    "        print(\"Label: \",row['label'])\n",
    "        print(\"Date:\", row['date'])\n",
    "        print(\"-------------------------\")\n",
    "        "
   ]
  },
  {
   "cell_type": "code",
   "execution_count": null,
   "metadata": {},
   "outputs": [],
   "source": []
  },
  {
   "cell_type": "code",
   "execution_count": null,
   "metadata": {},
   "outputs": [],
   "source": [
    "1st one annotated dataset in Gab \n",
    "2nd one closest in similarity in Twitte"
   ]
  },
  {
   "cell_type": "code",
   "execution_count": null,
   "metadata": {},
   "outputs": [],
   "source": []
  },
  {
   "cell_type": "code",
   "execution_count": null,
   "metadata": {},
   "outputs": [],
   "source": []
  },
  {
   "cell_type": "code",
   "execution_count": null,
   "metadata": {},
   "outputs": [],
   "source": []
  },
  {
   "cell_type": "code",
   "execution_count": null,
   "metadata": {},
   "outputs": [],
   "source": [
    "df_final"
   ]
  },
  {
   "cell_type": "code",
   "execution_count": 7,
   "metadata": {},
   "outputs": [
    {
     "ename": "NameError",
     "evalue": "name 'df_final' is not defined",
     "output_type": "error",
     "traceback": [
      "\u001b[0;31m---------------------------------------------------------------------------\u001b[0m",
      "\u001b[0;31mNameError\u001b[0m                                 Traceback (most recent call last)",
      "\u001b[0;32m<ipython-input-7-0789a5ac8564>\u001b[0m in \u001b[0;36m<module>\u001b[0;34m\u001b[0m\n\u001b[0;32m----> 1\u001b[0;31m \u001b[0mdatetime\u001b[0m\u001b[0;34m.\u001b[0m\u001b[0mfromisoformat\u001b[0m\u001b[0;34m(\u001b[0m\u001b[0mdf_final\u001b[0m\u001b[0;34m.\u001b[0m\u001b[0mloc\u001b[0m\u001b[0;34m[\u001b[0m\u001b[0;36m0\u001b[0m\u001b[0;34m]\u001b[0m\u001b[0;34m[\u001b[0m\u001b[0;34m'Post Created'\u001b[0m\u001b[0;34m]\u001b[0m\u001b[0;34m[\u001b[0m\u001b[0;34m:\u001b[0m\u001b[0;34m-\u001b[0m\u001b[0;36m4\u001b[0m\u001b[0;34m]\u001b[0m\u001b[0;34m)\u001b[0m\u001b[0;34m\u001b[0m\u001b[0;34m\u001b[0m\u001b[0m\n\u001b[0m",
      "\u001b[0;31mNameError\u001b[0m: name 'df_final' is not defined"
     ]
    }
   ],
   "source": [
    "datetime.fromisoformat(df_final.loc[0]['Post Created'][:-4])"
   ]
  },
  {
   "cell_type": "code",
   "execution_count": null,
   "metadata": {},
   "outputs": [],
   "source": [
    "df_final"
   ]
  },
  {
   "cell_type": "code",
   "execution_count": null,
   "metadata": {},
   "outputs": [],
   "source": []
  }
 ],
 "metadata": {
  "kernelspec": {
   "display_name": "Python [conda env:.conda-punyajoy_gpu] *",
   "language": "python",
   "name": "conda-env-.conda-punyajoy_gpu-py"
  },
  "language_info": {
   "codemirror_mode": {
    "name": "ipython",
    "version": 3
   },
   "file_extension": ".py",
   "mimetype": "text/x-python",
   "name": "python",
   "nbconvert_exporter": "python",
   "pygments_lexer": "ipython3",
   "version": "3.8.5"
  }
 },
 "nbformat": 4,
 "nbformat_minor": 4
}
