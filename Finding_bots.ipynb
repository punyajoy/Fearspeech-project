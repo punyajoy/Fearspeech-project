{
 "cells": [
  {
   "cell_type": "code",
   "execution_count": 5,
   "metadata": {},
   "outputs": [],
   "source": [
    "from networkit import *\n",
    "import glob\n",
    "from tqdm import tqdm_notebook\n",
    "import networkit as nx\n",
    "import json\n",
    "import pandas as pd\n",
    "import matplotlib.pyplot as plt\n",
    "import seaborn as sns\n",
    "import matplotlib\n",
    "import datetime\n",
    "import pickle5 as pickle\n",
    "from glob import glob\n",
    "from datetime import datetime\n",
    "import numpy as np"
   ]
  },
  {
   "cell_type": "code",
   "execution_count": 2,
   "metadata": {},
   "outputs": [],
   "source": [
    "nx.setNumberOfThreads(20)\n",
    "nx.setLogLevel(\"TRACE\")"
   ]
  },
  {
   "cell_type": "code",
   "execution_count": 3,
   "metadata": {},
   "outputs": [],
   "source": [
    "with open('../user_details.json') as fp:\n",
    "    dict_users_original = json.load(fp)\n",
    "with open('../Networks/interaction_network_per_month.json', 'rb') as fp:\n",
    "    data = pickle.load(fp)\n",
    "with open('../Networks/kcore_temportal.json', 'rb') as fp:\n",
    "    monthwise_kcore_dict = pickle.load(fp)  \n",
    "with open('../Networks/map_dict_kcore.json', 'rb') as fp:\n",
    "    map_dict_kcore = pickle.load(fp)  \n",
    "    \n",
    "df_user_label=pd.read_csv('../Results/user_labelling.csv')\n",
    "all_normal_dict={key:1 for key in list(df_user_label[df_user_label['label']=='normal']['user_key'])}\n",
    "# df_matched=pd.read_csv('../Results/matched.csv')\n",
    "df_matched=pd.read_csv('../Results/matched_fear_hate.csv')\n"
   ]
  },
  {
   "cell_type": "code",
   "execution_count": null,
   "metadata": {},
   "outputs": [],
   "source": []
  },
  {
   "cell_type": "markdown",
   "metadata": {},
   "source": [
    "### Folllower following ratio"
   ]
  },
  {
   "cell_type": "code",
   "execution_count": null,
   "metadata": {},
   "outputs": [],
   "source": []
  },
  {
   "cell_type": "code",
   "execution_count": null,
   "metadata": {},
   "outputs": [],
   "source": []
  },
  {
   "cell_type": "code",
   "execution_count": null,
   "metadata": {},
   "outputs": [],
   "source": []
  },
  {
   "cell_type": "markdown",
   "metadata": {},
   "source": [
    "### Average messages per day"
   ]
  },
  {
   "cell_type": "code",
   "execution_count": 6,
   "metadata": {},
   "outputs": [
    {
     "name": "stderr",
     "output_type": "stream",
     "text": [
      "/home/punyajoy/.conda/envs/nlp/lib/python3.7/site-packages/ipykernel_launcher.py:5: TqdmDeprecationWarning: This function will be removed in tqdm==5.0.0\n",
      "Please use `tqdm.notebook.tqdm` instead of `tqdm.tqdm_notebook`\n",
      "  \"\"\"\n"
     ]
    },
    {
     "data": {
      "application/vnd.jupyter.widget-view+json": {
       "model_id": "20444309cc504c528c384a7ff83bff48",
       "version_major": 2,
       "version_minor": 0
      },
      "text/plain": [
       "HBox(children=(FloatProgress(value=0.0, max=212.0), HTML(value='')))"
      ]
     },
     "metadata": {},
     "output_type": "display_data"
    },
    {
     "name": "stdout",
     "output_type": "stream",
     "text": [
      "\n"
     ]
    }
   ],
   "source": [
    "dict_users={}\n",
    "files = sorted(glob('../../Gab_Data/new_features_old_gab/gab_fear_hate_features*.pickle'))\n",
    "dict_date={}\n",
    "\n",
    "for file in tqdm_notebook(files,total=len(files)):\n",
    "    \n",
    "    with open(file, 'rb') as handle:\n",
    "        Gab_keyword_match = pickle.load(handle)\n",
    "    \n",
    "    if('predicted_probab' not in Gab_keyword_match[1].keys()):\n",
    "        continue\n",
    "    for element in Gab_keyword_match:\n",
    "        \n",
    "        \n",
    "        try:\n",
    "            dt = datetime.fromisoformat(element['post_create_time'])\n",
    "            key_new=str(dt.day)+'/'+str(dt.month)+'/'+str(dt.year)\n",
    "            \n",
    "            try:\n",
    "                dict_date[key_new]+=1\n",
    "            except KeyError:\n",
    "                dict_date[key_new]=1\n",
    "            \n",
    "        except KeyError:\n",
    "            continue\n",
    "\n",
    "        \n",
    "        try:\n",
    "            dict_users[element['username']][key_new]+=1\n",
    "        except KeyError:\n",
    "            try:\n",
    "                dict_users[element['username']][key_new]=1\n",
    "            except KeyError:\n",
    "                dict_users[element['username']]={}\n",
    "                dict_users[element['username']][key_new]=1\n",
    "        \n",
    "#         try:\n",
    "#             for label in labels:\n",
    "#                 dict_users_ambi[element['username']][label]+=1\n",
    "#             dict_users_ambi[element['username']]['total']+=1\n",
    "#         except KeyError:\n",
    "#             dict_users_ambi[element['username']]={'fearspeech':0,'hatespeech':0,'normal':0,'total':0}\n",
    "#             for label in labels:\n",
    "#                 dict_users_ambi[element['username']][label]+=1\n",
    "#             dict_users_ambi[element['username']]['total']+=1\n",
    "\n",
    "            "
   ]
  },
  {
   "cell_type": "code",
   "execution_count": 7,
   "metadata": {},
   "outputs": [
    {
     "name": "stderr",
     "output_type": "stream",
     "text": [
      "/home/punyajoy/.conda/envs/nlp/lib/python3.7/site-packages/ipykernel_launcher.py:1: TqdmDeprecationWarning: This function will be removed in tqdm==5.0.0\n",
      "Please use `tqdm.notebook.tqdm` instead of `tqdm.tqdm_notebook`\n",
      "  \"\"\"Entry point for launching an IPython kernel.\n"
     ]
    },
    {
     "data": {
      "application/vnd.jupyter.widget-view+json": {
       "model_id": "950668049dbf4f2bba768f05a2e5a739",
       "version_major": 2,
       "version_minor": 0
      },
      "text/plain": [
       "HBox(children=(FloatProgress(value=0.0, max=172917.0), HTML(value='')))"
      ]
     },
     "metadata": {},
     "output_type": "display_data"
    },
    {
     "name": "stdout",
     "output_type": "stream",
     "text": [
      "\n"
     ]
    }
   ],
   "source": [
    "for user in tqdm_notebook(dict_users, total=len(dict_users)):\n",
    "    for date in dict_date:\n",
    "        try:\n",
    "            temp=dict_users[user][date]\n",
    "        except KeyError:\n",
    "            dict_users[user][date]=0\n",
    "        "
   ]
  },
  {
   "cell_type": "code",
   "execution_count": 9,
   "metadata": {},
   "outputs": [],
   "source": [
    "average_messages=[]\n",
    "for user in dict_users:\n",
    "    avg_message=np.mean(list(dict_users[user].values()))\n",
    "    average_messages.append(avg_message)\n",
    "    "
   ]
  },
  {
   "cell_type": "code",
   "execution_count": 10,
   "metadata": {},
   "outputs": [],
   "source": [
    "count=0\n",
    "for avg_msg in average_messages:\n",
    "    if(avg_msg>3):\n",
    "        count+=1"
   ]
  },
  {
   "cell_type": "code",
   "execution_count": 11,
   "metadata": {},
   "outputs": [
    {
     "data": {
      "text/plain": [
       "0.012896360681714349"
      ]
     },
     "execution_count": 11,
     "metadata": {},
     "output_type": "execute_result"
    }
   ],
   "source": [
    "count/len(average_messages)"
   ]
  },
  {
   "cell_type": "code",
   "execution_count": null,
   "metadata": {},
   "outputs": [],
   "source": [
    "dict_users_filter={}\n",
    "max_fear=0\n",
    "max_hate=0\n",
    "for key in dict_users.keys():\n",
    "    user=dict_users[key]\n",
    "    total=user['fearspeech']+user['hatespeech']\n",
    "    \n",
    "    if(user['fearspeech']>max_fear):\n",
    "        max_fear=user['fearspeech']\n",
    "    \n",
    "    if(user['hatespeech']>max_hate):\n",
    "        max_hate=user['hatespeech']\n",
    "    \n",
    "    if(total>=10):\n",
    "        dict_users_filter[key]=user\n",
    "        dict_users_filter[key]['name']=key\n"
   ]
  }
 ],
 "metadata": {
  "kernelspec": {
   "display_name": "Python [conda env:.conda-nlp]",
   "language": "python",
   "name": "conda-env-.conda-nlp-py"
  },
  "language_info": {
   "codemirror_mode": {
    "name": "ipython",
    "version": 3
   },
   "file_extension": ".py",
   "mimetype": "text/x-python",
   "name": "python",
   "nbconvert_exporter": "python",
   "pygments_lexer": "ipython3",
   "version": "3.7.9"
  }
 },
 "nbformat": 4,
 "nbformat_minor": 4
}
